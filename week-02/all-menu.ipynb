{
 "cells": [
  {
   "cell_type": "code",
   "execution_count": 320,
   "metadata": {},
   "outputs": [],
   "source": [
    "import pandas as pd\n",
    "import numpy as np"
   ]
  },
  {
   "cell_type": "code",
   "execution_count": 321,
   "metadata": {},
   "outputs": [],
   "source": [
    "df = pd.read_csv('./all-menu.csv')"
   ]
  },
  {
   "cell_type": "code",
   "execution_count": 322,
   "metadata": {},
   "outputs": [
    {
     "data": {
      "text/html": [
       "<div>\n",
       "<style scoped>\n",
       "    .dataframe tbody tr th:only-of-type {\n",
       "        vertical-align: middle;\n",
       "    }\n",
       "\n",
       "    .dataframe tbody tr th {\n",
       "        vertical-align: top;\n",
       "    }\n",
       "\n",
       "    .dataframe thead th {\n",
       "        text-align: right;\n",
       "    }\n",
       "</style>\n",
       "<table border=\"1\" class=\"dataframe\">\n",
       "  <thead>\n",
       "    <tr style=\"text-align: right;\">\n",
       "      <th></th>\n",
       "      <th>Beverage_category</th>\n",
       "      <th>Beverage</th>\n",
       "      <th>Beverage_prep</th>\n",
       "      <th>Calories</th>\n",
       "      <th>Total Fat (g)</th>\n",
       "      <th>Trans Fat (g)</th>\n",
       "      <th>Saturated Fat (g)</th>\n",
       "      <th>Sodium (mg)</th>\n",
       "      <th>Total Carbohydrates (g)</th>\n",
       "      <th>Cholesterol (mg)</th>\n",
       "      <th>Dietary Fibre (g)</th>\n",
       "      <th>Sugars (g)</th>\n",
       "      <th>Protein (g)</th>\n",
       "      <th>Vitamin A (% DV)</th>\n",
       "      <th>Vitamin C (% DV)</th>\n",
       "      <th>Calcium (% DV)</th>\n",
       "      <th>Iron (% DV)</th>\n",
       "      <th>Caffeine (mg)</th>\n",
       "    </tr>\n",
       "  </thead>\n",
       "  <tbody>\n",
       "    <tr>\n",
       "      <th>0</th>\n",
       "      <td>Coffee</td>\n",
       "      <td>Brewed Coffee</td>\n",
       "      <td>Short</td>\n",
       "      <td>3</td>\n",
       "      <td>0.1</td>\n",
       "      <td>0.0</td>\n",
       "      <td>0.0</td>\n",
       "      <td>0</td>\n",
       "      <td>5</td>\n",
       "      <td>0</td>\n",
       "      <td>0</td>\n",
       "      <td>0</td>\n",
       "      <td>0.3</td>\n",
       "      <td>0%</td>\n",
       "      <td>0%</td>\n",
       "      <td>0%</td>\n",
       "      <td>0%</td>\n",
       "      <td>175</td>\n",
       "    </tr>\n",
       "    <tr>\n",
       "      <th>1</th>\n",
       "      <td>Coffee</td>\n",
       "      <td>Brewed Coffee</td>\n",
       "      <td>Tall</td>\n",
       "      <td>4</td>\n",
       "      <td>0.1</td>\n",
       "      <td>0.0</td>\n",
       "      <td>0.0</td>\n",
       "      <td>0</td>\n",
       "      <td>10</td>\n",
       "      <td>0</td>\n",
       "      <td>0</td>\n",
       "      <td>0</td>\n",
       "      <td>0.5</td>\n",
       "      <td>0%</td>\n",
       "      <td>0%</td>\n",
       "      <td>0%</td>\n",
       "      <td>0%</td>\n",
       "      <td>260</td>\n",
       "    </tr>\n",
       "    <tr>\n",
       "      <th>2</th>\n",
       "      <td>Coffee</td>\n",
       "      <td>Brewed Coffee</td>\n",
       "      <td>Grande</td>\n",
       "      <td>5</td>\n",
       "      <td>0.1</td>\n",
       "      <td>0.0</td>\n",
       "      <td>0.0</td>\n",
       "      <td>0</td>\n",
       "      <td>10</td>\n",
       "      <td>0</td>\n",
       "      <td>0</td>\n",
       "      <td>0</td>\n",
       "      <td>1.0</td>\n",
       "      <td>0%</td>\n",
       "      <td>0%</td>\n",
       "      <td>0%</td>\n",
       "      <td>0%</td>\n",
       "      <td>330</td>\n",
       "    </tr>\n",
       "    <tr>\n",
       "      <th>3</th>\n",
       "      <td>Coffee</td>\n",
       "      <td>Brewed Coffee</td>\n",
       "      <td>Venti</td>\n",
       "      <td>5</td>\n",
       "      <td>0.1</td>\n",
       "      <td>0.0</td>\n",
       "      <td>0.0</td>\n",
       "      <td>0</td>\n",
       "      <td>10</td>\n",
       "      <td>0</td>\n",
       "      <td>0</td>\n",
       "      <td>0</td>\n",
       "      <td>1.0</td>\n",
       "      <td>0%</td>\n",
       "      <td>0%</td>\n",
       "      <td>2%</td>\n",
       "      <td>0%</td>\n",
       "      <td>410</td>\n",
       "    </tr>\n",
       "    <tr>\n",
       "      <th>4</th>\n",
       "      <td>Classic Espresso Drinks</td>\n",
       "      <td>Caffè Latte</td>\n",
       "      <td>Short Nonfat Milk</td>\n",
       "      <td>70</td>\n",
       "      <td>0.1</td>\n",
       "      <td>0.1</td>\n",
       "      <td>0.0</td>\n",
       "      <td>5</td>\n",
       "      <td>75</td>\n",
       "      <td>10</td>\n",
       "      <td>0</td>\n",
       "      <td>9</td>\n",
       "      <td>6.0</td>\n",
       "      <td>10%</td>\n",
       "      <td>0%</td>\n",
       "      <td>20%</td>\n",
       "      <td>0%</td>\n",
       "      <td>75</td>\n",
       "    </tr>\n",
       "  </tbody>\n",
       "</table>\n",
       "</div>"
      ],
      "text/plain": [
       "         Beverage_category       Beverage      Beverage_prep  Calories  \\\n",
       "0                   Coffee  Brewed Coffee              Short         3   \n",
       "1                   Coffee  Brewed Coffee               Tall         4   \n",
       "2                   Coffee  Brewed Coffee             Grande         5   \n",
       "3                   Coffee  Brewed Coffee              Venti         5   \n",
       "4  Classic Espresso Drinks    Caffè Latte  Short Nonfat Milk        70   \n",
       "\n",
       "   Total Fat (g)  Trans Fat (g)   Saturated Fat (g)   Sodium (mg)  \\\n",
       "0            0.1             0.0                0.0             0   \n",
       "1            0.1             0.0                0.0             0   \n",
       "2            0.1             0.0                0.0             0   \n",
       "3            0.1             0.0                0.0             0   \n",
       "4            0.1             0.1                0.0             5   \n",
       "\n",
       "    Total Carbohydrates (g)   Cholesterol (mg)   Dietary Fibre (g)  \\\n",
       "0                          5                 0                   0   \n",
       "1                         10                 0                   0   \n",
       "2                         10                 0                   0   \n",
       "3                         10                 0                   0   \n",
       "4                         75                10                   0   \n",
       "\n",
       "    Sugars (g)   Protein (g)  Vitamin A (% DV)  Vitamin C (% DV)  \\\n",
       "0            0            0.3                0%               0%   \n",
       "1            0            0.5                0%               0%   \n",
       "2            0            1.0                0%               0%   \n",
       "3            0            1.0                0%               0%   \n",
       "4            9            6.0               10%               0%   \n",
       "\n",
       "   Calcium (% DV)  Iron (% DV)  Caffeine (mg)  \n",
       "0               0%           0%           175  \n",
       "1               0%           0%           260  \n",
       "2               0%           0%           330  \n",
       "3               2%           0%           410  \n",
       "4              20%           0%            75  "
      ]
     },
     "execution_count": 322,
     "metadata": {},
     "output_type": "execute_result"
    }
   ],
   "source": [
    "df.head(5)"
   ]
  },
  {
   "cell_type": "code",
   "execution_count": 323,
   "metadata": {},
   "outputs": [
    {
     "data": {
      "text/html": [
       "<div>\n",
       "<style scoped>\n",
       "    .dataframe tbody tr th:only-of-type {\n",
       "        vertical-align: middle;\n",
       "    }\n",
       "\n",
       "    .dataframe tbody tr th {\n",
       "        vertical-align: top;\n",
       "    }\n",
       "\n",
       "    .dataframe thead th {\n",
       "        text-align: right;\n",
       "    }\n",
       "</style>\n",
       "<table border=\"1\" class=\"dataframe\">\n",
       "  <thead>\n",
       "    <tr style=\"text-align: right;\">\n",
       "      <th></th>\n",
       "      <th>Beverage_category</th>\n",
       "      <th>Beverage</th>\n",
       "      <th>Beverage_prep</th>\n",
       "      <th>Calories</th>\n",
       "      <th>Total Fat (g)</th>\n",
       "      <th>Trans Fat (g)</th>\n",
       "      <th>Saturated Fat (g)</th>\n",
       "      <th>Sodium (mg)</th>\n",
       "      <th>Total Carbohydrates (g)</th>\n",
       "      <th>Cholesterol (mg)</th>\n",
       "      <th>Dietary Fibre (g)</th>\n",
       "      <th>Sugars (g)</th>\n",
       "      <th>Protein (g)</th>\n",
       "      <th>Vitamin A (% DV)</th>\n",
       "      <th>Vitamin C (% DV)</th>\n",
       "      <th>Calcium (% DV)</th>\n",
       "      <th>Iron (% DV)</th>\n",
       "      <th>Caffeine (mg)</th>\n",
       "    </tr>\n",
       "  </thead>\n",
       "  <tbody>\n",
       "    <tr>\n",
       "      <th>237</th>\n",
       "      <td>Frappuccino® Blended Crème</td>\n",
       "      <td>Strawberries &amp; Crème (Without Whipped Cream)</td>\n",
       "      <td>Soymilk</td>\n",
       "      <td>320</td>\n",
       "      <td>3 2</td>\n",
       "      <td>0.4</td>\n",
       "      <td>0.0</td>\n",
       "      <td>0</td>\n",
       "      <td>250</td>\n",
       "      <td>67</td>\n",
       "      <td>1</td>\n",
       "      <td>64</td>\n",
       "      <td>5.0</td>\n",
       "      <td>6%</td>\n",
       "      <td>8%</td>\n",
       "      <td>20%</td>\n",
       "      <td>10%</td>\n",
       "      <td>0</td>\n",
       "    </tr>\n",
       "    <tr>\n",
       "      <th>238</th>\n",
       "      <td>Frappuccino® Blended Crème</td>\n",
       "      <td>Vanilla Bean (Without Whipped Cream)</td>\n",
       "      <td>Tall Nonfat Milk</td>\n",
       "      <td>170</td>\n",
       "      <td>0.1</td>\n",
       "      <td>0.1</td>\n",
       "      <td>0.0</td>\n",
       "      <td>0</td>\n",
       "      <td>160</td>\n",
       "      <td>39</td>\n",
       "      <td>0</td>\n",
       "      <td>38</td>\n",
       "      <td>4.0</td>\n",
       "      <td>6%</td>\n",
       "      <td>0%</td>\n",
       "      <td>10%</td>\n",
       "      <td>0%</td>\n",
       "      <td>0</td>\n",
       "    </tr>\n",
       "    <tr>\n",
       "      <th>239</th>\n",
       "      <td>Frappuccino® Blended Crème</td>\n",
       "      <td>Vanilla Bean (Without Whipped Cream)</td>\n",
       "      <td>Whole Milk</td>\n",
       "      <td>200</td>\n",
       "      <td>3.5</td>\n",
       "      <td>2.0</td>\n",
       "      <td>0.1</td>\n",
       "      <td>10</td>\n",
       "      <td>160</td>\n",
       "      <td>39</td>\n",
       "      <td>0</td>\n",
       "      <td>38</td>\n",
       "      <td>3.0</td>\n",
       "      <td>6%</td>\n",
       "      <td>0%</td>\n",
       "      <td>10%</td>\n",
       "      <td>0%</td>\n",
       "      <td>0</td>\n",
       "    </tr>\n",
       "    <tr>\n",
       "      <th>240</th>\n",
       "      <td>Frappuccino® Blended Crème</td>\n",
       "      <td>Vanilla Bean (Without Whipped Cream)</td>\n",
       "      <td>Soymilk</td>\n",
       "      <td>180</td>\n",
       "      <td>1.5</td>\n",
       "      <td>0.2</td>\n",
       "      <td>0.0</td>\n",
       "      <td>0</td>\n",
       "      <td>160</td>\n",
       "      <td>37</td>\n",
       "      <td>1</td>\n",
       "      <td>35</td>\n",
       "      <td>3.0</td>\n",
       "      <td>4%</td>\n",
       "      <td>0%</td>\n",
       "      <td>10%</td>\n",
       "      <td>6%</td>\n",
       "      <td>0</td>\n",
       "    </tr>\n",
       "    <tr>\n",
       "      <th>241</th>\n",
       "      <td>Frappuccino® Blended Crème</td>\n",
       "      <td>Vanilla Bean (Without Whipped Cream)</td>\n",
       "      <td>Grande Nonfat Milk</td>\n",
       "      <td>240</td>\n",
       "      <td>0.1</td>\n",
       "      <td>0.1</td>\n",
       "      <td>0.0</td>\n",
       "      <td>5</td>\n",
       "      <td>230</td>\n",
       "      <td>56</td>\n",
       "      <td>0</td>\n",
       "      <td>55</td>\n",
       "      <td>5.0</td>\n",
       "      <td>8%</td>\n",
       "      <td>0%</td>\n",
       "      <td>15%</td>\n",
       "      <td>0%</td>\n",
       "      <td>0</td>\n",
       "    </tr>\n",
       "  </tbody>\n",
       "</table>\n",
       "</div>"
      ],
      "text/plain": [
       "              Beverage_category                                      Beverage  \\\n",
       "237  Frappuccino® Blended Crème  Strawberries & Crème (Without Whipped Cream)   \n",
       "238  Frappuccino® Blended Crème          Vanilla Bean (Without Whipped Cream)   \n",
       "239  Frappuccino® Blended Crème          Vanilla Bean (Without Whipped Cream)   \n",
       "240  Frappuccino® Blended Crème          Vanilla Bean (Without Whipped Cream)   \n",
       "241  Frappuccino® Blended Crème          Vanilla Bean (Without Whipped Cream)   \n",
       "\n",
       "          Beverage_prep  Calories  Total Fat (g)  Trans Fat (g)   \\\n",
       "237             Soymilk       320            3 2             0.4   \n",
       "238    Tall Nonfat Milk       170            0.1             0.1   \n",
       "239          Whole Milk       200            3.5             2.0   \n",
       "240             Soymilk       180            1.5             0.2   \n",
       "241  Grande Nonfat Milk       240            0.1             0.1   \n",
       "\n",
       "     Saturated Fat (g)   Sodium (mg)   Total Carbohydrates (g)   \\\n",
       "237                0.0             0                        250   \n",
       "238                0.0             0                        160   \n",
       "239                0.1            10                        160   \n",
       "240                0.0             0                        160   \n",
       "241                0.0             5                        230   \n",
       "\n",
       "     Cholesterol (mg)   Dietary Fibre (g)   Sugars (g)   Protein (g)   \\\n",
       "237                67                   1           64            5.0   \n",
       "238                39                   0           38            4.0   \n",
       "239                39                   0           38            3.0   \n",
       "240                37                   1           35            3.0   \n",
       "241                56                   0           55            5.0   \n",
       "\n",
       "    Vitamin A (% DV)  Vitamin C (% DV)  Calcium (% DV)  Iron (% DV)   \\\n",
       "237                6%               8%              20%          10%   \n",
       "238                6%               0%              10%           0%   \n",
       "239                6%               0%              10%           0%   \n",
       "240                4%               0%              10%           6%   \n",
       "241                8%               0%              15%           0%   \n",
       "\n",
       "    Caffeine (mg)  \n",
       "237             0  \n",
       "238             0  \n",
       "239             0  \n",
       "240             0  \n",
       "241             0  "
      ]
     },
     "execution_count": 323,
     "metadata": {},
     "output_type": "execute_result"
    }
   ],
   "source": [
    "df.tail(5)"
   ]
  },
  {
   "cell_type": "code",
   "execution_count": 324,
   "metadata": {},
   "outputs": [
    {
     "data": {
      "text/plain": [
       "(242, 18)"
      ]
     },
     "execution_count": 324,
     "metadata": {},
     "output_type": "execute_result"
    }
   ],
   "source": [
    "df.shape"
   ]
  },
  {
   "cell_type": "code",
   "execution_count": 325,
   "metadata": {},
   "outputs": [
    {
     "data": {
      "text/plain": [
       "Index(['Beverage_category', 'Beverage', 'Beverage_prep', 'Calories',\n",
       "       ' Total Fat (g)', 'Trans Fat (g) ', 'Saturated Fat (g)', ' Sodium (mg)',\n",
       "       ' Total Carbohydrates (g) ', 'Cholesterol (mg)', ' Dietary Fibre (g)',\n",
       "       ' Sugars (g)', ' Protein (g) ', 'Vitamin A (% DV) ', 'Vitamin C (% DV)',\n",
       "       ' Calcium (% DV) ', 'Iron (% DV) ', 'Caffeine (mg)'],\n",
       "      dtype='object')"
      ]
     },
     "execution_count": 325,
     "metadata": {},
     "output_type": "execute_result"
    }
   ],
   "source": [
    "df.columns"
   ]
  },
  {
   "cell_type": "code",
   "execution_count": 326,
   "metadata": {},
   "outputs": [
    {
     "data": {
      "text/plain": [
       "RangeIndex(start=0, stop=242, step=1)"
      ]
     },
     "execution_count": 326,
     "metadata": {},
     "output_type": "execute_result"
    }
   ],
   "source": [
    "df.index"
   ]
  },
  {
   "cell_type": "code",
   "execution_count": 327,
   "metadata": {},
   "outputs": [
    {
     "data": {
      "text/plain": [
       "array(['Brewed Coffee', 'Caffè Latte',\n",
       "       'Caffè Mocha (Without Whipped Cream)',\n",
       "       'Vanilla Latte (Or Other Flavoured Latte)', 'Caffè Americano',\n",
       "       'Cappuccino', 'Espresso', 'Skinny Latte (Any Flavour)',\n",
       "       'Caramel Macchiato',\n",
       "       'White Chocolate Mocha (Without Whipped Cream)',\n",
       "       'Hot Chocolate (Without Whipped Cream)',\n",
       "       'Caramel Apple Spice (Without Whipped Cream)', 'Tazo® Tea',\n",
       "       'Tazo® Chai Tea Latte', 'Tazo® Green Tea Latte',\n",
       "       'Tazo® Full-Leaf Tea Latte',\n",
       "       'Tazo® Full-Leaf Red Tea Latte (Vanilla Rooibos)',\n",
       "       'Iced Brewed Coffee (With Classic Syrup)',\n",
       "       'Iced Brewed Coffee (With Milk & Classic Syrup)',\n",
       "       'Shaken Iced Tazo® Tea (With Classic Syrup)',\n",
       "       'Shaken Iced Tazo® Tea Lemonade (With Classic Syrup)',\n",
       "       'Banana Chocolate Smoothie', 'Orange Mango Banana Smoothie',\n",
       "       'Strawberry Banana Smoothie', 'Coffee',\n",
       "       'Mocha (Without Whipped Cream)', 'Caramel (Without Whipped Cream)',\n",
       "       'Java Chip (Without Whipped Cream)', 'Mocha', 'Caramel',\n",
       "       'Java Chip', 'Strawberries & Crème (Without Whipped Cream)',\n",
       "       'Vanilla Bean (Without Whipped Cream)'], dtype=object)"
      ]
     },
     "execution_count": 327,
     "metadata": {},
     "output_type": "execute_result"
    }
   ],
   "source": [
    "df['Beverage'].unique()"
   ]
  },
  {
   "cell_type": "code",
   "execution_count": 328,
   "metadata": {},
   "outputs": [
    {
     "data": {
      "text/plain": [
       "33"
      ]
     },
     "execution_count": 328,
     "metadata": {},
     "output_type": "execute_result"
    }
   ],
   "source": [
    "df['Beverage'].nunique()"
   ]
  },
  {
   "cell_type": "code",
   "execution_count": 329,
   "metadata": {},
   "outputs": [
    {
     "data": {
      "text/plain": [
       "array(['Coffee', 'Classic Espresso Drinks', 'Signature Espresso Drinks',\n",
       "       'Tazo® Tea Drinks', 'Shaken Iced Beverages', 'Smoothies',\n",
       "       'Frappuccino® Blended Coffee', 'Frappuccino® Light Blended Coffee',\n",
       "       'Frappuccino® Blended Crème'], dtype=object)"
      ]
     },
     "execution_count": 329,
     "metadata": {},
     "output_type": "execute_result"
    }
   ],
   "source": [
    "df['Beverage_category'].unique()"
   ]
  },
  {
   "cell_type": "code",
   "execution_count": 330,
   "metadata": {},
   "outputs": [
    {
     "data": {
      "text/plain": [
       "9"
      ]
     },
     "execution_count": 330,
     "metadata": {},
     "output_type": "execute_result"
    }
   ],
   "source": [
    "df['Beverage_category'].nunique()"
   ]
  },
  {
   "cell_type": "code",
   "execution_count": 331,
   "metadata": {},
   "outputs": [
    {
     "data": {
      "text/plain": [
       "array(['Short', 'Tall', 'Grande', 'Venti', 'Short Nonfat Milk', '2% Milk',\n",
       "       'Soymilk', 'Tall Nonfat Milk', 'Grande Nonfat Milk',\n",
       "       'Venti Nonfat Milk', 'Solo', 'Doppio', 'Whole Milk'], dtype=object)"
      ]
     },
     "execution_count": 331,
     "metadata": {},
     "output_type": "execute_result"
    }
   ],
   "source": [
    "df['Beverage_prep'].unique()"
   ]
  },
  {
   "cell_type": "code",
   "execution_count": 332,
   "metadata": {},
   "outputs": [
    {
     "data": {
      "text/plain": [
       "13"
      ]
     },
     "execution_count": 332,
     "metadata": {},
     "output_type": "execute_result"
    }
   ],
   "source": [
    "df['Beverage_prep'].nunique()"
   ]
  },
  {
   "cell_type": "code",
   "execution_count": 333,
   "metadata": {},
   "outputs": [
    {
     "data": {
      "text/plain": [
       "array(['175', '260', '330', '410', '75', '150', '85', '95', '180', '225',\n",
       "       '300', '10', '20', '25', '30', '0', 'Varies', '50', '70', '120',\n",
       "       '55', '80', '110', 'varies', '165', '235', '90', nan, '125', '170',\n",
       "       '15', '130', '140', '100', '145', '65', '105'], dtype=object)"
      ]
     },
     "execution_count": 333,
     "metadata": {},
     "output_type": "execute_result"
    }
   ],
   "source": [
    "df['Caffeine (mg)'].unique()"
   ]
  },
  {
   "cell_type": "code",
   "execution_count": 334,
   "metadata": {},
   "outputs": [
    {
     "data": {
      "text/plain": [
       "36"
      ]
     },
     "execution_count": 334,
     "metadata": {},
     "output_type": "execute_result"
    }
   ],
   "source": [
    "df['Caffeine (mg)'].nunique()"
   ]
  },
  {
   "cell_type": "code",
   "execution_count": 335,
   "metadata": {},
   "outputs": [
    {
     "data": {
      "text/plain": [
       "array([  3,   4,   5,  70, 100, 150, 110, 130, 190, 170, 240, 200, 180,\n",
       "       220, 260, 230, 280, 340, 290, 160, 250, 210, 320, 270,  10,  15,\n",
       "        25,  50,  80,  60,  90, 120, 140, 300, 310, 350, 400, 370, 450,\n",
       "       510, 460, 380, 330, 360,   0, 390, 420, 430], dtype=int64)"
      ]
     },
     "execution_count": 335,
     "metadata": {},
     "output_type": "execute_result"
    }
   ],
   "source": [
    "df['Calories'].unique()"
   ]
  },
  {
   "cell_type": "code",
   "execution_count": 336,
   "metadata": {},
   "outputs": [
    {
     "data": {
      "text/plain": [
       "48"
      ]
     },
     "execution_count": 336,
     "metadata": {},
     "output_type": "execute_result"
    }
   ],
   "source": [
    "df['Calories'].nunique()"
   ]
  },
  {
   "cell_type": "code",
   "execution_count": 337,
   "metadata": {},
   "outputs": [
    {
     "data": {
      "text/plain": [
       "array([ 0, 10,  6, 15, 19, 13, 25, 24, 16, 21, 32, 28, 43, 42, 37, 54, 53,\n",
       "       47, 18, 23, 31, 46, 39,  1,  2,  3,  4,  8,  9,  7, 12, 11, 14, 17,\n",
       "       35, 34, 29, 36, 61, 56, 78, 77, 70, 26, 48, 41, 63, 55, 89, 22, 20,\n",
       "       45, 57, 51, 50, 73, 72, 64, 27, 38, 33, 49, 58, 68, 40, 59, 80, 60,\n",
       "       75, 67, 65, 90, 88, 44, 30], dtype=int64)"
      ]
     },
     "execution_count": 337,
     "metadata": {},
     "output_type": "execute_result"
    }
   ],
   "source": [
    "df['Cholesterol (mg)'].unique()"
   ]
  },
  {
   "cell_type": "code",
   "execution_count": 338,
   "metadata": {},
   "outputs": [
    {
     "data": {
      "text/plain": [
       "75"
      ]
     },
     "execution_count": 338,
     "metadata": {},
     "output_type": "execute_result"
    }
   ],
   "source": [
    "df['Cholesterol (mg)'].nunique()"
   ]
  },
  {
   "cell_type": "markdown",
   "metadata": {},
   "source": [
    "In the homework it is written to find the unique and nunique for all columns but that seems a bit too repetitive and I believe that something else is implied by it. Thus, I performed the task multiple times and for rest of the columns the same code can be used by altering the column name."
   ]
  },
  {
   "cell_type": "code",
   "execution_count": 339,
   "metadata": {},
   "outputs": [
    {
     "name": "stdout",
     "output_type": "stream",
     "text": [
      "Beverage_category             object\n",
      "Beverage                      object\n",
      "Beverage_prep                 object\n",
      "Calories                       int64\n",
      " Total Fat (g)                object\n",
      "Trans Fat (g)                float64\n",
      "Saturated Fat (g)            float64\n",
      " Sodium (mg)                   int64\n",
      " Total Carbohydrates (g)       int64\n",
      "Cholesterol (mg)               int64\n",
      " Dietary Fibre (g)             int64\n",
      " Sugars (g)                    int64\n",
      " Protein (g)                 float64\n",
      "Vitamin A (% DV)              object\n",
      "Vitamin C (% DV)              object\n",
      " Calcium (% DV)               object\n",
      "Iron (% DV)                   object\n",
      "Caffeine (mg)                 object\n",
      "dtype: object\n"
     ]
    }
   ],
   "source": [
    "print(df.dtypes)"
   ]
  },
  {
   "cell_type": "markdown",
   "metadata": {},
   "source": [
    "Beverage_category, Beverage, Beverage_prep are all categorical data as they are non-numerical objects. Furthermore, they are ordinal categorical as they can e ranked on the basis of each other. For example- Beverage can be ordered/ranked according to Beverage_prep and vice versa."
   ]
  },
  {
   "cell_type": "markdown",
   "metadata": {},
   "source": [
    "Rest all columns contain numerical data and contain a range of values thus, can be put into numerical continous data."
   ]
  },
  {
   "cell_type": "code",
   "execution_count": 340,
   "metadata": {},
   "outputs": [
    {
     "data": {
      "text/plain": [
       "Beverage_category            0\n",
       "Beverage                     0\n",
       "Beverage_prep                0\n",
       "Calories                     0\n",
       " Total Fat (g)               0\n",
       "Trans Fat (g)                0\n",
       "Saturated Fat (g)            0\n",
       " Sodium (mg)                 0\n",
       " Total Carbohydrates (g)     0\n",
       "Cholesterol (mg)             0\n",
       " Dietary Fibre (g)           0\n",
       " Sugars (g)                  0\n",
       " Protein (g)                 0\n",
       "Vitamin A (% DV)             0\n",
       "Vitamin C (% DV)             0\n",
       " Calcium (% DV)              0\n",
       "Iron (% DV)                  0\n",
       "Caffeine (mg)                1\n",
       "dtype: int64"
      ]
     },
     "execution_count": 340,
     "metadata": {},
     "output_type": "execute_result"
    }
   ],
   "source": [
    "df.isnull().sum()"
   ]
  },
  {
   "cell_type": "code",
   "execution_count": 341,
   "metadata": {},
   "outputs": [
    {
     "data": {
      "text/plain": [
       "Beverage_category            0\n",
       "Beverage                     0\n",
       "Beverage_prep                0\n",
       "Calories                     0\n",
       " Total Fat (g)               0\n",
       "Trans Fat (g)                0\n",
       "Saturated Fat (g)            0\n",
       " Sodium (mg)                 0\n",
       " Total Carbohydrates (g)     0\n",
       "Cholesterol (mg)             0\n",
       " Dietary Fibre (g)           0\n",
       " Sugars (g)                  0\n",
       " Protein (g)                 0\n",
       "Vitamin A (% DV)             0\n",
       "Vitamin C (% DV)             0\n",
       " Calcium (% DV)              0\n",
       "Iron (% DV)                  0\n",
       "Caffeine (mg)                1\n",
       "dtype: int64"
      ]
     },
     "execution_count": 341,
     "metadata": {},
     "output_type": "execute_result"
    }
   ],
   "source": [
    "df.isna().sum()"
   ]
  },
  {
   "cell_type": "code",
   "execution_count": 342,
   "metadata": {},
   "outputs": [
    {
     "data": {
      "text/plain": [
       "1"
      ]
     },
     "execution_count": 342,
     "metadata": {},
     "output_type": "execute_result"
    }
   ],
   "source": [
    "df['Caffeine (mg)'].isnull().sum()"
   ]
  },
  {
   "cell_type": "code",
   "execution_count": 343,
   "metadata": {},
   "outputs": [
    {
     "name": "stdout",
     "output_type": "stream",
     "text": [
      "Empty DataFrame\n",
      "Columns: [Beverage_category, Beverage, Beverage_prep, Calories,  Total Fat (g), Trans Fat (g) , Saturated Fat (g),  Sodium (mg),  Total Carbohydrates (g) , Cholesterol (mg),  Dietary Fibre (g),  Sugars (g),  Protein (g) , Vitamin A (% DV) , Vitamin C (% DV),  Calcium (% DV) , Iron (% DV) , Caffeine (mg)]\n",
      "Index: []\n"
     ]
    }
   ],
   "source": [
    "zero = df[df['Caffeine (mg)'] == 0]\n",
    "print(zero)"
   ]
  },
  {
   "cell_type": "markdown",
   "metadata": {},
   "source": [
    "??? No indexx"
   ]
  },
  {
   "cell_type": "code",
   "execution_count": 344,
   "metadata": {},
   "outputs": [
    {
     "data": {
      "text/plain": [
       "Index(['Beverage_category', 'Beverage', 'Beverage_prep', 'Calories',\n",
       "       ' Total Fat (g)', 'Trans Fat (g) ', 'Saturated Fat (g)', ' Sodium (mg)',\n",
       "       ' Total Carbohydrates (g) ', 'Cholesterol (mg)', ' Dietary Fibre (g)',\n",
       "       ' Sugars (g)', ' Protein (g) ', 'Vitamin A (% DV) ', 'Vitamin C (% DV)',\n",
       "       ' Calcium (% DV) ', 'Iron (% DV) ', 'Caffeine (mg)'],\n",
       "      dtype='object')"
      ]
     },
     "execution_count": 344,
     "metadata": {},
     "output_type": "execute_result"
    }
   ],
   "source": [
    "df.columns"
   ]
  },
  {
   "cell_type": "code",
   "execution_count": 349,
   "metadata": {},
   "outputs": [],
   "source": [
    "df_rename= df.rename(columns={'Beverage_category':'Beverage_type','Beverage_prep':'Milk_used','Total Carbohydrates (g) ':'Carbs/gm'})"
   ]
  },
  {
   "cell_type": "code",
   "execution_count": 346,
   "metadata": {},
   "outputs": [
    {
     "data": {
      "text/plain": [
       "Index(['Beverage_type', 'Beverage', 'Milk_used', 'Calories', ' Total Fat (g)',\n",
       "       'Trans Fat (g) ', 'Saturated Fat (g)', ' Sodium (mg)',\n",
       "       ' Total Carbohydrates (g) ', 'Cholesterol (mg)', ' Dietary Fibre (g)',\n",
       "       ' Sugars (g)', ' Protein (g) ', 'Vitamin A (% DV) ', 'Vitamin C (% DV)',\n",
       "       ' Calcium (% DV) '],\n",
       "      dtype='object')"
      ]
     },
     "execution_count": 346,
     "metadata": {},
     "output_type": "execute_result"
    }
   ],
   "source": [
    "df_rename.columns"
   ]
  },
  {
   "cell_type": "code",
   "execution_count": 351,
   "metadata": {},
   "outputs": [],
   "source": [
    "df_new = df_rename.drop(columns=['Iron (% DV) ','Caffeine (mg)'])"
   ]
  },
  {
   "cell_type": "code",
   "execution_count": null,
   "metadata": {},
   "outputs": [
    {
     "data": {
      "text/plain": [
       "Index(['Beverage_type', 'Beverage', 'Milk_used', 'Calories', ' Total Fat (g)',\n",
       "       'Trans Fat (g) ', 'Saturated Fat (g)', ' Sodium (mg)',\n",
       "       ' Total Carbohydrates (g) ', 'Cholesterol (mg)', ' Dietary Fibre (g)',\n",
       "       ' Sugars (g)', ' Protein (g) ', 'Vitamin A (% DV) ', 'Vitamin C (% DV)',\n",
       "       ' Calcium (% DV) '],\n",
       "      dtype='object')"
      ]
     },
     "execution_count": 274,
     "metadata": {},
     "output_type": "execute_result"
    }
   ],
   "source": [
    "df_new.columns"
   ]
  },
  {
   "cell_type": "markdown",
   "metadata": {},
   "source": [
    "The columns made my task more difficult. So I dropped them as I was allowed to."
   ]
  },
  {
   "cell_type": "code",
   "execution_count": null,
   "metadata": {},
   "outputs": [
    {
     "name": "stdout",
     "output_type": "stream",
     "text": [
      "Beverage_type                 object\n",
      "Beverage                      object\n",
      "Milk_used                     object\n",
      "Calories                       int64\n",
      " Total Fat (g)                object\n",
      "Trans Fat (g)                float64\n",
      "Saturated Fat (g)            float64\n",
      " Sodium (mg)                   int64\n",
      " Total Carbohydrates (g)       int64\n",
      "Cholesterol (mg)               int64\n",
      " Dietary Fibre (g)             int64\n",
      " Sugars (g)                    int64\n",
      " Protein (g)                 float64\n",
      "Vitamin A (% DV)              object\n",
      "Vitamin C (% DV)              object\n",
      " Calcium (% DV)               object\n",
      "dtype: object\n"
     ]
    }
   ],
   "source": [
    "print(df_new.dtypes)"
   ]
  },
  {
   "cell_type": "code",
   "execution_count": 352,
   "metadata": {},
   "outputs": [
    {
     "data": {
      "text/plain": [
       "0"
      ]
     },
     "execution_count": 352,
     "metadata": {},
     "output_type": "execute_result"
    }
   ],
   "source": [
    "df_new['Calories'].min()"
   ]
  },
  {
   "cell_type": "code",
   "execution_count": 353,
   "metadata": {},
   "outputs": [
    {
     "data": {
      "text/plain": [
       "510"
      ]
     },
     "execution_count": 353,
     "metadata": {},
     "output_type": "execute_result"
    }
   ],
   "source": [
    "df_new['Calories'].max()"
   ]
  },
  {
   "cell_type": "code",
   "execution_count": 354,
   "metadata": {},
   "outputs": [
    {
     "data": {
      "text/plain": [
       "193.87190082644628"
      ]
     },
     "execution_count": 354,
     "metadata": {},
     "output_type": "execute_result"
    }
   ],
   "source": [
    "df_new['Calories'].mean()"
   ]
  },
  {
   "cell_type": "code",
   "execution_count": 355,
   "metadata": {},
   "outputs": [
    {
     "data": {
      "text/plain": [
       "102.86330269432897"
      ]
     },
     "execution_count": 355,
     "metadata": {},
     "output_type": "execute_result"
    }
   ],
   "source": [
    "df_new['Calories'].std()"
   ]
  },
  {
   "cell_type": "code",
   "execution_count": 356,
   "metadata": {},
   "outputs": [
    {
     "data": {
      "text/plain": [
       "10580.859041185146"
      ]
     },
     "execution_count": 356,
     "metadata": {},
     "output_type": "execute_result"
    }
   ],
   "source": [
    "df_new['Calories'].var()"
   ]
  },
  {
   "cell_type": "code",
   "execution_count": 357,
   "metadata": {},
   "outputs": [
    {
     "data": {
      "text/plain": [
       "46917"
      ]
     },
     "execution_count": 357,
     "metadata": {},
     "output_type": "execute_result"
    }
   ],
   "source": [
    "df_new['Calories'].sum()"
   ]
  },
  {
   "cell_type": "markdown",
   "metadata": {},
   "source": [
    "For other columns the same code can be repeated by switching the column name. And changing the type by using such code\n",
    "\n",
    "skip_arr = ['Beverage_type', 'Beverage', 'Milk_used']\n",
    "for col in df_new.columns:\n",
    "    if col in skip_arr:\n",
    "        continue\n",
    "\n",
    "    df_new[col] = df_new[col].astype(int)"
   ]
  },
  {
   "cell_type": "code",
   "execution_count": 359,
   "metadata": {},
   "outputs": [
    {
     "name": "stdout",
     "output_type": "stream",
     "text": [
      "                         Beverage_type  \\\n",
      "67           Signature Espresso Drinks   \n",
      "241         Frappuccino® Blended Crème   \n",
      "205        Frappuccino® Blended Coffee   \n",
      "122                   Tazo® Tea Drinks   \n",
      "89           Signature Espresso Drinks   \n",
      "216        Frappuccino® Blended Coffee   \n",
      "58             Classic Espresso Drinks   \n",
      "185        Frappuccino® Blended Coffee   \n",
      "176                          Smoothies   \n",
      "4              Classic Espresso Drinks   \n",
      "218  Frappuccino® Light Blended Coffee   \n",
      "224  Frappuccino® Light Blended Coffee   \n",
      "116                   Tazo® Tea Drinks   \n",
      "107                   Tazo® Tea Drinks   \n",
      "169              Shaken Iced Beverages   \n",
      "239         Frappuccino® Blended Crème   \n",
      "180                          Smoothies   \n",
      "51             Classic Espresso Drinks   \n",
      "27             Classic Espresso Drinks   \n",
      "238         Frappuccino® Blended Crème   \n",
      "217  Frappuccino® Light Blended Coffee   \n",
      "34             Classic Espresso Drinks   \n",
      "93           Signature Espresso Drinks   \n",
      "182        Frappuccino® Blended Coffee   \n",
      "118                   Tazo® Tea Drinks   \n",
      "117                   Tazo® Tea Drinks   \n",
      "106                   Tazo® Tea Drinks   \n",
      "73           Signature Espresso Drinks   \n",
      "38             Classic Espresso Drinks   \n",
      "209        Frappuccino® Blended Coffee   \n",
      "201        Frappuccino® Blended Coffee   \n",
      "44             Classic Espresso Drinks   \n",
      "62           Signature Espresso Drinks   \n",
      "202        Frappuccino® Blended Coffee   \n",
      "85           Signature Espresso Drinks   \n",
      "211        Frappuccino® Blended Coffee   \n",
      "39             Classic Espresso Drinks   \n",
      "31             Classic Espresso Drinks   \n",
      "18             Classic Espresso Drinks   \n",
      "132                   Tazo® Tea Drinks   \n",
      "119                   Tazo® Tea Drinks   \n",
      "19             Classic Espresso Drinks   \n",
      "91           Signature Espresso Drinks   \n",
      "69           Signature Espresso Drinks   \n",
      "33             Classic Espresso Drinks   \n",
      "90           Signature Espresso Drinks   \n",
      "35             Classic Espresso Drinks   \n",
      "11             Classic Espresso Drinks   \n",
      "29             Classic Espresso Drinks   \n",
      "0                               Coffee   \n",
      "154              Shaken Iced Beverages   \n",
      "164              Shaken Iced Beverages   \n",
      "110                   Tazo® Tea Drinks   \n",
      "223  Frappuccino® Light Blended Coffee   \n",
      "194        Frappuccino® Blended Coffee   \n",
      "183        Frappuccino® Blended Coffee   \n",
      "184        Frappuccino® Blended Coffee   \n",
      "28             Classic Espresso Drinks   \n",
      "16             Classic Espresso Drinks   \n",
      "148                   Tazo® Tea Drinks   \n",
      "\n",
      "                                              Beverage           Milk_used  \\\n",
      "67                                   Caramel Macchiato             Soymilk   \n",
      "241               Vanilla Bean (Without Whipped Cream)  Grande Nonfat Milk   \n",
      "205                    Caramel (Without Whipped Cream)   Venti Nonfat Milk   \n",
      "122                              Tazo® Green Tea Latte             2% Milk   \n",
      "89               Hot Chocolate (Without Whipped Cream)    Tall Nonfat Milk   \n",
      "216                  Java Chip (Without Whipped Cream)             Soymilk   \n",
      "58                          Skinny Latte (Any Flavour)   Short Nonfat Milk   \n",
      "185                                             Coffee          Whole Milk   \n",
      "176                       Orange Mango Banana Smoothie             2% Milk   \n",
      "4                                          Caffè Latte   Short Nonfat Milk   \n",
      "218                                             Coffee  Grande Nonfat Milk   \n",
      "224                                            Caramel  Grande Nonfat Milk   \n",
      "116                               Tazo® Chai Tea Latte             2% Milk   \n",
      "107                               Tazo® Chai Tea Latte             2% Milk   \n",
      "169  Shaken Iced Tazo® Tea Lemonade (With Classic S...                Tall   \n",
      "239               Vanilla Bean (Without Whipped Cream)          Whole Milk   \n",
      "180                         Strawberry Banana Smoothie             Soymilk   \n",
      "51                                          Cappuccino             2% Milk   \n",
      "27                 Caffè Mocha (Without Whipped Cream)             Soymilk   \n",
      "238               Vanilla Bean (Without Whipped Cream)    Tall Nonfat Milk   \n",
      "217                                             Coffee    Tall Nonfat Milk   \n",
      "34            Vanilla Latte (Or Other Flavoured Latte)  Grande Nonfat Milk   \n",
      "93               Hot Chocolate (Without Whipped Cream)             2% Milk   \n",
      "182                                             Coffee          Whole Milk   \n",
      "118                              Tazo® Green Tea Latte   Short Nonfat Milk   \n",
      "117                               Tazo® Chai Tea Latte             Soymilk   \n",
      "106                               Tazo® Chai Tea Latte   Short Nonfat Milk   \n",
      "73                                   Caramel Macchiato             Soymilk   \n",
      "38            Vanilla Latte (Or Other Flavoured Latte)             2% Milk   \n",
      "209                  Java Chip (Without Whipped Cream)          Whole Milk   \n",
      "201                    Caramel (Without Whipped Cream)             Soymilk   \n",
      "44                                          Cappuccino   Short Nonfat Milk   \n",
      "62                                   Caramel Macchiato   Short Nonfat Milk   \n",
      "202                    Caramel (Without Whipped Cream)  Grande Nonfat Milk   \n",
      "85       White Chocolate Mocha (Without Whipped Cream)             Soymilk   \n",
      "211                  Java Chip (Without Whipped Cream)  Grande Nonfat Milk   \n",
      "39            Vanilla Latte (Or Other Flavoured Latte)             Soymilk   \n",
      "31            Vanilla Latte (Or Other Flavoured Latte)    Tall Nonfat Milk   \n",
      "18                 Caffè Mocha (Without Whipped Cream)             Soymilk   \n",
      "132                          Tazo® Full-Leaf Tea Latte             Soymilk   \n",
      "119                              Tazo® Green Tea Latte             2% Milk   \n",
      "19                 Caffè Mocha (Without Whipped Cream)    Tall Nonfat Milk   \n",
      "91               Hot Chocolate (Without Whipped Cream)             Soymilk   \n",
      "69                                   Caramel Macchiato             2% Milk   \n",
      "33            Vanilla Latte (Or Other Flavoured Latte)             Soymilk   \n",
      "90               Hot Chocolate (Without Whipped Cream)             2% Milk   \n",
      "35            Vanilla Latte (Or Other Flavoured Latte)             2% Milk   \n",
      "11                                         Caffè Latte             2% Milk   \n",
      "29            Vanilla Latte (Or Other Flavoured Latte)             2% Milk   \n",
      "0                                        Brewed Coffee               Short   \n",
      "154            Iced Brewed Coffee (With Classic Syrup)                Tall   \n",
      "164     Iced Brewed Coffee (With Milk & Classic Syrup)             2% Milk   \n",
      "110                               Tazo® Chai Tea Latte             2% Milk   \n",
      "223                                            Caramel    Tall Nonfat Milk   \n",
      "194                      Mocha (Without Whipped Cream)          Whole Milk   \n",
      "183                                             Coffee             Soymilk   \n",
      "184                                             Coffee  Grande Nonfat Milk   \n",
      "28            Vanilla Latte (Or Other Flavoured Latte)   Short Nonfat Milk   \n",
      "16                 Caffè Mocha (Without Whipped Cream)   Short Nonfat Milk   \n",
      "148    Tazo® Full-Leaf Red Tea Latte (Vanilla Rooibos)  Grande Nonfat Milk   \n",
      "\n",
      "     Calories  Total Fat (g)  Trans Fat (g)   Saturated Fat (g)   Sodium (mg)  \\\n",
      "67        150            4.5             1.0                0.0             0   \n",
      "241       240            0.1             0.1                0.0             5   \n",
      "205       330            0.1             0.1                0.0             5   \n",
      "122       260              6             3.0                0.2            25   \n",
      "89        190              2             1.0                0.0             5   \n",
      "216       430              8             4.5                0.0             0   \n",
      "58         60            0.1             0.1                0.0             5   \n",
      "185       240              3             2.0                0.1            10   \n",
      "176       270            1.5             0.5                0.0             5   \n",
      "4          70            0.1             0.1                0.0             5   \n",
      "218       120            0.1             0.1                0.0             0   \n",
      "224       150            0.1             0.1                0.0             0   \n",
      "116       310              6             3.0                0.2            25   \n",
      "107       120              2             1.0                0.1            10   \n",
      "169       100              0             0.0                0.0             0   \n",
      "239       200            3.5             2.0                0.1            10   \n",
      "180       290              2             0.4                0.0             5   \n",
      "51        120              4             2.0                0.1            15   \n",
      "27        290              9             2.5                0.0             0   \n",
      "238       170            0.1             0.1                0.0             0   \n",
      "217        90            0.1             0.0                0.0             0   \n",
      "34        200            0.3             0.2                0.0             5   \n",
      "93        290              9             5.0                0.2            25   \n",
      "182       180            2.5             1.5                0.1            10   \n",
      "118       130            0.2             0.1                0.0             5   \n",
      "117       280            4.5             0.5                0.0             0   \n",
      "106       100            0.1             0.1                0.0             0   \n",
      "73        250              7             1.5                0.0             5   \n",
      "38        320              9             4.5                0.3            35   \n",
      "209       240              5             3.5                0.1            10   \n",
      "201       180            1.5             0.2                0.0             0   \n",
      "44         50            0.1             0.1                0.0             5   \n",
      "62        100              1             0.5                0.0             5   \n",
      "202       280            0.1             0.1                0.0             0   \n",
      "85        460             13             6.0                0.0             5   \n",
      "211       310              4             3.0                0.0             0   \n",
      "39        270              7             1.0                0.0             0   \n",
      "31        150            0.2             0.1                0.0             5   \n",
      "18        110            3.5             1.0                0.0             0   \n",
      "132        80            1.5             0.2                0.0             0   \n",
      "119       170              4             2.0                0.1            15   \n",
      "19        170              2             1.0                0.0             5   \n",
      "91        200              6             1.5                0.0             0   \n",
      "69        240              7             3.5                0.2            25   \n",
      "33        160              4             0.5                0.0             0   \n",
      "90        230              7             3.5                0.2            20   \n",
      "35        250              6             3.5                0.2            25   \n",
      "11        190              7             3.5                0.2            30   \n",
      "29        130            3.5             1.5                0.1            15   \n",
      "0           3            0.1             0.0                0.0             0   \n",
      "154        60              0             0.0                0.0             0   \n",
      "164       180              2             1.0                0.1            10   \n",
      "110       190            3.5             1.5                0.1            15   \n",
      "223       100            0.1             0.0                0.0             0   \n",
      "194       290              4             2.5                0.1            10   \n",
      "183       160            1.5             0.2                0.0             0   \n",
      "184       220            0.1             0.1                0.0             0   \n",
      "28        100            0.1             0.1                0.0             5   \n",
      "16        110            1.5             1.0                0.0             5   \n",
      "148       150            0.2             0.1                0.0             5   \n",
      "\n",
      "      Total Carbohydrates (g)   Cholesterol (mg)   Dietary Fibre (g)  \\\n",
      "67                          90                21                   1   \n",
      "241                        230                56                   0   \n",
      "205                        290                78                   0   \n",
      "122                        140                41                   1   \n",
      "89                         110                37                   1   \n",
      "216                        330                88                   3   \n",
      "58                          80                 9                   0   \n",
      "185                        220                50                   0   \n",
      "176                        125                53                   6   \n",
      "4                           75                10                   0   \n",
      "218                        210                26                   0   \n",
      "224                        200                33                   0   \n",
      "116                        150                56                   0   \n",
      "107                         55                22                   0   \n",
      "169                          0                25                   0   \n",
      "239                        160                39                   0   \n",
      "180                        120                58                   8   \n",
      "51                         100                12                   0   \n",
      "27                         140                47                   4   \n",
      "238                        160                39                   0   \n",
      "217                        160                20                   0   \n",
      "34                         140                37                   0   \n",
      "93                         160                47                   2   \n",
      "182                        160                36                   0   \n",
      "118                         85                26                   0   \n",
      "117                        115                51                   1   \n",
      "106                         50                22                   0   \n",
      "73                         140                36                   1   \n",
      "38                         200                46                   0   \n",
      "209                        170                47                   1   \n",
      "201                        150                40                   0   \n",
      "44                          60                 8                   0   \n",
      "62                          70                17                   0   \n",
      "202                        220                60                   0   \n",
      "85                         290                70                   1   \n",
      "211                        250                67                   2   \n",
      "39                         160                39                   2   \n",
      "31                         110                28                   0   \n",
      "18                          55                19                   2   \n",
      "132                         40                14                   0   \n",
      "119                         95                26                   0   \n",
      "19                         100                32                   1   \n",
      "91                          95                32                   2   \n",
      "69                         150                34                   0   \n",
      "33                          95                23                   1   \n",
      "90                         120                37                   1   \n",
      "35                         150                37                   0   \n",
      "11                         170                19                   0   \n",
      "29                          80                18                   0   \n",
      "0                            5                 0                   0   \n",
      "154                          4                15                   0   \n",
      "164                         55                36                   0   \n",
      "110                         90                34                   0   \n",
      "223                        140                23                   0   \n",
      "194                        220                61                   1   \n",
      "183                        150                35                   0   \n",
      "184                        210                51                   0   \n",
      "28                          70                19                   0   \n",
      "16                          60                21                   1   \n",
      "148                         85                31                   0   \n",
      "\n",
      "      Sugars (g)   Protein (g)  Vitamin A (% DV)  Vitamin C (% DV)  \\\n",
      "67            17            7.0               10%               0%   \n",
      "241           55            5.0                8%               0%   \n",
      "205           77            5.0               10%               0%   \n",
      "122           40           10.0               15%              10%   \n",
      "89            32           11.0               15%               0%   \n",
      "216           80            6.0                6%               0%   \n",
      "58             8            6.0               10%               0%   \n",
      "185           50            3.0                4%               0%   \n",
      "176           37           16.0               50%              80%   \n",
      "4              9            6.0               10%               0%   \n",
      "218           26            3.0                6%               0%   \n",
      "224           32            3.0                6%               0%   \n",
      "116           53           10.0               15%               2%   \n",
      "107           21            4.0                6%               0%   \n",
      "169           24            0.1                0%              10%   \n",
      "239           38            3.0                6%               0%   \n",
      "180           40           16.0                2%             100%   \n",
      "51            10            8.0               10%               0%   \n",
      "27            33           14.0               15%               0%   \n",
      "238           38            4.0                6%               0%   \n",
      "217           19            3.0                4%               0%   \n",
      "34            35           12.0               20%               0%   \n",
      "93            41           14.0               20%               2%   \n",
      "182           36            3.0                4%               0%   \n",
      "118           25            7.0               10%               4%   \n",
      "117           46            8.0               10%               0%   \n",
      "106           21            4.0                6%               0%   \n",
      "73            31           11.0               15%               0%   \n",
      "38            44           15.0               25%               2%   \n",
      "209           44            4.0                4%               0%   \n",
      "201           39            2.0                4%               0%   \n",
      "44             7            5.0                8%               0%   \n",
      "62            15            6.0               10%               0%   \n",
      "202           59            4.0                6%               0%   \n",
      "85            64           16.0               15%               2%   \n",
      "211           62            5.0                6%               0%   \n",
      "39            33           12.0               15%               0%   \n",
      "31            27            9.0               15%               0%   \n",
      "18            13            6.0                6%               0%   \n",
      "132           13            3.0                4%               0%   \n",
      "119           25            7.0               10%               6%   \n",
      "19            27           10.0               15%               0%   \n",
      "91            25            9.0               10%               0%   \n",
      "69            32           10.0               15%               2%   \n",
      "33            20            7.0               10%               0%   \n",
      "90            32           10.0               15%               0%   \n",
      "35            35           12.0               20%               2%   \n",
      "11            17           12.0               20%               2%   \n",
      "29            17            6.0               10%               0%   \n",
      "0              0            0.3                0%               0%   \n",
      "154           15            0.2                0%               0%   \n",
      "164           36            4.0                6%               0%   \n",
      "110           32            6.0               10%               0%   \n",
      "223           23            3.0                4%               0%   \n",
      "194           58            4.0                4%               0%   \n",
      "183           34            2.0                4%               0%   \n",
      "184           50            4.0                6%               0%   \n",
      "28            18            6.0               10%               0%   \n",
      "16            17            7.0                8%               0%   \n",
      "148           31            7.0               15%               0%   \n",
      "\n",
      "     Calcium (% DV)   \n",
      "67               25%  \n",
      "241              15%  \n",
      "205              15%  \n",
      "122              35%  \n",
      "89               30%  \n",
      "216              20%  \n",
      "58               20%  \n",
      "185              10%  \n",
      "176              10%  \n",
      "4                20%  \n",
      "218              10%  \n",
      "224              10%  \n",
      "116              30%  \n",
      "107              10%  \n",
      "169               0%  \n",
      "239              10%  \n",
      "180              10%  \n",
      "51               25%  \n",
      "27               45%  \n",
      "238              10%  \n",
      "217              10%  \n",
      "34               35%  \n",
      "93               40%  \n",
      "182               8%  \n",
      "118              20%  \n",
      "117              30%  \n",
      "106              10%  \n",
      "73               40%  \n",
      "38               45%  \n",
      "209               8%  \n",
      "201              10%  \n",
      "44               15%  \n",
      "62               15%  \n",
      "202              10%  \n",
      "85               60%  \n",
      "211              10%  \n",
      "39               45%  \n",
      "31               30%  \n",
      "18               15%  \n",
      "132              10%  \n",
      "119              20%  \n",
      "19               25%  \n",
      "91               30%  \n",
      "69               30%  \n",
      "33               30%  \n",
      "90               30%  \n",
      "35               35%  \n",
      "11               40%  \n",
      "29               20%  \n",
      "0                 0%  \n",
      "154               0%  \n",
      "164              10%  \n",
      "110              20%  \n",
      "223               8%  \n",
      "194              10%  \n",
      "183              10%  \n",
      "184              10%  \n",
      "28               20%  \n",
      "16               15%  \n",
      "148              25%  \n"
     ]
    }
   ],
   "source": [
    "new_df=df_new.sample(frac=0.25, random_state=1)\n",
    "print(new_df)"
   ]
  },
  {
   "cell_type": "code",
   "execution_count": 360,
   "metadata": {},
   "outputs": [
    {
     "name": "stdout",
     "output_type": "stream",
     "text": [
      "                         Beverage_type  \\\n",
      "8              Classic Espresso Drinks   \n",
      "208        Frappuccino® Blended Coffee   \n",
      "98           Signature Espresso Drinks   \n",
      "142                   Tazo® Tea Drinks   \n",
      "15             Classic Espresso Drinks   \n",
      "60             Classic Espresso Drinks   \n",
      "128                   Tazo® Tea Drinks   \n",
      "5              Classic Espresso Drinks   \n",
      "59             Classic Espresso Drinks   \n",
      "174                          Smoothies   \n",
      "68           Signature Espresso Drinks   \n",
      "36             Classic Espresso Drinks   \n",
      "76           Signature Espresso Drinks   \n",
      "227  Frappuccino® Light Blended Coffee   \n",
      "152                   Tazo® Tea Drinks   \n",
      "52             Classic Espresso Drinks   \n",
      "196        Frappuccino® Blended Coffee   \n",
      "17             Classic Espresso Drinks   \n",
      "40             Classic Espresso Drinks   \n",
      "230         Frappuccino® Blended Crème   \n",
      "149                   Tazo® Tea Drinks   \n",
      "166              Shaken Iced Beverages   \n",
      "45             Classic Espresso Drinks   \n",
      "3                               Coffee   \n",
      "64           Signature Espresso Drinks   \n",
      "232         Frappuccino® Blended Crème   \n",
      "190        Frappuccino® Blended Coffee   \n",
      "161              Shaken Iced Beverages   \n",
      "212        Frappuccino® Blended Coffee   \n",
      "75           Signature Espresso Drinks   \n",
      "88           Signature Espresso Drinks   \n",
      "228  Frappuccino® Light Blended Coffee   \n",
      "7              Classic Espresso Drinks   \n",
      "145                   Tazo® Tea Drinks   \n",
      "14             Classic Espresso Drinks   \n",
      "37             Classic Espresso Drinks   \n",
      "167              Shaken Iced Beverages   \n",
      "10             Classic Espresso Drinks   \n",
      "207        Frappuccino® Blended Coffee   \n",
      "43             Classic Espresso Drinks   \n",
      "220  Frappuccino® Light Blended Coffee   \n",
      "92           Signature Espresso Drinks   \n",
      "204        Frappuccino® Blended Coffee   \n",
      "127                   Tazo® Tea Drinks   \n",
      "129                   Tazo® Tea Drinks   \n",
      "203        Frappuccino® Blended Coffee   \n",
      "\n",
      "                                            Beverage           Milk_used  \\\n",
      "8                                        Caffè Latte             2% Milk   \n",
      "208                Java Chip (Without Whipped Cream)    Tall Nonfat Milk   \n",
      "98       Caramel Apple Spice (Without Whipped Cream)               Short   \n",
      "142  Tazo® Full-Leaf Red Tea Latte (Vanilla Rooibos)   Short Nonfat Milk   \n",
      "15                                       Caffè Latte             Soymilk   \n",
      "60                        Skinny Latte (Any Flavour)  Grande Nonfat Milk   \n",
      "128                            Tazo® Green Tea Latte             2% Milk   \n",
      "5                                        Caffè Latte             2% Milk   \n",
      "59                        Skinny Latte (Any Flavour)    Tall Nonfat Milk   \n",
      "174                        Banana Chocolate Smoothie             Soymilk   \n",
      "68                                 Caramel Macchiato  Grande Nonfat Milk   \n",
      "36          Vanilla Latte (Or Other Flavoured Latte)             Soymilk   \n",
      "76     White Chocolate Mocha (Without Whipped Cream)             Soymilk   \n",
      "227                                        Java Chip  Grande Nonfat Milk   \n",
      "152  Tazo® Full-Leaf Red Tea Latte (Vanilla Rooibos)             2% Milk   \n",
      "52                                        Cappuccino             Soymilk   \n",
      "196                    Mocha (Without Whipped Cream)   Venti Nonfat Milk   \n",
      "17               Caffè Mocha (Without Whipped Cream)             2% Milk   \n",
      "40                                   Caffè Americano               Short   \n",
      "230     Strawberries & Crème (Without Whipped Cream)          Whole Milk   \n",
      "149  Tazo® Full-Leaf Red Tea Latte (Vanilla Rooibos)             2% Milk   \n",
      "166       Shaken Iced Tazo® Tea (With Classic Syrup)                Tall   \n",
      "45                                        Cappuccino             2% Milk   \n",
      "3                                      Brewed Coffee               Venti   \n",
      "64                                 Caramel Macchiato             Soymilk   \n",
      "232     Strawberries & Crème (Without Whipped Cream)  Grande Nonfat Milk   \n",
      "190                    Mocha (Without Whipped Cream)    Tall Nonfat Milk   \n",
      "161   Iced Brewed Coffee (With Milk & Classic Syrup)             2% Milk   \n",
      "212                Java Chip (Without Whipped Cream)          Whole Milk   \n",
      "75     White Chocolate Mocha (Without Whipped Cream)             2% Milk   \n",
      "88             Hot Chocolate (Without Whipped Cream)             Soymilk   \n",
      "228                                        Java Chip   Venti Nonfat Milk   \n",
      "7                                        Caffè Latte    Tall Nonfat Milk   \n",
      "145  Tazo® Full-Leaf Red Tea Latte (Vanilla Rooibos)    Tall Nonfat Milk   \n",
      "14                                       Caffè Latte             2% Milk   \n",
      "37          Vanilla Latte (Or Other Flavoured Latte)   Venti Nonfat Milk   \n",
      "167       Shaken Iced Tazo® Tea (With Classic Syrup)              Grande   \n",
      "10                                       Caffè Latte  Grande Nonfat Milk   \n",
      "207                  Caramel (Without Whipped Cream)             Soymilk   \n",
      "43                                   Caffè Americano               Venti   \n",
      "220                                            Mocha    Tall Nonfat Milk   \n",
      "92             Hot Chocolate (Without Whipped Cream)  Grande Nonfat Milk   \n",
      "204                  Caramel (Without Whipped Cream)             Soymilk   \n",
      "127                            Tazo® Green Tea Latte   Venti Nonfat Milk   \n",
      "129                            Tazo® Green Tea Latte             Soymilk   \n",
      "203                  Caramel (Without Whipped Cream)          Whole Milk   \n",
      "\n",
      "     Calories  Total Fat (g)  Trans Fat (g)   Saturated Fat (g)   Sodium (mg)  \\\n",
      "8         150              6             3.0                0.2            25   \n",
      "208       220              3             2.0                0.0             0   \n",
      "98        140              0             0.0                0.0             0   \n",
      "142        80            0.1             0.1                0.0             0   \n",
      "15        190              7             1.0                0.0             0   \n",
      "60        120            0.3             0.2                0.0             5   \n",
      "128       450             10             5.0                0.3            40   \n",
      "5         100            3.5             2.0                0.1            15   \n",
      "59        100            0.2             0.1                0.0             5   \n",
      "174       290            4.5             1.5                0.0             5   \n",
      "68        190              1             1.0                0.0            10   \n",
      "36        210              5             0.5                0.0             0   \n",
      "76        180              5             2.5                0.0             0   \n",
      "227       220              4             3.0                0.0             0   \n",
      "152       230              5             2.5                0.2            20   \n",
      "52        100            3.5             0.4                0.0             0   \n",
      "196       340              1             0.5                0.0             5   \n",
      "17        130              4             2.0                0.1            10   \n",
      "40          5              0             0.0                0.0             0   \n",
      "230       190              3             1.5                0.1            10   \n",
      "149       190              4             2.0                0.1            15   \n",
      "166        60              0             0.0                0.0             0   \n",
      "45         80              3             1.5                0.1            10   \n",
      "3           5            0.1             0.0                0.0             0   \n",
      "64        100              3             1.0                0.0             0   \n",
      "232       230            0.2             0.1                0.0             0   \n",
      "190       180            0.5             0.4                0.0             0   \n",
      "161       120            1.5             0.5                0.0             5   \n",
      "212       340              7             5.0                0.1            10   \n",
      "75        200              6             3.5                0.1            15   \n",
      "88        130            3.5             1.0                0.0             0   \n",
      "228       290              5             4.0                0.0             5   \n",
      "7         100            0.2             0.2                0.0             5   \n",
      "145       120            0.1             0.1                0.0             5   \n",
      "14        240              9             4.5                0.3            35   \n",
      "37        250            0.3             0.2                0.0            10   \n",
      "167        80              0             0.0                0.0             0   \n",
      "10        130            0.3             0.2                0.0             5   \n",
      "207       340            2.5             0.3                0.0             0   \n",
      "43         25              0             0.0                0.0             0   \n",
      "220       110            0.5             0.4                0.0             0   \n",
      "92        240            2.5             1.5                0.0             5   \n",
      "204       260            1.5             0.2                0.0             0   \n",
      "127       370            0.5             0.3                0.0            10   \n",
      "129       390              8             1.0                0.0             0   \n",
      "203       280            3.5             2.0                0.1            10   \n",
      "\n",
      "      Total Carbohydrates (g)   Cholesterol (mg)   Dietary Fibre (g)  \\\n",
      "8                          135                15                   0   \n",
      "208                        170                47                   1   \n",
      "98                          10                35                   0   \n",
      "142                         45                16                   0   \n",
      "15                         170                16                   2   \n",
      "60                         160                18                   0   \n",
      "128                        230                72                   2   \n",
      "5                           85                10                   0   \n",
      "59                         125                14                   0   \n",
      "174                        150                51                   7   \n",
      "68                         130                35                   0   \n",
      "36                         120                31                   1   \n",
      "76                         110                28                   1   \n",
      "227                        240                43                   2   \n",
      "152                        125                38                   0   \n",
      "52                          80                 9                   1   \n",
      "196                        300                80                   1   \n",
      "17                          70                21                   1   \n",
      "40                           5                 1                   0   \n",
      "230                        140                38                   0   \n",
      "149                         95                31                   0   \n",
      "166                          0                15                   0   \n",
      "45                          70                 8                   0   \n",
      "3                           10                 0                   0   \n",
      "64                          60                14                   1   \n",
      "232                        190                53                   0   \n",
      "190                        150                42                   1   \n",
      "161                         35                24                   0   \n",
      "212                        250                67                   2   \n",
      "75                         125                31                   0   \n",
      "88                          60                23                   2   \n",
      "228                        320                58                   2   \n",
      "7                          120                15                   0   \n",
      "145                         65                23                   0   \n",
      "14                         220                24                   0   \n",
      "37                         180                47                   0   \n",
      "167                          0                21                   0   \n",
      "10                         150                19                   0   \n",
      "207                        290                75                   1   \n",
      "43                          15                 4                   0   \n",
      "220                        150                24                   1   \n",
      "92                         140                48                   2   \n",
      "204                        220                58                   0   \n",
      "127                        200                73                   2   \n",
      "129                        180                64                   4   \n",
      "203                        220                60                   0   \n",
      "\n",
      "      Sugars (g)   Protein (g)  Vitamin A (% DV)  Vitamin C (% DV)  \\\n",
      "8             14           10.0               15%               0%   \n",
      "208           44            4.0                4%               0%   \n",
      "98            33            0.0                0%               0%   \n",
      "142           16            4.0                6%               0%   \n",
      "15            11           13.0               20%               0%   \n",
      "60            16           12.0               20%               0%   \n",
      "128           71           17.0               25%              20%   \n",
      "5              9            6.0               10%               0%   \n",
      "59            13            9.0               15%               0%   \n",
      "174           31           19.0                6%              15%   \n",
      "68            32           11.0               20%               0%   \n",
      "36            26            9.0               10%               0%   \n",
      "76            25            6.0                6%               0%   \n",
      "227           39            5.0                6%               0%   \n",
      "152           38            9.0               15%               0%   \n",
      "52             5            7.0                8%               0%   \n",
      "196           76            7.0               10%               0%   \n",
      "17            17            6.0                8%               0%   \n",
      "40             0            0.4                0%               0%   \n",
      "230           37            3.0                4%               6%   \n",
      "149           30            7.0               10%               0%   \n",
      "166           15            0.0                0%               0%   \n",
      "45             7            5.0                8%               0%   \n",
      "3              0            1.0                0%               0%   \n",
      "64            11            4.0                6%               0%   \n",
      "232           52            4.0                8%               6%   \n",
      "190           40            3.0                4%               0%   \n",
      "161           24            2.0                4%               0%   \n",
      "212           62            5.0                4%               0%   \n",
      "75            29            7.0                8%               2%   \n",
      "88            18            6.0                6%               0%   \n",
      "228           52            7.0                8%               0%   \n",
      "7             14           10.0               15%               0%   \n",
      "145           23            5.0               10%               0%   \n",
      "14            22           16.0               25%               2%   \n",
      "37            45           15.0               25%               0%   \n",
      "167           21            0.0                0%               0%   \n",
      "10            18           13.0               20%               0%   \n",
      "207           73            5.0                6%               0%   \n",
      "43             0            1.0                0%               0%   \n",
      "220           23            3.0                4%               0%   \n",
      "92            41           14.0               20%               0%   \n",
      "204           56            3.0                4%               0%   \n",
      "127           71           18.0               30%              20%   \n",
      "129           58           14.0               20%              20%   \n",
      "203           59            3.0                4%               0%   \n",
      "\n",
      "     Calcium (% DV)   \n",
      "8                30%  \n",
      "208              10%  \n",
      "98                0%  \n",
      "142              10%  \n",
      "15               50%  \n",
      "60               35%  \n",
      "128              50%  \n",
      "5                20%  \n",
      "59               30%  \n",
      "174              20%  \n",
      "68               35%  \n",
      "36               35%  \n",
      "76               25%  \n",
      "227              10%  \n",
      "152              30%  \n",
      "52               25%  \n",
      "196              15%  \n",
      "17               15%  \n",
      "40                0%  \n",
      "230              10%  \n",
      "149              25%  \n",
      "166               0%  \n",
      "45               15%  \n",
      "3                 2%  \n",
      "64               15%  \n",
      "232              15%  \n",
      "190              10%  \n",
      "161               8%  \n",
      "212              10%  \n",
      "75               25%  \n",
      "88               20%  \n",
      "228              15%  \n",
      "7                30%  \n",
      "145              20%  \n",
      "14               50%  \n",
      "37               50%  \n",
      "167               0%  \n",
      "10               40%  \n",
      "207              20%  \n",
      "43                2%  \n",
      "220               8%  \n",
      "92               40%  \n",
      "204              10%  \n",
      "127              60%  \n",
      "129              60%  \n",
      "203              10%  \n"
     ]
    }
   ],
   "source": [
    "remaining = df_new[~df_new.index.isin(new_df.index)]\n",
    "\n",
    "B = remaining.sample(frac=0.25, random_state=2)\n",
    "print(B)"
   ]
  },
  {
   "cell_type": "code",
   "execution_count": 361,
   "metadata": {},
   "outputs": [
    {
     "name": "stdout",
     "output_type": "stream",
     "text": [
      "                 Beverage_type                                       Beverage  \\\n",
      "109           Tazo® Tea Drinks                           Tazo® Chai Tea Latte   \n",
      "41     Classic Espresso Drinks                                Caffè Americano   \n",
      "126           Tazo® Tea Drinks                          Tazo® Green Tea Latte   \n",
      "138           Tazo® Tea Drinks                      Tazo® Full-Leaf Tea Latte   \n",
      "20     Classic Espresso Drinks            Caffè Mocha (Without Whipped Cream)   \n",
      "..                         ...                                            ...   \n",
      "24     Classic Espresso Drinks            Caffè Mocha (Without Whipped Cream)   \n",
      "112           Tazo® Tea Drinks                           Tazo® Chai Tea Latte   \n",
      "135           Tazo® Tea Drinks                      Tazo® Full-Leaf Tea Latte   \n",
      "87   Signature Espresso Drinks          Hot Chocolate (Without Whipped Cream)   \n",
      "78   Signature Espresso Drinks  White Chocolate Mocha (Without Whipped Cream)   \n",
      "\n",
      "              Milk_used  Calories  Total Fat (g)  Trans Fat (g)   \\\n",
      "109    Tall Nonfat Milk       160            0.2             0.1   \n",
      "41                 Tall        10              0             0.0   \n",
      "126             Soymilk       310              6             1.0   \n",
      "138             Soymilk       170            3.5             0.4   \n",
      "20              2% Milk       200              6             3.5   \n",
      "..                  ...       ...            ...             ...   \n",
      "24              Soymilk       230              7             2.0   \n",
      "112  Grande Nonfat Milk       210            0.2             0.1   \n",
      "135             Soymilk       130            2.5             0.3   \n",
      "87              2% Milk       150            4.5             2.5   \n",
      "78              2% Milk       310              9             6.0   \n",
      "\n",
      "     Saturated Fat (g)   Sodium (mg)   Total Carbohydrates (g)   \\\n",
      "109                0.0             5                         80   \n",
      "41                 0.0             0                         10   \n",
      "126                0.0             0                        140   \n",
      "138                0.0             0                         80   \n",
      "20                 0.1            20                        115   \n",
      "..                 ...           ...                        ...   \n",
      "24                 0.0             0                        105   \n",
      "112                0.0             5                        105   \n",
      "135                0.0             0                         60   \n",
      "87                 0.1            15                         80   \n",
      "78                 0.1            20                        200   \n",
      "\n",
      "     Cholesterol (mg)   Dietary Fibre (g)   Sugars (g)   Protein (g)   \\\n",
      "109                34                   0           32            6.0   \n",
      "41                  2                   0            0            1.0   \n",
      "126                50                   3           46           11.0   \n",
      "138                27                   1           25            6.0   \n",
      "20                 32                   1           26           10.0   \n",
      "..                ...                 ...          ...            ...   \n",
      "24                 37                   3           26           11.0   \n",
      "112                45                   0           43            8.0   \n",
      "135                21                   1           19            4.0   \n",
      "87                 26                   1           22            7.0   \n",
      "78                 46                   0           44           11.0   \n",
      "\n",
      "    Vitamin A (% DV)  Vitamin C (% DV)  Calcium (% DV)   \n",
      "109               10%               0%              20%  \n",
      "41                 0%               0%               2%  \n",
      "126               15%              15%              45%  \n",
      "138                8%               0%              25%  \n",
      "20                15%               0%              25%  \n",
      "..                ...              ...              ...  \n",
      "24                10%               0%              35%  \n",
      "112               15%               0%              25%  \n",
      "135                6%               0%              20%  \n",
      "87                10%               0%              20%  \n",
      "78                15%               2%              35%  \n",
      "\n",
      "[68 rows x 16 columns]\n"
     ]
    }
   ],
   "source": [
    "remaining1 = df_new[~df_new.index.isin(new_df.index) &~ df_new.index.isin(B.index)]\n",
    "\n",
    "C = remaining1.sample(frac=0.5, random_state=3)\n",
    "\n",
    "print(C)"
   ]
  },
  {
   "cell_type": "code",
   "execution_count": 362,
   "metadata": {},
   "outputs": [
    {
     "name": "stdout",
     "output_type": "stream",
     "text": [
      "                  Beverage_type                                      Beverage  \\\n",
      "1                        Coffee                                 Brewed Coffee   \n",
      "2                        Coffee                                 Brewed Coffee   \n",
      "6       Classic Espresso Drinks                                   Caffè Latte   \n",
      "21      Classic Espresso Drinks           Caffè Mocha (Without Whipped Cream)   \n",
      "30      Classic Espresso Drinks      Vanilla Latte (Or Other Flavoured Latte)   \n",
      "..                          ...                                           ...   \n",
      "234  Frappuccino® Blended Crème  Strawberries & Crème (Without Whipped Cream)   \n",
      "235  Frappuccino® Blended Crème  Strawberries & Crème (Without Whipped Cream)   \n",
      "236  Frappuccino® Blended Crème  Strawberries & Crème (Without Whipped Cream)   \n",
      "237  Frappuccino® Blended Crème  Strawberries & Crème (Without Whipped Cream)   \n",
      "240  Frappuccino® Blended Crème          Vanilla Bean (Without Whipped Cream)   \n",
      "\n",
      "             Milk_used  Calories  Total Fat (g)  Trans Fat (g)   \\\n",
      "1                 Tall         4            0.1             0.0   \n",
      "2               Grande         5            0.1             0.0   \n",
      "6              Soymilk        70            2.5             0.4   \n",
      "21             Soymilk       180              5             1.5   \n",
      "30             Soymilk       110            2.5             0.3   \n",
      "..                 ...       ...            ...             ...   \n",
      "234            Soymilk       240              2             0.2   \n",
      "235  Venti Nonfat Milk       310            0.2             0.1   \n",
      "236         Whole Milk       350              6             3.0   \n",
      "237            Soymilk       320            3 2             0.4   \n",
      "240            Soymilk       180            1.5             0.2   \n",
      "\n",
      "     Saturated Fat (g)   Sodium (mg)   Total Carbohydrates (g)   \\\n",
      "1                  0.0             0                         10   \n",
      "2                  0.0             0                         10   \n",
      "6                  0.0             0                         65   \n",
      "21                 0.0             0                         85   \n",
      "30                 0.0             0                         60   \n",
      "..                 ...           ...                        ...   \n",
      "234                0.0             0                        180   \n",
      "235                0.0             5                        260   \n",
      "236                0.2            15                        260   \n",
      "237                0.0             0                        250   \n",
      "240                0.0             0                        160   \n",
      "\n",
      "     Cholesterol (mg)   Dietary Fibre (g)   Sugars (g)   Protein (g)   \\\n",
      "1                   0                   0            0            0.5   \n",
      "2                   0                   0            0            1.0   \n",
      "6                   6                   1            4            5.0   \n",
      "21                 28                   2           20            9.0   \n",
      "30                 16                   1           13            5.0   \n",
      "..                ...                 ...          ...            ...   \n",
      "234                51                   1           49            3.0   \n",
      "235                70                   0           69            6.0   \n",
      "236                70                   0           68            6.0   \n",
      "237                67                   1           64            5.0   \n",
      "240                37                   1           35            3.0   \n",
      "\n",
      "    Vitamin A (% DV)  Vitamin C (% DV)  Calcium (% DV)   \n",
      "1                  0%               0%               0%  \n",
      "2                  0%               0%               0%  \n",
      "6                  6%               0%              20%  \n",
      "21                10%               0%              25%  \n",
      "30                 6%               0%              20%  \n",
      "..                ...              ...              ...  \n",
      "234                4%               6%              15%  \n",
      "235               10%               8%              20%  \n",
      "236                8%               8%              20%  \n",
      "237                6%               8%              20%  \n",
      "240                4%               0%              10%  \n",
      "\n",
      "[68 rows x 16 columns]\n"
     ]
    }
   ],
   "source": [
    "D = df_new[~df_new.index.isin(new_df.index) &~ df_new.index.isin(B.index) &~ df_new.index.isin(C.index)]\n",
    "print(D)"
   ]
  },
  {
   "cell_type": "code",
   "execution_count": 363,
   "metadata": {},
   "outputs": [],
   "source": [
    "import matplotlib.pyplot as plt\n",
    "import seaborn as sns"
   ]
  },
  {
   "cell_type": "code",
   "execution_count": 364,
   "metadata": {},
   "outputs": [
    {
     "data": {
      "text/plain": [
       "Index(['Beverage_type', 'Beverage', 'Milk_used', 'Calories', ' Total Fat (g)',\n",
       "       'Trans Fat (g) ', 'Saturated Fat (g)', ' Sodium (mg)',\n",
       "       ' Total Carbohydrates (g) ', 'Cholesterol (mg)', ' Dietary Fibre (g)',\n",
       "       ' Sugars (g)', ' Protein (g) ', 'Vitamin A (% DV) ', 'Vitamin C (% DV)',\n",
       "       ' Calcium (% DV) '],\n",
       "      dtype='object')"
      ]
     },
     "execution_count": 364,
     "metadata": {},
     "output_type": "execute_result"
    }
   ],
   "source": [
    "df_new.columns"
   ]
  },
  {
   "cell_type": "code",
   "execution_count": 365,
   "metadata": {},
   "outputs": [
    {
     "data": {
      "text/plain": [
       "(array([[ 67., 108.,  57.,  10.],\n",
       "        [242.,   0.,   0.,   0.]]),\n",
       " array([  0. , 127.5, 255. , 382.5, 510. ]),\n",
       " <a list of 2 BarContainer objects>)"
      ]
     },
     "execution_count": 365,
     "metadata": {},
     "output_type": "execute_result"
    },
    {
     "data": {
      "image/png": "[encoded data removed]",
      "text/plain": [
       "<Figure size 640x480 with 1 Axes>"
      ]
     },
     "metadata": {},
     "output_type": "display_data"
    }
   ],
   "source": [
    "plt.hist(df[['Calories',' Protein (g) ']], bins=4)"
   ]
  },
  {
   "cell_type": "code",
   "execution_count": 366,
   "metadata": {},
   "outputs": [
    {
     "data": {
      "text/plain": [
       "<Axes: >"
      ]
     },
     "execution_count": 366,
     "metadata": {},
     "output_type": "execute_result"
    },
    {
     "data": {
      "image/png": "[encoded data removed]",
      "text/plain": [
       "<Figure size 640x480 with 1 Axes>"
      ]
     },
     "metadata": {},
     "output_type": "display_data"
    }
   ],
   "source": [
    "sns.boxplot(data=df[['Calories',' Protein (g) ']], color='g')"
   ]
  },
  {
   "cell_type": "code",
   "execution_count": null,
   "metadata": {},
   "outputs": [],
   "source": []
  }
 ],
 "metadata": {
  "kernelspec": {
   "display_name": "base",
   "language": "python",
   "name": "python3"
  },
  "language_info": {
   "codemirror_mode": {
    "name": "ipython",
    "version": 3
   },
   "file_extension": ".py",
   "mimetype": "text/x-python",
   "name": "python",
   "nbconvert_exporter": "python",
   "pygments_lexer": "ipython3",
   "version": "3.12.2"
  }
 },
 "nbformat": 4,
 "nbformat_minor": 2
}
