{
 "cells": [
  {
   "cell_type": "code",
   "execution_count": 2,
   "metadata": {},
   "outputs": [],
   "source": [
    "import pandas as pd"
   ]
  },
  {
   "cell_type": "code",
   "execution_count": 3,
   "metadata": {},
   "outputs": [],
   "source": [
    "df = pd.read_csv('./nutrition-drinks.csv')"
   ]
  },
  {
   "cell_type": "code",
   "execution_count": 4,
   "metadata": {},
   "outputs": [
    {
     "data": {
      "text/html": [
       "<div>\n",
       "<style scoped>\n",
       "    .dataframe tbody tr th:only-of-type {\n",
       "        vertical-align: middle;\n",
       "    }\n",
       "\n",
       "    .dataframe tbody tr th {\n",
       "        vertical-align: top;\n",
       "    }\n",
       "\n",
       "    .dataframe thead th {\n",
       "        text-align: right;\n",
       "    }\n",
       "</style>\n",
       "<table border=\"1\" class=\"dataframe\">\n",
       "  <thead>\n",
       "    <tr style=\"text-align: right;\">\n",
       "      <th></th>\n",
       "      <th>Unnamed: 0</th>\n",
       "      <th>Calories</th>\n",
       "      <th>Fat (g)</th>\n",
       "      <th>Carb. (g)</th>\n",
       "      <th>Fiber (g)</th>\n",
       "      <th>Protein</th>\n",
       "      <th>Sodium</th>\n",
       "    </tr>\n",
       "  </thead>\n",
       "  <tbody>\n",
       "    <tr>\n",
       "      <th>0</th>\n",
       "      <td>Cool Lime Starbucks Refreshers™ Beverage</td>\n",
       "      <td>45</td>\n",
       "      <td>0</td>\n",
       "      <td>11</td>\n",
       "      <td>0</td>\n",
       "      <td>0</td>\n",
       "      <td>10</td>\n",
       "    </tr>\n",
       "    <tr>\n",
       "      <th>1</th>\n",
       "      <td>Ombré Pink Drink</td>\n",
       "      <td>-</td>\n",
       "      <td>-</td>\n",
       "      <td>-</td>\n",
       "      <td>-</td>\n",
       "      <td>-</td>\n",
       "      <td>-</td>\n",
       "    </tr>\n",
       "    <tr>\n",
       "      <th>2</th>\n",
       "      <td>Pink Drink</td>\n",
       "      <td>-</td>\n",
       "      <td>-</td>\n",
       "      <td>-</td>\n",
       "      <td>-</td>\n",
       "      <td>-</td>\n",
       "      <td>-</td>\n",
       "    </tr>\n",
       "    <tr>\n",
       "      <th>3</th>\n",
       "      <td>Strawberry Acai Starbucks Refreshers™ Beverage</td>\n",
       "      <td>80</td>\n",
       "      <td>0</td>\n",
       "      <td>18</td>\n",
       "      <td>1</td>\n",
       "      <td>0</td>\n",
       "      <td>10</td>\n",
       "    </tr>\n",
       "    <tr>\n",
       "      <th>4</th>\n",
       "      <td>Very Berry Hibiscus Starbucks Refreshers™ Beve...</td>\n",
       "      <td>60</td>\n",
       "      <td>0</td>\n",
       "      <td>14</td>\n",
       "      <td>1</td>\n",
       "      <td>0</td>\n",
       "      <td>10</td>\n",
       "    </tr>\n",
       "  </tbody>\n",
       "</table>\n",
       "</div>"
      ],
      "text/plain": [
       "                                          Unnamed: 0 Calories Fat (g)  \\\n",
       "0           Cool Lime Starbucks Refreshers™ Beverage       45       0   \n",
       "1                                   Ombré Pink Drink        -       -   \n",
       "2                                         Pink Drink        -       -   \n",
       "3     Strawberry Acai Starbucks Refreshers™ Beverage       80       0   \n",
       "4  Very Berry Hibiscus Starbucks Refreshers™ Beve...       60       0   \n",
       "\n",
       "  Carb. (g) Fiber (g) Protein Sodium  \n",
       "0        11         0       0     10  \n",
       "1         -         -       -      -  \n",
       "2         -         -       -      -  \n",
       "3        18         1       0     10  \n",
       "4        14         1       0     10  "
      ]
     },
     "execution_count": 4,
     "metadata": {},
     "output_type": "execute_result"
    }
   ],
   "source": [
    "df.head(5)"
   ]
  },
  {
   "cell_type": "code",
   "execution_count": 5,
   "metadata": {},
   "outputs": [
    {
     "data": {
      "text/html": [
       "<div>\n",
       "<style scoped>\n",
       "    .dataframe tbody tr th:only-of-type {\n",
       "        vertical-align: middle;\n",
       "    }\n",
       "\n",
       "    .dataframe tbody tr th {\n",
       "        vertical-align: top;\n",
       "    }\n",
       "\n",
       "    .dataframe thead th {\n",
       "        text-align: right;\n",
       "    }\n",
       "</style>\n",
       "<table border=\"1\" class=\"dataframe\">\n",
       "  <thead>\n",
       "    <tr style=\"text-align: right;\">\n",
       "      <th></th>\n",
       "      <th>Unnamed: 0</th>\n",
       "      <th>Calories</th>\n",
       "      <th>Fat (g)</th>\n",
       "      <th>Carb. (g)</th>\n",
       "      <th>Fiber (g)</th>\n",
       "      <th>Protein</th>\n",
       "      <th>Sodium</th>\n",
       "    </tr>\n",
       "  </thead>\n",
       "  <tbody>\n",
       "    <tr>\n",
       "      <th>172</th>\n",
       "      <td>Chocolate Smoothie</td>\n",
       "      <td>320</td>\n",
       "      <td>5</td>\n",
       "      <td>53</td>\n",
       "      <td>8</td>\n",
       "      <td>20</td>\n",
       "      <td>170</td>\n",
       "    </tr>\n",
       "    <tr>\n",
       "      <th>173</th>\n",
       "      <td>Strawberry Smoothie</td>\n",
       "      <td>300</td>\n",
       "      <td>2</td>\n",
       "      <td>60</td>\n",
       "      <td>7</td>\n",
       "      <td>16</td>\n",
       "      <td>130</td>\n",
       "    </tr>\n",
       "    <tr>\n",
       "      <th>174</th>\n",
       "      <td>Ginger Ale</td>\n",
       "      <td>-</td>\n",
       "      <td>-</td>\n",
       "      <td>-</td>\n",
       "      <td>-</td>\n",
       "      <td>-</td>\n",
       "      <td>-</td>\n",
       "    </tr>\n",
       "    <tr>\n",
       "      <th>175</th>\n",
       "      <td>Lemon Ale</td>\n",
       "      <td>-</td>\n",
       "      <td>-</td>\n",
       "      <td>-</td>\n",
       "      <td>-</td>\n",
       "      <td>-</td>\n",
       "      <td>-</td>\n",
       "    </tr>\n",
       "    <tr>\n",
       "      <th>176</th>\n",
       "      <td>Orange Cream Soda</td>\n",
       "      <td>-</td>\n",
       "      <td>-</td>\n",
       "      <td>-</td>\n",
       "      <td>-</td>\n",
       "      <td>-</td>\n",
       "      <td>-</td>\n",
       "    </tr>\n",
       "  </tbody>\n",
       "</table>\n",
       "</div>"
      ],
      "text/plain": [
       "              Unnamed: 0 Calories Fat (g) Carb. (g) Fiber (g) Protein Sodium\n",
       "172   Chocolate Smoothie      320       5        53         8      20    170\n",
       "173  Strawberry Smoothie      300       2        60         7      16    130\n",
       "174           Ginger Ale        -       -         -         -       -      -\n",
       "175            Lemon Ale        -       -         -         -       -      -\n",
       "176    Orange Cream Soda        -       -         -         -       -      -"
      ]
     },
     "execution_count": 5,
     "metadata": {},
     "output_type": "execute_result"
    }
   ],
   "source": [
    "df.tail(5)"
   ]
  },
  {
   "cell_type": "code",
   "execution_count": 6,
   "metadata": {},
   "outputs": [
    {
     "data": {
      "text/plain": [
       "(177, 7)"
      ]
     },
     "execution_count": 6,
     "metadata": {},
     "output_type": "execute_result"
    }
   ],
   "source": [
    "df.shape"
   ]
  },
  {
   "cell_type": "code",
   "execution_count": 7,
   "metadata": {},
   "outputs": [
    {
     "data": {
      "text/plain": [
       "Index(['Unnamed: 0', 'Calories', 'Fat (g)', 'Carb. (g)', 'Fiber (g)',\n",
       "       'Protein', 'Sodium'],\n",
       "      dtype='object')"
      ]
     },
     "execution_count": 7,
     "metadata": {},
     "output_type": "execute_result"
    }
   ],
   "source": [
    "df.columns"
   ]
  },
  {
   "cell_type": "code",
   "execution_count": 8,
   "metadata": {},
   "outputs": [
    {
     "data": {
      "text/plain": [
       "RangeIndex(start=0, stop=177, step=1)"
      ]
     },
     "execution_count": 8,
     "metadata": {},
     "output_type": "execute_result"
    }
   ],
   "source": [
    "df.index"
   ]
  },
  {
   "cell_type": "code",
   "execution_count": 9,
   "metadata": {},
   "outputs": [
    {
     "data": {
      "text/plain": [
       "array(['Cool Lime Starbucks Refreshers™ Beverage', 'Ombré Pink Drink',\n",
       "       'Pink Drink', 'Strawberry Acai Starbucks Refreshers™ Beverage',\n",
       "       'Very Berry Hibiscus Starbucks Refreshers™ Beverage',\n",
       "       'Violet Drink', 'Evolution Fresh™ Cold-Pressed Apple Berry Juice',\n",
       "       'Evolution Fresh™ Defense Up',\n",
       "       'Evolution Fresh™ Organic Ginger Limeade', 'Iced Coffee',\n",
       "       'Iced Coffee with Milk', 'Iced Espresso Classics - Vanilla Latte',\n",
       "       'Iced Espresso Classics - Caffe Mocha',\n",
       "       'Iced Espresso Classics - Caramel Macchiato',\n",
       "       'Starbucks® Caramel Iced Coffee', 'Starbucks® Iced Coffee + Milk',\n",
       "       'Starbucks® Low Calorie Iced Coffee + Milk',\n",
       "       'Starbucks® Vanilla Iced Coffee', 'Shaken Sweet Tea',\n",
       "       'Tazo® Bottled Berry Blossom White', 'Tazo® Bottled Black Mango',\n",
       "       'Tazo® Bottled Black with Lemon', 'Tazo® Bottled Brambleberry',\n",
       "       'Tazo® Bottled Giant Peach', 'Tazo® Bottled Iced Passion',\n",
       "       'Tazo® Bottled Lemon Ginger',\n",
       "       'Tazo® Bottled Organic Black Lemonade',\n",
       "       'Tazo® Bottled Organic Iced Black Tea',\n",
       "       'Tazo® Bottled Organic Iced Green Tea',\n",
       "       'Tazo® Bottled Plum Pomegranate', 'Tazo® Bottled Tazoberry',\n",
       "       'Tazo® Bottled White Cranberry', 'Teavana® Shaken Iced Black Tea',\n",
       "       'Teavana® Shaken Iced Black Tea Lemonade',\n",
       "       'Teavana® Shaken Iced Green Tea',\n",
       "       'Teavana® Shaken Iced Green Tea Lemonade',\n",
       "       'Teavana® Shaken Iced Passion Tango™ Tea',\n",
       "       'Teavana® Shaken Iced Passion Tango™ Tea Lemonade',\n",
       "       'Teavana® Shaken Iced Peach Green Tea',\n",
       "       'Iced Espresso Classics - Skinny Caramel Macchiato',\n",
       "       'Iced Espresso Classics - Skinny Vanilla Latte',\n",
       "       'Starbucks Doubleshot® Energy Coffee Drink',\n",
       "       'Starbucks Doubleshot® Energy Mexican Mocha',\n",
       "       'Starbucks Doubleshot® Energy Mocha Drink',\n",
       "       'Starbucks Doubleshot® Energy Vanilla Drink',\n",
       "       'Starbucks Doubleshot® Energy White Chocolate Drink',\n",
       "       'Starbucks Doubleshot® Energy+Cinnamon Dolce Drink',\n",
       "       'Starbucks Doubleshot® Espresso Cubano',\n",
       "       'Starbucks Doubleshot® Espresso Drink',\n",
       "       'Starbucks Doubleshot® Espresso Salted Caramel Cream',\n",
       "       'Starbucks Doubleshot® Light Espresso Drink',\n",
       "       'Starbucks Doubleshot® Protein Caramel',\n",
       "       'Starbucks Refreshers™ Raspberry Pomegranate',\n",
       "       'Starbucks Refreshers™ Strawberry Lemonade',\n",
       "       'Starbucks® Bottled Caramel Frappuccino® Coffee Drink',\n",
       "       'Starbucks® Bottled Coffee Frappuccino® Coffee Drink',\n",
       "       'Starbucks® Bottled Cold Brew Black, Unsweetened',\n",
       "       'Starbucks® Bottled Cold Brew Cocoa and Honey with Cream',\n",
       "       'Starbucks® Bottled Dulce de Leche Frappuccino® Coffee Drink',\n",
       "       'Starbucks® Bottled Mocha Frappuccino® Coffee Drink',\n",
       "       'Starbucks® Bottled Mocha Light Frappuccino® Coffee Drink',\n",
       "       \"Starbucks® Bottled S'mores Frappuccino® Coffee Drink\",\n",
       "       'Starbucks® Bottled Vanilla Frappuccino® Coffee Drink',\n",
       "       'Starbucks® Bottled Vanilla Light Frappuccino® Coffee Drink',\n",
       "       'Starbucks® Doubleshot Protein Dark Chocolate',\n",
       "       'Starbucks® Doubleshot Protein Vanilla',\n",
       "       'Starbucks® Iced Coffee Caramel',\n",
       "       'Starbucks® Iced Coffee Light Sweetened',\n",
       "       'Starbucks® Iced Coffee Unsweetened',\n",
       "       'Starbucks® Refreshers™ - Black Cherry Limeade with Coconut Water',\n",
       "       'Teavana® Mango Black Tea', 'Teavana® Passion Tango® Herbal Tea',\n",
       "       'Teavana® Peach Green Tea',\n",
       "       'White Chocolate Mocha Bottled Frappuccino', 'Blonde Roast',\n",
       "       'Caffè Misto', 'Clover® Brewed Coffee', 'Coffee Traveler',\n",
       "       'Decaf Pike Place® Roast', 'Featured Dark Roast',\n",
       "       'Nariño 70 Cold Brew', 'Nariño 70 Cold Brew with Milk',\n",
       "       'Nitro Cold Brew', 'Nitro Cold Brew with Sweet Cream',\n",
       "       'Pike Place® Roast', 'Toasted Coconut Cold Brew',\n",
       "       'Vanilla Sweet Cream Cold Brew', 'Hot Chocolate',\n",
       "       'Starbucks® Signature Hot Chocolate', 'Caffè Americano',\n",
       "       'Caffè Latte', 'Caffè Mocha', 'Cappuccino', 'Caramel Macchiato',\n",
       "       'Cascara Coconutmilk Latte', 'Cinnamon Dolce Latte',\n",
       "       'Coconutmilk Mocha Macchiato', 'Espresso', 'Espresso Con Panna',\n",
       "       'Espresso Macchiato', 'Flat White', 'Iced Caffè Americano',\n",
       "       'Iced Caffè Latte', 'Iced Caffè Mocha', 'Iced Caramel Macchiato',\n",
       "       'Iced Cascara Coconutmilk Latte', 'Iced Cinnamon Dolce Latte',\n",
       "       'Iced Coconutmilk Mocha Macchiato',\n",
       "       'Iced Skinny Cinnamon Dolce Latte', 'Iced Skinny Mocha',\n",
       "       'Iced Vanilla Latte', 'Iced White Chocolate Mocha',\n",
       "       'Latte Macchiato', 'Skinny Mocha',\n",
       "       'Starbucks Doubleshot® on Ice Beverage', 'Vanilla Latte',\n",
       "       'White Chocolate Mocha',\n",
       "       'Caffè Vanilla Frappuccino® Blended Coffee',\n",
       "       'Caffè Vanilla Light Frappuccino® Blended Coffee',\n",
       "       'Caramel Cocoa Cluster Frappuccino® Blended Coffee',\n",
       "       'Caramel Frappuccino® Blended Coffee',\n",
       "       'Caramel Light Frappuccino® Blended Coffee',\n",
       "       'Chai Crème Frappuccino® Blended Crème',\n",
       "       'Cinnamon Dolce Frappuccino® Blended Coffee',\n",
       "       'Cinnamon Dolce Light Frappuccino® Blended Coffee',\n",
       "       'Cinnamon Roll Frappuccino® Blended Coffee',\n",
       "       'Coffee Frappuccino® Blended Coffee',\n",
       "       'Coffee Light Frappuccino® Blended Coffee',\n",
       "       'Cupcake Crème Frappuccino® Blended Crème',\n",
       "       'Green Tea Crème Frappuccino® Blended Crème',\n",
       "       'Java Chip Frappuccino® Blended Coffee',\n",
       "       'Java Chip Light Frappuccino® Blended Coffee',\n",
       "       'Lemon Bar Crème Frappuccino® Blended Crème',\n",
       "       'Midnight Mint Mocha Frappuccino® Blended Coffee',\n",
       "       'Midnight Mint Mocha Frappuccino® Blended Crème',\n",
       "       'Mocha Frappuccino® Blended Coffee',\n",
       "       'Mocha Light Frappuccino® Blended Coffee',\n",
       "       'Oprah Cinnamon Chai Crème Frappuccino® Blended Crème',\n",
       "       'Red Velvet Cake Crème Frappuccino® Blended Crème',\n",
       "       \"S'mores Frappuccino® Blended Coffee\",\n",
       "       \"S'mores Frappuccino® Blended Crème\",\n",
       "       'Strawberries & Crème Frappuccino® Blended Crème',\n",
       "       'The Pokémon™ GO Frappuccino® Blended Beverage',\n",
       "       'Vanilla Bean Crème Frappuccino® Blended Crème',\n",
       "       'White Chocolate Mocha Frappuccino® Blended Coffee',\n",
       "       'Cinnamon Dolce Crème', 'Organic Chocolate Milk Box',\n",
       "       'Steamed Apple Juice', 'Vanilla Crème', 'Chocolate Smoothie',\n",
       "       'Strawberry Smoothie', 'Ginger Ale', 'Lemon Ale',\n",
       "       'Orange Cream Soda'], dtype=object)"
      ]
     },
     "execution_count": 9,
     "metadata": {},
     "output_type": "execute_result"
    }
   ],
   "source": [
    "df['Unnamed: 0'].unique()"
   ]
  },
  {
   "cell_type": "code",
   "execution_count": 10,
   "metadata": {},
   "outputs": [
    {
     "data": {
      "text/plain": [
       "154"
      ]
     },
     "execution_count": 10,
     "metadata": {},
     "output_type": "execute_result"
    }
   ],
   "source": [
    "df['Unnamed: 0'].nunique()"
   ]
  },
  {
   "cell_type": "code",
   "execution_count": 11,
   "metadata": {},
   "outputs": [
    {
     "name": "stdout",
     "output_type": "stream",
     "text": [
      "Unnamed: 0    object\n",
      "Calories      object\n",
      "Fat (g)       object\n",
      "Carb. (g)     object\n",
      "Fiber (g)     object\n",
      "Protein       object\n",
      "Sodium        object\n",
      "dtype: object\n"
     ]
    }
   ],
   "source": [
    "print(df.dtypes)"
   ]
  },
  {
   "cell_type": "markdown",
   "metadata": {},
   "source": [
    "The first column or [Unnamed: 0] is categorical nominal as it contains non nuerical objects which cannot be ordered or ranked."
   ]
  },
  {
   "cell_type": "markdown",
   "metadata": {},
   "source": [
    "Rest all are numerical values which can can occur over a range. Thus can be termed as Numerical Continous."
   ]
  },
  {
   "cell_type": "code",
   "execution_count": 12,
   "metadata": {},
   "outputs": [
    {
     "data": {
      "text/plain": [
       "Unnamed: 0    0\n",
       "Calories      0\n",
       "Fat (g)       0\n",
       "Carb. (g)     0\n",
       "Fiber (g)     0\n",
       "Protein       0\n",
       "Sodium        0\n",
       "dtype: int64"
      ]
     },
     "execution_count": 12,
     "metadata": {},
     "output_type": "execute_result"
    }
   ],
   "source": [
    "df.isnull().sum()"
   ]
  },
  {
   "cell_type": "code",
   "execution_count": 13,
   "metadata": {},
   "outputs": [
    {
     "data": {
      "text/plain": [
       "Unnamed: 0    0\n",
       "Calories      0\n",
       "Fat (g)       0\n",
       "Carb. (g)     0\n",
       "Fiber (g)     0\n",
       "Protein       0\n",
       "Sodium        0\n",
       "dtype: int64"
      ]
     },
     "execution_count": 13,
     "metadata": {},
     "output_type": "execute_result"
    }
   ],
   "source": [
    "df.isna().sum()"
   ]
  },
  {
   "cell_type": "code",
   "execution_count": 14,
   "metadata": {},
   "outputs": [],
   "source": [
    "import numpy as np"
   ]
  },
  {
   "cell_type": "markdown",
   "metadata": {},
   "source": [
    "I am not able to remove the null data types as it is not recognising any although providing an error on functions such as mean. Thus I am not able to move forward on this file. PLEASE HELP."
   ]
  },
  {
   "cell_type": "code",
   "execution_count": 17,
   "metadata": {},
   "outputs": [
    {
     "ename": "TypeError",
     "evalue": "Could not convert string '45--8060---1100-130140130----8060150140140150701201406012014015014030703070309060130140130-------------9090-----------210200-605010---601501401401507012014060120140150140----5-10-555-505705-110320430-190290120250-260250---180-130230250-200260--190300190190-45250360------350---110-------280140--------200--200320300---' to numeric",
     "output_type": "error",
     "traceback": [
      "\u001b[1;31m---------------------------------------------------------------------------\u001b[0m",
      "\u001b[1;31mTypeError\u001b[0m                                 Traceback (most recent call last)",
      "Cell \u001b[1;32mIn[17], line 1\u001b[0m\n\u001b[1;32m----> 1\u001b[0m \u001b[43mdf\u001b[49m\u001b[43m[\u001b[49m\u001b[38;5;124;43m'\u001b[39;49m\u001b[38;5;124;43mCalories\u001b[39;49m\u001b[38;5;124;43m'\u001b[39;49m\u001b[43m]\u001b[49m\u001b[38;5;241;43m.\u001b[39;49m\u001b[43mmean\u001b[49m\u001b[43m(\u001b[49m\u001b[43m)\u001b[49m\n",
      "File \u001b[1;32mc:\\Users\\user\\miniconda3\\Lib\\site-packages\\pandas\\core\\series.py:6549\u001b[0m, in \u001b[0;36mSeries.mean\u001b[1;34m(self, axis, skipna, numeric_only, **kwargs)\u001b[0m\n\u001b[0;32m   6541\u001b[0m \u001b[38;5;129m@doc\u001b[39m(make_doc(\u001b[38;5;124m\"\u001b[39m\u001b[38;5;124mmean\u001b[39m\u001b[38;5;124m\"\u001b[39m, ndim\u001b[38;5;241m=\u001b[39m\u001b[38;5;241m1\u001b[39m))\n\u001b[0;32m   6542\u001b[0m \u001b[38;5;28;01mdef\u001b[39;00m \u001b[38;5;21mmean\u001b[39m(\n\u001b[0;32m   6543\u001b[0m     \u001b[38;5;28mself\u001b[39m,\n\u001b[1;32m   (...)\u001b[0m\n\u001b[0;32m   6547\u001b[0m     \u001b[38;5;241m*\u001b[39m\u001b[38;5;241m*\u001b[39mkwargs,\n\u001b[0;32m   6548\u001b[0m ):\n\u001b[1;32m-> 6549\u001b[0m     \u001b[38;5;28;01mreturn\u001b[39;00m \u001b[43mNDFrame\u001b[49m\u001b[38;5;241;43m.\u001b[39;49m\u001b[43mmean\u001b[49m\u001b[43m(\u001b[49m\u001b[38;5;28;43mself\u001b[39;49m\u001b[43m,\u001b[49m\u001b[43m \u001b[49m\u001b[43maxis\u001b[49m\u001b[43m,\u001b[49m\u001b[43m \u001b[49m\u001b[43mskipna\u001b[49m\u001b[43m,\u001b[49m\u001b[43m \u001b[49m\u001b[43mnumeric_only\u001b[49m\u001b[43m,\u001b[49m\u001b[43m \u001b[49m\u001b[38;5;241;43m*\u001b[39;49m\u001b[38;5;241;43m*\u001b[39;49m\u001b[43mkwargs\u001b[49m\u001b[43m)\u001b[49m\n",
      "File \u001b[1;32mc:\\Users\\user\\miniconda3\\Lib\\site-packages\\pandas\\core\\generic.py:12420\u001b[0m, in \u001b[0;36mNDFrame.mean\u001b[1;34m(self, axis, skipna, numeric_only, **kwargs)\u001b[0m\n\u001b[0;32m  12413\u001b[0m \u001b[38;5;28;01mdef\u001b[39;00m \u001b[38;5;21mmean\u001b[39m(\n\u001b[0;32m  12414\u001b[0m     \u001b[38;5;28mself\u001b[39m,\n\u001b[0;32m  12415\u001b[0m     axis: Axis \u001b[38;5;241m|\u001b[39m \u001b[38;5;28;01mNone\u001b[39;00m \u001b[38;5;241m=\u001b[39m \u001b[38;5;241m0\u001b[39m,\n\u001b[1;32m   (...)\u001b[0m\n\u001b[0;32m  12418\u001b[0m     \u001b[38;5;241m*\u001b[39m\u001b[38;5;241m*\u001b[39mkwargs,\n\u001b[0;32m  12419\u001b[0m ) \u001b[38;5;241m-\u001b[39m\u001b[38;5;241m>\u001b[39m Series \u001b[38;5;241m|\u001b[39m \u001b[38;5;28mfloat\u001b[39m:\n\u001b[1;32m> 12420\u001b[0m     \u001b[38;5;28;01mreturn\u001b[39;00m \u001b[38;5;28;43mself\u001b[39;49m\u001b[38;5;241;43m.\u001b[39;49m\u001b[43m_stat_function\u001b[49m\u001b[43m(\u001b[49m\n\u001b[0;32m  12421\u001b[0m \u001b[43m        \u001b[49m\u001b[38;5;124;43m\"\u001b[39;49m\u001b[38;5;124;43mmean\u001b[39;49m\u001b[38;5;124;43m\"\u001b[39;49m\u001b[43m,\u001b[49m\u001b[43m \u001b[49m\u001b[43mnanops\u001b[49m\u001b[38;5;241;43m.\u001b[39;49m\u001b[43mnanmean\u001b[49m\u001b[43m,\u001b[49m\u001b[43m \u001b[49m\u001b[43maxis\u001b[49m\u001b[43m,\u001b[49m\u001b[43m \u001b[49m\u001b[43mskipna\u001b[49m\u001b[43m,\u001b[49m\u001b[43m \u001b[49m\u001b[43mnumeric_only\u001b[49m\u001b[43m,\u001b[49m\u001b[43m \u001b[49m\u001b[38;5;241;43m*\u001b[39;49m\u001b[38;5;241;43m*\u001b[39;49m\u001b[43mkwargs\u001b[49m\n\u001b[0;32m  12422\u001b[0m \u001b[43m    \u001b[49m\u001b[43m)\u001b[49m\n",
      "File \u001b[1;32mc:\\Users\\user\\miniconda3\\Lib\\site-packages\\pandas\\core\\generic.py:12377\u001b[0m, in \u001b[0;36mNDFrame._stat_function\u001b[1;34m(self, name, func, axis, skipna, numeric_only, **kwargs)\u001b[0m\n\u001b[0;32m  12373\u001b[0m nv\u001b[38;5;241m.\u001b[39mvalidate_func(name, (), kwargs)\n\u001b[0;32m  12375\u001b[0m validate_bool_kwarg(skipna, \u001b[38;5;124m\"\u001b[39m\u001b[38;5;124mskipna\u001b[39m\u001b[38;5;124m\"\u001b[39m, none_allowed\u001b[38;5;241m=\u001b[39m\u001b[38;5;28;01mFalse\u001b[39;00m)\n\u001b[1;32m> 12377\u001b[0m \u001b[38;5;28;01mreturn\u001b[39;00m \u001b[38;5;28;43mself\u001b[39;49m\u001b[38;5;241;43m.\u001b[39;49m\u001b[43m_reduce\u001b[49m\u001b[43m(\u001b[49m\n\u001b[0;32m  12378\u001b[0m \u001b[43m    \u001b[49m\u001b[43mfunc\u001b[49m\u001b[43m,\u001b[49m\u001b[43m \u001b[49m\u001b[43mname\u001b[49m\u001b[38;5;241;43m=\u001b[39;49m\u001b[43mname\u001b[49m\u001b[43m,\u001b[49m\u001b[43m \u001b[49m\u001b[43maxis\u001b[49m\u001b[38;5;241;43m=\u001b[39;49m\u001b[43maxis\u001b[49m\u001b[43m,\u001b[49m\u001b[43m \u001b[49m\u001b[43mskipna\u001b[49m\u001b[38;5;241;43m=\u001b[39;49m\u001b[43mskipna\u001b[49m\u001b[43m,\u001b[49m\u001b[43m \u001b[49m\u001b[43mnumeric_only\u001b[49m\u001b[38;5;241;43m=\u001b[39;49m\u001b[43mnumeric_only\u001b[49m\n\u001b[0;32m  12379\u001b[0m \u001b[43m\u001b[49m\u001b[43m)\u001b[49m\n",
      "File \u001b[1;32mc:\\Users\\user\\miniconda3\\Lib\\site-packages\\pandas\\core\\series.py:6457\u001b[0m, in \u001b[0;36mSeries._reduce\u001b[1;34m(self, op, name, axis, skipna, numeric_only, filter_type, **kwds)\u001b[0m\n\u001b[0;32m   6452\u001b[0m     \u001b[38;5;66;03m# GH#47500 - change to TypeError to match other methods\u001b[39;00m\n\u001b[0;32m   6453\u001b[0m     \u001b[38;5;28;01mraise\u001b[39;00m \u001b[38;5;167;01mTypeError\u001b[39;00m(\n\u001b[0;32m   6454\u001b[0m         \u001b[38;5;124mf\u001b[39m\u001b[38;5;124m\"\u001b[39m\u001b[38;5;124mSeries.\u001b[39m\u001b[38;5;132;01m{\u001b[39;00mname\u001b[38;5;132;01m}\u001b[39;00m\u001b[38;5;124m does not allow \u001b[39m\u001b[38;5;132;01m{\u001b[39;00mkwd_name\u001b[38;5;132;01m}\u001b[39;00m\u001b[38;5;124m=\u001b[39m\u001b[38;5;132;01m{\u001b[39;00mnumeric_only\u001b[38;5;132;01m}\u001b[39;00m\u001b[38;5;124m \u001b[39m\u001b[38;5;124m\"\u001b[39m\n\u001b[0;32m   6455\u001b[0m         \u001b[38;5;124m\"\u001b[39m\u001b[38;5;124mwith non-numeric dtypes.\u001b[39m\u001b[38;5;124m\"\u001b[39m\n\u001b[0;32m   6456\u001b[0m     )\n\u001b[1;32m-> 6457\u001b[0m \u001b[38;5;28;01mreturn\u001b[39;00m \u001b[43mop\u001b[49m\u001b[43m(\u001b[49m\u001b[43mdelegate\u001b[49m\u001b[43m,\u001b[49m\u001b[43m \u001b[49m\u001b[43mskipna\u001b[49m\u001b[38;5;241;43m=\u001b[39;49m\u001b[43mskipna\u001b[49m\u001b[43m,\u001b[49m\u001b[43m \u001b[49m\u001b[38;5;241;43m*\u001b[39;49m\u001b[38;5;241;43m*\u001b[39;49m\u001b[43mkwds\u001b[49m\u001b[43m)\u001b[49m\n",
      "File \u001b[1;32mc:\\Users\\user\\miniconda3\\Lib\\site-packages\\pandas\\core\\nanops.py:147\u001b[0m, in \u001b[0;36mbottleneck_switch.__call__.<locals>.f\u001b[1;34m(values, axis, skipna, **kwds)\u001b[0m\n\u001b[0;32m    145\u001b[0m         result \u001b[38;5;241m=\u001b[39m alt(values, axis\u001b[38;5;241m=\u001b[39maxis, skipna\u001b[38;5;241m=\u001b[39mskipna, \u001b[38;5;241m*\u001b[39m\u001b[38;5;241m*\u001b[39mkwds)\n\u001b[0;32m    146\u001b[0m \u001b[38;5;28;01melse\u001b[39;00m:\n\u001b[1;32m--> 147\u001b[0m     result \u001b[38;5;241m=\u001b[39m \u001b[43malt\u001b[49m\u001b[43m(\u001b[49m\u001b[43mvalues\u001b[49m\u001b[43m,\u001b[49m\u001b[43m \u001b[49m\u001b[43maxis\u001b[49m\u001b[38;5;241;43m=\u001b[39;49m\u001b[43maxis\u001b[49m\u001b[43m,\u001b[49m\u001b[43m \u001b[49m\u001b[43mskipna\u001b[49m\u001b[38;5;241;43m=\u001b[39;49m\u001b[43mskipna\u001b[49m\u001b[43m,\u001b[49m\u001b[43m \u001b[49m\u001b[38;5;241;43m*\u001b[39;49m\u001b[38;5;241;43m*\u001b[39;49m\u001b[43mkwds\u001b[49m\u001b[43m)\u001b[49m\n\u001b[0;32m    149\u001b[0m \u001b[38;5;28;01mreturn\u001b[39;00m result\n",
      "File \u001b[1;32mc:\\Users\\user\\miniconda3\\Lib\\site-packages\\pandas\\core\\nanops.py:404\u001b[0m, in \u001b[0;36m_datetimelike_compat.<locals>.new_func\u001b[1;34m(values, axis, skipna, mask, **kwargs)\u001b[0m\n\u001b[0;32m    401\u001b[0m \u001b[38;5;28;01mif\u001b[39;00m datetimelike \u001b[38;5;129;01mand\u001b[39;00m mask \u001b[38;5;129;01mis\u001b[39;00m \u001b[38;5;28;01mNone\u001b[39;00m:\n\u001b[0;32m    402\u001b[0m     mask \u001b[38;5;241m=\u001b[39m isna(values)\n\u001b[1;32m--> 404\u001b[0m result \u001b[38;5;241m=\u001b[39m \u001b[43mfunc\u001b[49m\u001b[43m(\u001b[49m\u001b[43mvalues\u001b[49m\u001b[43m,\u001b[49m\u001b[43m \u001b[49m\u001b[43maxis\u001b[49m\u001b[38;5;241;43m=\u001b[39;49m\u001b[43maxis\u001b[49m\u001b[43m,\u001b[49m\u001b[43m \u001b[49m\u001b[43mskipna\u001b[49m\u001b[38;5;241;43m=\u001b[39;49m\u001b[43mskipna\u001b[49m\u001b[43m,\u001b[49m\u001b[43m \u001b[49m\u001b[43mmask\u001b[49m\u001b[38;5;241;43m=\u001b[39;49m\u001b[43mmask\u001b[49m\u001b[43m,\u001b[49m\u001b[43m \u001b[49m\u001b[38;5;241;43m*\u001b[39;49m\u001b[38;5;241;43m*\u001b[39;49m\u001b[43mkwargs\u001b[49m\u001b[43m)\u001b[49m\n\u001b[0;32m    406\u001b[0m \u001b[38;5;28;01mif\u001b[39;00m datetimelike:\n\u001b[0;32m    407\u001b[0m     result \u001b[38;5;241m=\u001b[39m _wrap_results(result, orig_values\u001b[38;5;241m.\u001b[39mdtype, fill_value\u001b[38;5;241m=\u001b[39miNaT)\n",
      "File \u001b[1;32mc:\\Users\\user\\miniconda3\\Lib\\site-packages\\pandas\\core\\nanops.py:720\u001b[0m, in \u001b[0;36mnanmean\u001b[1;34m(values, axis, skipna, mask)\u001b[0m\n\u001b[0;32m    718\u001b[0m count \u001b[38;5;241m=\u001b[39m _get_counts(values\u001b[38;5;241m.\u001b[39mshape, mask, axis, dtype\u001b[38;5;241m=\u001b[39mdtype_count)\n\u001b[0;32m    719\u001b[0m the_sum \u001b[38;5;241m=\u001b[39m values\u001b[38;5;241m.\u001b[39msum(axis, dtype\u001b[38;5;241m=\u001b[39mdtype_sum)\n\u001b[1;32m--> 720\u001b[0m the_sum \u001b[38;5;241m=\u001b[39m \u001b[43m_ensure_numeric\u001b[49m\u001b[43m(\u001b[49m\u001b[43mthe_sum\u001b[49m\u001b[43m)\u001b[49m\n\u001b[0;32m    722\u001b[0m \u001b[38;5;28;01mif\u001b[39;00m axis \u001b[38;5;129;01mis\u001b[39;00m \u001b[38;5;129;01mnot\u001b[39;00m \u001b[38;5;28;01mNone\u001b[39;00m \u001b[38;5;129;01mand\u001b[39;00m \u001b[38;5;28mgetattr\u001b[39m(the_sum, \u001b[38;5;124m\"\u001b[39m\u001b[38;5;124mndim\u001b[39m\u001b[38;5;124m\"\u001b[39m, \u001b[38;5;28;01mFalse\u001b[39;00m):\n\u001b[0;32m    723\u001b[0m     count \u001b[38;5;241m=\u001b[39m cast(np\u001b[38;5;241m.\u001b[39mndarray, count)\n",
      "File \u001b[1;32mc:\\Users\\user\\miniconda3\\Lib\\site-packages\\pandas\\core\\nanops.py:1701\u001b[0m, in \u001b[0;36m_ensure_numeric\u001b[1;34m(x)\u001b[0m\n\u001b[0;32m   1698\u001b[0m \u001b[38;5;28;01melif\u001b[39;00m \u001b[38;5;129;01mnot\u001b[39;00m (is_float(x) \u001b[38;5;129;01mor\u001b[39;00m is_integer(x) \u001b[38;5;129;01mor\u001b[39;00m is_complex(x)):\n\u001b[0;32m   1699\u001b[0m     \u001b[38;5;28;01mif\u001b[39;00m \u001b[38;5;28misinstance\u001b[39m(x, \u001b[38;5;28mstr\u001b[39m):\n\u001b[0;32m   1700\u001b[0m         \u001b[38;5;66;03m# GH#44008, GH#36703 avoid casting e.g. strings to numeric\u001b[39;00m\n\u001b[1;32m-> 1701\u001b[0m         \u001b[38;5;28;01mraise\u001b[39;00m \u001b[38;5;167;01mTypeError\u001b[39;00m(\u001b[38;5;124mf\u001b[39m\u001b[38;5;124m\"\u001b[39m\u001b[38;5;124mCould not convert string \u001b[39m\u001b[38;5;124m'\u001b[39m\u001b[38;5;132;01m{\u001b[39;00mx\u001b[38;5;132;01m}\u001b[39;00m\u001b[38;5;124m'\u001b[39m\u001b[38;5;124m to numeric\u001b[39m\u001b[38;5;124m\"\u001b[39m)\n\u001b[0;32m   1702\u001b[0m     \u001b[38;5;28;01mtry\u001b[39;00m:\n\u001b[0;32m   1703\u001b[0m         x \u001b[38;5;241m=\u001b[39m \u001b[38;5;28mfloat\u001b[39m(x)\n",
      "\u001b[1;31mTypeError\u001b[0m: Could not convert string '45--8060---1100-130140130----8060150140140150701201406012014015014030703070309060130140130-------------9090-----------210200-605010---601501401401507012014060120140150140----5-10-555-505705-110320430-190290120250-260250---180-130230250-200260--190300190190-45250360------350---110-------280140--------200--200320300---' to numeric"
     ]
    }
   ],
   "source": [
    "df['Calories'].mean()"
   ]
  },
  {
   "cell_type": "code",
   "execution_count": null,
   "metadata": {},
   "outputs": [],
   "source": []
  }
 ],
 "metadata": {
  "kernelspec": {
   "display_name": "base",
   "language": "python",
   "name": "python3"
  },
  "language_info": {
   "codemirror_mode": {
    "name": "ipython",
    "version": 3
   },
   "file_extension": ".py",
   "mimetype": "text/x-python",
   "name": "python",
   "nbconvert_exporter": "python",
   "pygments_lexer": "ipython3",
   "version": "3.12.2"
  }
 },
 "nbformat": 4,
 "nbformat_minor": 2
}
