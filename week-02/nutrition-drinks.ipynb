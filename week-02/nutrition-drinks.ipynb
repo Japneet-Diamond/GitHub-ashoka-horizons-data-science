{
 "cells": [
  {
   "cell_type": "code",
   "execution_count": 138,
   "metadata": {},
   "outputs": [],
   "source": [
    "import pandas as pd"
   ]
  },
  {
   "cell_type": "code",
   "execution_count": 139,
   "metadata": {},
   "outputs": [],
   "source": [
    "df = pd.read_csv('./nutrition-drinks.csv')"
   ]
  },
  {
   "cell_type": "code",
   "execution_count": 140,
   "metadata": {},
   "outputs": [
    {
     "data": {
      "text/html": [
       "<div>\n",
       "<style scoped>\n",
       "    .dataframe tbody tr th:only-of-type {\n",
       "        vertical-align: middle;\n",
       "    }\n",
       "\n",
       "    .dataframe tbody tr th {\n",
       "        vertical-align: top;\n",
       "    }\n",
       "\n",
       "    .dataframe thead th {\n",
       "        text-align: right;\n",
       "    }\n",
       "</style>\n",
       "<table border=\"1\" class=\"dataframe\">\n",
       "  <thead>\n",
       "    <tr style=\"text-align: right;\">\n",
       "      <th></th>\n",
       "      <th>Unnamed: 0</th>\n",
       "      <th>Calories</th>\n",
       "      <th>Fat (g)</th>\n",
       "      <th>Carb. (g)</th>\n",
       "      <th>Fiber (g)</th>\n",
       "      <th>Protein</th>\n",
       "      <th>Sodium</th>\n",
       "    </tr>\n",
       "  </thead>\n",
       "  <tbody>\n",
       "    <tr>\n",
       "      <th>0</th>\n",
       "      <td>Cool Lime Starbucks Refreshers™ Beverage</td>\n",
       "      <td>45</td>\n",
       "      <td>0</td>\n",
       "      <td>11</td>\n",
       "      <td>0</td>\n",
       "      <td>0</td>\n",
       "      <td>10</td>\n",
       "    </tr>\n",
       "    <tr>\n",
       "      <th>1</th>\n",
       "      <td>Ombré Pink Drink</td>\n",
       "      <td>-</td>\n",
       "      <td>-</td>\n",
       "      <td>-</td>\n",
       "      <td>-</td>\n",
       "      <td>-</td>\n",
       "      <td>-</td>\n",
       "    </tr>\n",
       "    <tr>\n",
       "      <th>2</th>\n",
       "      <td>Pink Drink</td>\n",
       "      <td>-</td>\n",
       "      <td>-</td>\n",
       "      <td>-</td>\n",
       "      <td>-</td>\n",
       "      <td>-</td>\n",
       "      <td>-</td>\n",
       "    </tr>\n",
       "    <tr>\n",
       "      <th>3</th>\n",
       "      <td>Strawberry Acai Starbucks Refreshers™ Beverage</td>\n",
       "      <td>80</td>\n",
       "      <td>0</td>\n",
       "      <td>18</td>\n",
       "      <td>1</td>\n",
       "      <td>0</td>\n",
       "      <td>10</td>\n",
       "    </tr>\n",
       "    <tr>\n",
       "      <th>4</th>\n",
       "      <td>Very Berry Hibiscus Starbucks Refreshers™ Beve...</td>\n",
       "      <td>60</td>\n",
       "      <td>0</td>\n",
       "      <td>14</td>\n",
       "      <td>1</td>\n",
       "      <td>0</td>\n",
       "      <td>10</td>\n",
       "    </tr>\n",
       "  </tbody>\n",
       "</table>\n",
       "</div>"
      ],
      "text/plain": [
       "                                          Unnamed: 0 Calories Fat (g)  \\\n",
       "0           Cool Lime Starbucks Refreshers™ Beverage       45       0   \n",
       "1                                   Ombré Pink Drink        -       -   \n",
       "2                                         Pink Drink        -       -   \n",
       "3     Strawberry Acai Starbucks Refreshers™ Beverage       80       0   \n",
       "4  Very Berry Hibiscus Starbucks Refreshers™ Beve...       60       0   \n",
       "\n",
       "  Carb. (g) Fiber (g) Protein Sodium  \n",
       "0        11         0       0     10  \n",
       "1         -         -       -      -  \n",
       "2         -         -       -      -  \n",
       "3        18         1       0     10  \n",
       "4        14         1       0     10  "
      ]
     },
     "execution_count": 140,
     "metadata": {},
     "output_type": "execute_result"
    }
   ],
   "source": [
    "df.head(5)"
   ]
  },
  {
   "cell_type": "code",
   "execution_count": 141,
   "metadata": {},
   "outputs": [
    {
     "data": {
      "text/html": [
       "<div>\n",
       "<style scoped>\n",
       "    .dataframe tbody tr th:only-of-type {\n",
       "        vertical-align: middle;\n",
       "    }\n",
       "\n",
       "    .dataframe tbody tr th {\n",
       "        vertical-align: top;\n",
       "    }\n",
       "\n",
       "    .dataframe thead th {\n",
       "        text-align: right;\n",
       "    }\n",
       "</style>\n",
       "<table border=\"1\" class=\"dataframe\">\n",
       "  <thead>\n",
       "    <tr style=\"text-align: right;\">\n",
       "      <th></th>\n",
       "      <th>Unnamed: 0</th>\n",
       "      <th>Calories</th>\n",
       "      <th>Fat (g)</th>\n",
       "      <th>Carb. (g)</th>\n",
       "      <th>Fiber (g)</th>\n",
       "      <th>Protein</th>\n",
       "      <th>Sodium</th>\n",
       "    </tr>\n",
       "  </thead>\n",
       "  <tbody>\n",
       "    <tr>\n",
       "      <th>172</th>\n",
       "      <td>Chocolate Smoothie</td>\n",
       "      <td>320</td>\n",
       "      <td>5</td>\n",
       "      <td>53</td>\n",
       "      <td>8</td>\n",
       "      <td>20</td>\n",
       "      <td>170</td>\n",
       "    </tr>\n",
       "    <tr>\n",
       "      <th>173</th>\n",
       "      <td>Strawberry Smoothie</td>\n",
       "      <td>300</td>\n",
       "      <td>2</td>\n",
       "      <td>60</td>\n",
       "      <td>7</td>\n",
       "      <td>16</td>\n",
       "      <td>130</td>\n",
       "    </tr>\n",
       "    <tr>\n",
       "      <th>174</th>\n",
       "      <td>Ginger Ale</td>\n",
       "      <td>-</td>\n",
       "      <td>-</td>\n",
       "      <td>-</td>\n",
       "      <td>-</td>\n",
       "      <td>-</td>\n",
       "      <td>-</td>\n",
       "    </tr>\n",
       "    <tr>\n",
       "      <th>175</th>\n",
       "      <td>Lemon Ale</td>\n",
       "      <td>-</td>\n",
       "      <td>-</td>\n",
       "      <td>-</td>\n",
       "      <td>-</td>\n",
       "      <td>-</td>\n",
       "      <td>-</td>\n",
       "    </tr>\n",
       "    <tr>\n",
       "      <th>176</th>\n",
       "      <td>Orange Cream Soda</td>\n",
       "      <td>-</td>\n",
       "      <td>-</td>\n",
       "      <td>-</td>\n",
       "      <td>-</td>\n",
       "      <td>-</td>\n",
       "      <td>-</td>\n",
       "    </tr>\n",
       "  </tbody>\n",
       "</table>\n",
       "</div>"
      ],
      "text/plain": [
       "              Unnamed: 0 Calories Fat (g) Carb. (g) Fiber (g) Protein Sodium\n",
       "172   Chocolate Smoothie      320       5        53         8      20    170\n",
       "173  Strawberry Smoothie      300       2        60         7      16    130\n",
       "174           Ginger Ale        -       -         -         -       -      -\n",
       "175            Lemon Ale        -       -         -         -       -      -\n",
       "176    Orange Cream Soda        -       -         -         -       -      -"
      ]
     },
     "execution_count": 141,
     "metadata": {},
     "output_type": "execute_result"
    }
   ],
   "source": [
    "df.tail(5)"
   ]
  },
  {
   "cell_type": "code",
   "execution_count": 142,
   "metadata": {},
   "outputs": [
    {
     "data": {
      "text/plain": [
       "(177, 7)"
      ]
     },
     "execution_count": 142,
     "metadata": {},
     "output_type": "execute_result"
    }
   ],
   "source": [
    "df.shape"
   ]
  },
  {
   "cell_type": "code",
   "execution_count": 143,
   "metadata": {},
   "outputs": [
    {
     "data": {
      "text/plain": [
       "Index(['Unnamed: 0', 'Calories', 'Fat (g)', 'Carb. (g)', 'Fiber (g)',\n",
       "       'Protein', 'Sodium'],\n",
       "      dtype='object')"
      ]
     },
     "execution_count": 143,
     "metadata": {},
     "output_type": "execute_result"
    }
   ],
   "source": [
    "df.columns"
   ]
  },
  {
   "cell_type": "code",
   "execution_count": 144,
   "metadata": {},
   "outputs": [
    {
     "data": {
      "text/plain": [
       "RangeIndex(start=0, stop=177, step=1)"
      ]
     },
     "execution_count": 144,
     "metadata": {},
     "output_type": "execute_result"
    }
   ],
   "source": [
    "df.index"
   ]
  },
  {
   "cell_type": "code",
   "execution_count": 145,
   "metadata": {},
   "outputs": [
    {
     "data": {
      "text/plain": [
       "array(['Cool Lime Starbucks Refreshers™ Beverage', 'Ombré Pink Drink',\n",
       "       'Pink Drink', 'Strawberry Acai Starbucks Refreshers™ Beverage',\n",
       "       'Very Berry Hibiscus Starbucks Refreshers™ Beverage',\n",
       "       'Violet Drink', 'Evolution Fresh™ Cold-Pressed Apple Berry Juice',\n",
       "       'Evolution Fresh™ Defense Up',\n",
       "       'Evolution Fresh™ Organic Ginger Limeade', 'Iced Coffee',\n",
       "       'Iced Coffee with Milk', 'Iced Espresso Classics - Vanilla Latte',\n",
       "       'Iced Espresso Classics - Caffe Mocha',\n",
       "       'Iced Espresso Classics - Caramel Macchiato',\n",
       "       'Starbucks® Caramel Iced Coffee', 'Starbucks® Iced Coffee + Milk',\n",
       "       'Starbucks® Low Calorie Iced Coffee + Milk',\n",
       "       'Starbucks® Vanilla Iced Coffee', 'Shaken Sweet Tea',\n",
       "       'Tazo® Bottled Berry Blossom White', 'Tazo® Bottled Black Mango',\n",
       "       'Tazo® Bottled Black with Lemon', 'Tazo® Bottled Brambleberry',\n",
       "       'Tazo® Bottled Giant Peach', 'Tazo® Bottled Iced Passion',\n",
       "       'Tazo® Bottled Lemon Ginger',\n",
       "       'Tazo® Bottled Organic Black Lemonade',\n",
       "       'Tazo® Bottled Organic Iced Black Tea',\n",
       "       'Tazo® Bottled Organic Iced Green Tea',\n",
       "       'Tazo® Bottled Plum Pomegranate', 'Tazo® Bottled Tazoberry',\n",
       "       'Tazo® Bottled White Cranberry', 'Teavana® Shaken Iced Black Tea',\n",
       "       'Teavana® Shaken Iced Black Tea Lemonade',\n",
       "       'Teavana® Shaken Iced Green Tea',\n",
       "       'Teavana® Shaken Iced Green Tea Lemonade',\n",
       "       'Teavana® Shaken Iced Passion Tango™ Tea',\n",
       "       'Teavana® Shaken Iced Passion Tango™ Tea Lemonade',\n",
       "       'Teavana® Shaken Iced Peach Green Tea',\n",
       "       'Iced Espresso Classics - Skinny Caramel Macchiato',\n",
       "       'Iced Espresso Classics - Skinny Vanilla Latte',\n",
       "       'Starbucks Doubleshot® Energy Coffee Drink',\n",
       "       'Starbucks Doubleshot® Energy Mexican Mocha',\n",
       "       'Starbucks Doubleshot® Energy Mocha Drink',\n",
       "       'Starbucks Doubleshot® Energy Vanilla Drink',\n",
       "       'Starbucks Doubleshot® Energy White Chocolate Drink',\n",
       "       'Starbucks Doubleshot® Energy+Cinnamon Dolce Drink',\n",
       "       'Starbucks Doubleshot® Espresso Cubano',\n",
       "       'Starbucks Doubleshot® Espresso Drink',\n",
       "       'Starbucks Doubleshot® Espresso Salted Caramel Cream',\n",
       "       'Starbucks Doubleshot® Light Espresso Drink',\n",
       "       'Starbucks Doubleshot® Protein Caramel',\n",
       "       'Starbucks Refreshers™ Raspberry Pomegranate',\n",
       "       'Starbucks Refreshers™ Strawberry Lemonade',\n",
       "       'Starbucks® Bottled Caramel Frappuccino® Coffee Drink',\n",
       "       'Starbucks® Bottled Coffee Frappuccino® Coffee Drink',\n",
       "       'Starbucks® Bottled Cold Brew Black, Unsweetened',\n",
       "       'Starbucks® Bottled Cold Brew Cocoa and Honey with Cream',\n",
       "       'Starbucks® Bottled Dulce de Leche Frappuccino® Coffee Drink',\n",
       "       'Starbucks® Bottled Mocha Frappuccino® Coffee Drink',\n",
       "       'Starbucks® Bottled Mocha Light Frappuccino® Coffee Drink',\n",
       "       \"Starbucks® Bottled S'mores Frappuccino® Coffee Drink\",\n",
       "       'Starbucks® Bottled Vanilla Frappuccino® Coffee Drink',\n",
       "       'Starbucks® Bottled Vanilla Light Frappuccino® Coffee Drink',\n",
       "       'Starbucks® Doubleshot Protein Dark Chocolate',\n",
       "       'Starbucks® Doubleshot Protein Vanilla',\n",
       "       'Starbucks® Iced Coffee Caramel',\n",
       "       'Starbucks® Iced Coffee Light Sweetened',\n",
       "       'Starbucks® Iced Coffee Unsweetened',\n",
       "       'Starbucks® Refreshers™ - Black Cherry Limeade with Coconut Water',\n",
       "       'Teavana® Mango Black Tea', 'Teavana® Passion Tango® Herbal Tea',\n",
       "       'Teavana® Peach Green Tea',\n",
       "       'White Chocolate Mocha Bottled Frappuccino', 'Blonde Roast',\n",
       "       'Caffè Misto', 'Clover® Brewed Coffee', 'Coffee Traveler',\n",
       "       'Decaf Pike Place® Roast', 'Featured Dark Roast',\n",
       "       'Nariño 70 Cold Brew', 'Nariño 70 Cold Brew with Milk',\n",
       "       'Nitro Cold Brew', 'Nitro Cold Brew with Sweet Cream',\n",
       "       'Pike Place® Roast', 'Toasted Coconut Cold Brew',\n",
       "       'Vanilla Sweet Cream Cold Brew', 'Hot Chocolate',\n",
       "       'Starbucks® Signature Hot Chocolate', 'Caffè Americano',\n",
       "       'Caffè Latte', 'Caffè Mocha', 'Cappuccino', 'Caramel Macchiato',\n",
       "       'Cascara Coconutmilk Latte', 'Cinnamon Dolce Latte',\n",
       "       'Coconutmilk Mocha Macchiato', 'Espresso', 'Espresso Con Panna',\n",
       "       'Espresso Macchiato', 'Flat White', 'Iced Caffè Americano',\n",
       "       'Iced Caffè Latte', 'Iced Caffè Mocha', 'Iced Caramel Macchiato',\n",
       "       'Iced Cascara Coconutmilk Latte', 'Iced Cinnamon Dolce Latte',\n",
       "       'Iced Coconutmilk Mocha Macchiato',\n",
       "       'Iced Skinny Cinnamon Dolce Latte', 'Iced Skinny Mocha',\n",
       "       'Iced Vanilla Latte', 'Iced White Chocolate Mocha',\n",
       "       'Latte Macchiato', 'Skinny Mocha',\n",
       "       'Starbucks Doubleshot® on Ice Beverage', 'Vanilla Latte',\n",
       "       'White Chocolate Mocha',\n",
       "       'Caffè Vanilla Frappuccino® Blended Coffee',\n",
       "       'Caffè Vanilla Light Frappuccino® Blended Coffee',\n",
       "       'Caramel Cocoa Cluster Frappuccino® Blended Coffee',\n",
       "       'Caramel Frappuccino® Blended Coffee',\n",
       "       'Caramel Light Frappuccino® Blended Coffee',\n",
       "       'Chai Crème Frappuccino® Blended Crème',\n",
       "       'Cinnamon Dolce Frappuccino® Blended Coffee',\n",
       "       'Cinnamon Dolce Light Frappuccino® Blended Coffee',\n",
       "       'Cinnamon Roll Frappuccino® Blended Coffee',\n",
       "       'Coffee Frappuccino® Blended Coffee',\n",
       "       'Coffee Light Frappuccino® Blended Coffee',\n",
       "       'Cupcake Crème Frappuccino® Blended Crème',\n",
       "       'Green Tea Crème Frappuccino® Blended Crème',\n",
       "       'Java Chip Frappuccino® Blended Coffee',\n",
       "       'Java Chip Light Frappuccino® Blended Coffee',\n",
       "       'Lemon Bar Crème Frappuccino® Blended Crème',\n",
       "       'Midnight Mint Mocha Frappuccino® Blended Coffee',\n",
       "       'Midnight Mint Mocha Frappuccino® Blended Crème',\n",
       "       'Mocha Frappuccino® Blended Coffee',\n",
       "       'Mocha Light Frappuccino® Blended Coffee',\n",
       "       'Oprah Cinnamon Chai Crème Frappuccino® Blended Crème',\n",
       "       'Red Velvet Cake Crème Frappuccino® Blended Crème',\n",
       "       \"S'mores Frappuccino® Blended Coffee\",\n",
       "       \"S'mores Frappuccino® Blended Crème\",\n",
       "       'Strawberries & Crème Frappuccino® Blended Crème',\n",
       "       'The Pokémon™ GO Frappuccino® Blended Beverage',\n",
       "       'Vanilla Bean Crème Frappuccino® Blended Crème',\n",
       "       'White Chocolate Mocha Frappuccino® Blended Coffee',\n",
       "       'Cinnamon Dolce Crème', 'Organic Chocolate Milk Box',\n",
       "       'Steamed Apple Juice', 'Vanilla Crème', 'Chocolate Smoothie',\n",
       "       'Strawberry Smoothie', 'Ginger Ale', 'Lemon Ale',\n",
       "       'Orange Cream Soda'], dtype=object)"
      ]
     },
     "execution_count": 145,
     "metadata": {},
     "output_type": "execute_result"
    }
   ],
   "source": [
    "df['Unnamed: 0'].unique()"
   ]
  },
  {
   "cell_type": "code",
   "execution_count": 146,
   "metadata": {},
   "outputs": [
    {
     "data": {
      "text/plain": [
       "154"
      ]
     },
     "execution_count": 146,
     "metadata": {},
     "output_type": "execute_result"
    }
   ],
   "source": [
    "df['Unnamed: 0'].nunique()"
   ]
  },
  {
   "cell_type": "code",
   "execution_count": 147,
   "metadata": {},
   "outputs": [
    {
     "data": {
      "text/plain": [
       "array(['45', '-', '80', '60', '110', '0', '130', '140', '150', '70',\n",
       "       '120', '30', '90', '210', '200', '50', '10', '5', '320', '430',\n",
       "       '190', '290', '250', '260', '180', '230', '300', '360', '350',\n",
       "       '280'], dtype=object)"
      ]
     },
     "execution_count": 147,
     "metadata": {},
     "output_type": "execute_result"
    }
   ],
   "source": [
    "df['Calories'].unique()"
   ]
  },
  {
   "cell_type": "code",
   "execution_count": 148,
   "metadata": {},
   "outputs": [
    {
     "data": {
      "text/plain": [
       "30"
      ]
     },
     "execution_count": 148,
     "metadata": {},
     "output_type": "execute_result"
    }
   ],
   "source": [
    "df['Calories'].nunique()"
   ]
  },
  {
   "cell_type": "markdown",
   "metadata": {},
   "source": [
    "In the homework it is written to find the unique and nunique for all columns but that seems a bit too repetitive and I believe that something else is implied by it. Thus, I performed the task multiple times and for rest of the columns the same code can be used by altering the column name."
   ]
  },
  {
   "cell_type": "code",
   "execution_count": 149,
   "metadata": {},
   "outputs": [
    {
     "name": "stdout",
     "output_type": "stream",
     "text": [
      "Unnamed: 0    object\n",
      "Calories      object\n",
      "Fat (g)       object\n",
      "Carb. (g)     object\n",
      "Fiber (g)     object\n",
      "Protein       object\n",
      "Sodium        object\n",
      "dtype: object\n"
     ]
    }
   ],
   "source": [
    "print(df.dtypes)"
   ]
  },
  {
   "cell_type": "markdown",
   "metadata": {},
   "source": [
    "The first column or [Unnamed: 0] is categorical nominal as it contains non nuerical objects which cannot be ordered or ranked."
   ]
  },
  {
   "cell_type": "markdown",
   "metadata": {},
   "source": [
    "Rest all are numerical values which can can occur over a range. Thus can be termed as Numerical Continous."
   ]
  },
  {
   "cell_type": "code",
   "execution_count": 150,
   "metadata": {},
   "outputs": [
    {
     "data": {
      "text/plain": [
       "Unnamed: 0    0\n",
       "Calories      0\n",
       "Fat (g)       0\n",
       "Carb. (g)     0\n",
       "Fiber (g)     0\n",
       "Protein       0\n",
       "Sodium        0\n",
       "dtype: int64"
      ]
     },
     "execution_count": 150,
     "metadata": {},
     "output_type": "execute_result"
    }
   ],
   "source": [
    "df.isnull().sum()"
   ]
  },
  {
   "cell_type": "code",
   "execution_count": 151,
   "metadata": {},
   "outputs": [
    {
     "data": {
      "text/plain": [
       "Unnamed: 0    0\n",
       "Calories      0\n",
       "Fat (g)       0\n",
       "Carb. (g)     0\n",
       "Fiber (g)     0\n",
       "Protein       0\n",
       "Sodium        0\n",
       "dtype: int64"
      ]
     },
     "execution_count": 151,
     "metadata": {},
     "output_type": "execute_result"
    }
   ],
   "source": [
    "df.isna().sum()"
   ]
  },
  {
   "cell_type": "code",
   "execution_count": 152,
   "metadata": {},
   "outputs": [],
   "source": [
    "import numpy as np"
   ]
  },
  {
   "cell_type": "code",
   "execution_count": 153,
   "metadata": {},
   "outputs": [
    {
     "data": {
      "text/plain": [
       "Index(['Unnamed: 0', 'Calories', 'Fat (g)', 'Carb. (g)', 'Fiber (g)',\n",
       "       'Protein', 'Sodium'],\n",
       "      dtype='object')"
      ]
     },
     "execution_count": 153,
     "metadata": {},
     "output_type": "execute_result"
    }
   ],
   "source": [
    "df.columns"
   ]
  },
  {
   "cell_type": "markdown",
   "metadata": {},
   "source": [
    "I am not able to remove the null data types as it is not recognising any although providing an error on functions such as mean. Thus I am not able to move forward on this file. PLEASE HELP."
   ]
  },
  {
   "cell_type": "code",
   "execution_count": 154,
   "metadata": {},
   "outputs": [],
   "source": [
    "df_rename= df.rename(columns={'Unnamed: 0':'Drink_name','Carb. (g)':'Carbohydrates(g)','Fat (g)':'Fats(g)'})"
   ]
  },
  {
   "cell_type": "code",
   "execution_count": 155,
   "metadata": {},
   "outputs": [
    {
     "data": {
      "text/plain": [
       "Index(['Drink_name', 'Calories', 'Fats(g)', 'Carbohydrates(g)', 'Fiber (g)',\n",
       "       'Protein', 'Sodium'],\n",
       "      dtype='object')"
      ]
     },
     "execution_count": 155,
     "metadata": {},
     "output_type": "execute_result"
    }
   ],
   "source": [
    "df_rename.columns"
   ]
  },
  {
   "cell_type": "code",
   "execution_count": 156,
   "metadata": {},
   "outputs": [],
   "source": [
    "df_new = df_rename.drop(columns=['Fiber (g)','Protein'])"
   ]
  },
  {
   "cell_type": "code",
   "execution_count": 157,
   "metadata": {},
   "outputs": [
    {
     "data": {
      "text/plain": [
       "Index(['Drink_name', 'Calories', 'Fats(g)', 'Carbohydrates(g)', 'Sodium'], dtype='object')"
      ]
     },
     "execution_count": 157,
     "metadata": {},
     "output_type": "execute_result"
    }
   ],
   "source": [
    "df_new.columns"
   ]
  },
  {
   "cell_type": "markdown",
   "metadata": {},
   "source": [
    "The columns had null data. So I dropped them to make my task more easier and efficient."
   ]
  },
  {
   "cell_type": "code",
   "execution_count": 158,
   "metadata": {},
   "outputs": [
    {
     "data": {
      "text/html": [
       "<div>\n",
       "<style scoped>\n",
       "    .dataframe tbody tr th:only-of-type {\n",
       "        vertical-align: middle;\n",
       "    }\n",
       "\n",
       "    .dataframe tbody tr th {\n",
       "        vertical-align: top;\n",
       "    }\n",
       "\n",
       "    .dataframe thead th {\n",
       "        text-align: right;\n",
       "    }\n",
       "</style>\n",
       "<table border=\"1\" class=\"dataframe\">\n",
       "  <thead>\n",
       "    <tr style=\"text-align: right;\">\n",
       "      <th></th>\n",
       "      <th>Drink_name</th>\n",
       "      <th>Calories</th>\n",
       "      <th>Fats(g)</th>\n",
       "      <th>Carbohydrates(g)</th>\n",
       "      <th>Sodium</th>\n",
       "    </tr>\n",
       "  </thead>\n",
       "  <tbody>\n",
       "    <tr>\n",
       "      <th>0</th>\n",
       "      <td>Cool Lime Starbucks Refreshers™ Beverage</td>\n",
       "      <td>45</td>\n",
       "      <td>0</td>\n",
       "      <td>11</td>\n",
       "      <td>10</td>\n",
       "    </tr>\n",
       "    <tr>\n",
       "      <th>1</th>\n",
       "      <td>Ombré Pink Drink</td>\n",
       "      <td>-</td>\n",
       "      <td>-</td>\n",
       "      <td>-</td>\n",
       "      <td>-</td>\n",
       "    </tr>\n",
       "    <tr>\n",
       "      <th>2</th>\n",
       "      <td>Pink Drink</td>\n",
       "      <td>-</td>\n",
       "      <td>-</td>\n",
       "      <td>-</td>\n",
       "      <td>-</td>\n",
       "    </tr>\n",
       "  </tbody>\n",
       "</table>\n",
       "</div>"
      ],
      "text/plain": [
       "                                 Drink_name Calories Fats(g) Carbohydrates(g)  \\\n",
       "0  Cool Lime Starbucks Refreshers™ Beverage       45       0               11   \n",
       "1                          Ombré Pink Drink        -       -                -   \n",
       "2                                Pink Drink        -       -                -   \n",
       "\n",
       "  Sodium  \n",
       "0     10  \n",
       "1      -  \n",
       "2      -  "
      ]
     },
     "execution_count": 158,
     "metadata": {},
     "output_type": "execute_result"
    }
   ],
   "source": [
    "df_new= df_new.fillna(\"0\")\n",
    "df_new.head(3)"
   ]
  },
  {
   "cell_type": "markdown",
   "metadata": {},
   "source": [
    "Facing Difficulties here"
   ]
  },
  {
   "cell_type": "code",
   "execution_count": 159,
   "metadata": {},
   "outputs": [
    {
     "ename": "TypeError",
     "evalue": "Could not convert string '45--8060---1100-130140130----8060150140140150701201406012014015014030703070309060130140130-------------9090-----------210200-605010---601501401401507012014060120140150140----5-10-555-505705-110320430-190290120250-260250---180-130230250-200260--190300190190-45250360------350---110-------280140--------200--200320300---' to numeric",
     "output_type": "error",
     "traceback": [
      "\u001b[1;31m---------------------------------------------------------------------------\u001b[0m",
      "\u001b[1;31mTypeError\u001b[0m                                 Traceback (most recent call last)",
      "Cell \u001b[1;32mIn[159], line 1\u001b[0m\n\u001b[1;32m----> 1\u001b[0m \u001b[43mdf_new\u001b[49m\u001b[43m[\u001b[49m\u001b[38;5;124;43m'\u001b[39;49m\u001b[38;5;124;43mCalories\u001b[39;49m\u001b[38;5;124;43m'\u001b[39;49m\u001b[43m]\u001b[49m\u001b[38;5;241;43m.\u001b[39;49m\u001b[43mmean\u001b[49m\u001b[43m(\u001b[49m\u001b[43m)\u001b[49m\n",
      "File \u001b[1;32mc:\\Users\\user\\miniconda3\\Lib\\site-packages\\pandas\\core\\series.py:6549\u001b[0m, in \u001b[0;36mSeries.mean\u001b[1;34m(self, axis, skipna, numeric_only, **kwargs)\u001b[0m\n\u001b[0;32m   6541\u001b[0m \u001b[38;5;129m@doc\u001b[39m(make_doc(\u001b[38;5;124m\"\u001b[39m\u001b[38;5;124mmean\u001b[39m\u001b[38;5;124m\"\u001b[39m, ndim\u001b[38;5;241m=\u001b[39m\u001b[38;5;241m1\u001b[39m))\n\u001b[0;32m   6542\u001b[0m \u001b[38;5;28;01mdef\u001b[39;00m \u001b[38;5;21mmean\u001b[39m(\n\u001b[0;32m   6543\u001b[0m     \u001b[38;5;28mself\u001b[39m,\n\u001b[1;32m   (...)\u001b[0m\n\u001b[0;32m   6547\u001b[0m     \u001b[38;5;241m*\u001b[39m\u001b[38;5;241m*\u001b[39mkwargs,\n\u001b[0;32m   6548\u001b[0m ):\n\u001b[1;32m-> 6549\u001b[0m     \u001b[38;5;28;01mreturn\u001b[39;00m \u001b[43mNDFrame\u001b[49m\u001b[38;5;241;43m.\u001b[39;49m\u001b[43mmean\u001b[49m\u001b[43m(\u001b[49m\u001b[38;5;28;43mself\u001b[39;49m\u001b[43m,\u001b[49m\u001b[43m \u001b[49m\u001b[43maxis\u001b[49m\u001b[43m,\u001b[49m\u001b[43m \u001b[49m\u001b[43mskipna\u001b[49m\u001b[43m,\u001b[49m\u001b[43m \u001b[49m\u001b[43mnumeric_only\u001b[49m\u001b[43m,\u001b[49m\u001b[43m \u001b[49m\u001b[38;5;241;43m*\u001b[39;49m\u001b[38;5;241;43m*\u001b[39;49m\u001b[43mkwargs\u001b[49m\u001b[43m)\u001b[49m\n",
      "File \u001b[1;32mc:\\Users\\user\\miniconda3\\Lib\\site-packages\\pandas\\core\\generic.py:12420\u001b[0m, in \u001b[0;36mNDFrame.mean\u001b[1;34m(self, axis, skipna, numeric_only, **kwargs)\u001b[0m\n\u001b[0;32m  12413\u001b[0m \u001b[38;5;28;01mdef\u001b[39;00m \u001b[38;5;21mmean\u001b[39m(\n\u001b[0;32m  12414\u001b[0m     \u001b[38;5;28mself\u001b[39m,\n\u001b[0;32m  12415\u001b[0m     axis: Axis \u001b[38;5;241m|\u001b[39m \u001b[38;5;28;01mNone\u001b[39;00m \u001b[38;5;241m=\u001b[39m \u001b[38;5;241m0\u001b[39m,\n\u001b[1;32m   (...)\u001b[0m\n\u001b[0;32m  12418\u001b[0m     \u001b[38;5;241m*\u001b[39m\u001b[38;5;241m*\u001b[39mkwargs,\n\u001b[0;32m  12419\u001b[0m ) \u001b[38;5;241m-\u001b[39m\u001b[38;5;241m>\u001b[39m Series \u001b[38;5;241m|\u001b[39m \u001b[38;5;28mfloat\u001b[39m:\n\u001b[1;32m> 12420\u001b[0m     \u001b[38;5;28;01mreturn\u001b[39;00m \u001b[38;5;28;43mself\u001b[39;49m\u001b[38;5;241;43m.\u001b[39;49m\u001b[43m_stat_function\u001b[49m\u001b[43m(\u001b[49m\n\u001b[0;32m  12421\u001b[0m \u001b[43m        \u001b[49m\u001b[38;5;124;43m\"\u001b[39;49m\u001b[38;5;124;43mmean\u001b[39;49m\u001b[38;5;124;43m\"\u001b[39;49m\u001b[43m,\u001b[49m\u001b[43m \u001b[49m\u001b[43mnanops\u001b[49m\u001b[38;5;241;43m.\u001b[39;49m\u001b[43mnanmean\u001b[49m\u001b[43m,\u001b[49m\u001b[43m \u001b[49m\u001b[43maxis\u001b[49m\u001b[43m,\u001b[49m\u001b[43m \u001b[49m\u001b[43mskipna\u001b[49m\u001b[43m,\u001b[49m\u001b[43m \u001b[49m\u001b[43mnumeric_only\u001b[49m\u001b[43m,\u001b[49m\u001b[43m \u001b[49m\u001b[38;5;241;43m*\u001b[39;49m\u001b[38;5;241;43m*\u001b[39;49m\u001b[43mkwargs\u001b[49m\n\u001b[0;32m  12422\u001b[0m \u001b[43m    \u001b[49m\u001b[43m)\u001b[49m\n",
      "File \u001b[1;32mc:\\Users\\user\\miniconda3\\Lib\\site-packages\\pandas\\core\\generic.py:12377\u001b[0m, in \u001b[0;36mNDFrame._stat_function\u001b[1;34m(self, name, func, axis, skipna, numeric_only, **kwargs)\u001b[0m\n\u001b[0;32m  12373\u001b[0m nv\u001b[38;5;241m.\u001b[39mvalidate_func(name, (), kwargs)\n\u001b[0;32m  12375\u001b[0m validate_bool_kwarg(skipna, \u001b[38;5;124m\"\u001b[39m\u001b[38;5;124mskipna\u001b[39m\u001b[38;5;124m\"\u001b[39m, none_allowed\u001b[38;5;241m=\u001b[39m\u001b[38;5;28;01mFalse\u001b[39;00m)\n\u001b[1;32m> 12377\u001b[0m \u001b[38;5;28;01mreturn\u001b[39;00m \u001b[38;5;28;43mself\u001b[39;49m\u001b[38;5;241;43m.\u001b[39;49m\u001b[43m_reduce\u001b[49m\u001b[43m(\u001b[49m\n\u001b[0;32m  12378\u001b[0m \u001b[43m    \u001b[49m\u001b[43mfunc\u001b[49m\u001b[43m,\u001b[49m\u001b[43m \u001b[49m\u001b[43mname\u001b[49m\u001b[38;5;241;43m=\u001b[39;49m\u001b[43mname\u001b[49m\u001b[43m,\u001b[49m\u001b[43m \u001b[49m\u001b[43maxis\u001b[49m\u001b[38;5;241;43m=\u001b[39;49m\u001b[43maxis\u001b[49m\u001b[43m,\u001b[49m\u001b[43m \u001b[49m\u001b[43mskipna\u001b[49m\u001b[38;5;241;43m=\u001b[39;49m\u001b[43mskipna\u001b[49m\u001b[43m,\u001b[49m\u001b[43m \u001b[49m\u001b[43mnumeric_only\u001b[49m\u001b[38;5;241;43m=\u001b[39;49m\u001b[43mnumeric_only\u001b[49m\n\u001b[0;32m  12379\u001b[0m \u001b[43m\u001b[49m\u001b[43m)\u001b[49m\n",
      "File \u001b[1;32mc:\\Users\\user\\miniconda3\\Lib\\site-packages\\pandas\\core\\series.py:6457\u001b[0m, in \u001b[0;36mSeries._reduce\u001b[1;34m(self, op, name, axis, skipna, numeric_only, filter_type, **kwds)\u001b[0m\n\u001b[0;32m   6452\u001b[0m     \u001b[38;5;66;03m# GH#47500 - change to TypeError to match other methods\u001b[39;00m\n\u001b[0;32m   6453\u001b[0m     \u001b[38;5;28;01mraise\u001b[39;00m \u001b[38;5;167;01mTypeError\u001b[39;00m(\n\u001b[0;32m   6454\u001b[0m         \u001b[38;5;124mf\u001b[39m\u001b[38;5;124m\"\u001b[39m\u001b[38;5;124mSeries.\u001b[39m\u001b[38;5;132;01m{\u001b[39;00mname\u001b[38;5;132;01m}\u001b[39;00m\u001b[38;5;124m does not allow \u001b[39m\u001b[38;5;132;01m{\u001b[39;00mkwd_name\u001b[38;5;132;01m}\u001b[39;00m\u001b[38;5;124m=\u001b[39m\u001b[38;5;132;01m{\u001b[39;00mnumeric_only\u001b[38;5;132;01m}\u001b[39;00m\u001b[38;5;124m \u001b[39m\u001b[38;5;124m\"\u001b[39m\n\u001b[0;32m   6455\u001b[0m         \u001b[38;5;124m\"\u001b[39m\u001b[38;5;124mwith non-numeric dtypes.\u001b[39m\u001b[38;5;124m\"\u001b[39m\n\u001b[0;32m   6456\u001b[0m     )\n\u001b[1;32m-> 6457\u001b[0m \u001b[38;5;28;01mreturn\u001b[39;00m \u001b[43mop\u001b[49m\u001b[43m(\u001b[49m\u001b[43mdelegate\u001b[49m\u001b[43m,\u001b[49m\u001b[43m \u001b[49m\u001b[43mskipna\u001b[49m\u001b[38;5;241;43m=\u001b[39;49m\u001b[43mskipna\u001b[49m\u001b[43m,\u001b[49m\u001b[43m \u001b[49m\u001b[38;5;241;43m*\u001b[39;49m\u001b[38;5;241;43m*\u001b[39;49m\u001b[43mkwds\u001b[49m\u001b[43m)\u001b[49m\n",
      "File \u001b[1;32mc:\\Users\\user\\miniconda3\\Lib\\site-packages\\pandas\\core\\nanops.py:147\u001b[0m, in \u001b[0;36mbottleneck_switch.__call__.<locals>.f\u001b[1;34m(values, axis, skipna, **kwds)\u001b[0m\n\u001b[0;32m    145\u001b[0m         result \u001b[38;5;241m=\u001b[39m alt(values, axis\u001b[38;5;241m=\u001b[39maxis, skipna\u001b[38;5;241m=\u001b[39mskipna, \u001b[38;5;241m*\u001b[39m\u001b[38;5;241m*\u001b[39mkwds)\n\u001b[0;32m    146\u001b[0m \u001b[38;5;28;01melse\u001b[39;00m:\n\u001b[1;32m--> 147\u001b[0m     result \u001b[38;5;241m=\u001b[39m \u001b[43malt\u001b[49m\u001b[43m(\u001b[49m\u001b[43mvalues\u001b[49m\u001b[43m,\u001b[49m\u001b[43m \u001b[49m\u001b[43maxis\u001b[49m\u001b[38;5;241;43m=\u001b[39;49m\u001b[43maxis\u001b[49m\u001b[43m,\u001b[49m\u001b[43m \u001b[49m\u001b[43mskipna\u001b[49m\u001b[38;5;241;43m=\u001b[39;49m\u001b[43mskipna\u001b[49m\u001b[43m,\u001b[49m\u001b[43m \u001b[49m\u001b[38;5;241;43m*\u001b[39;49m\u001b[38;5;241;43m*\u001b[39;49m\u001b[43mkwds\u001b[49m\u001b[43m)\u001b[49m\n\u001b[0;32m    149\u001b[0m \u001b[38;5;28;01mreturn\u001b[39;00m result\n",
      "File \u001b[1;32mc:\\Users\\user\\miniconda3\\Lib\\site-packages\\pandas\\core\\nanops.py:404\u001b[0m, in \u001b[0;36m_datetimelike_compat.<locals>.new_func\u001b[1;34m(values, axis, skipna, mask, **kwargs)\u001b[0m\n\u001b[0;32m    401\u001b[0m \u001b[38;5;28;01mif\u001b[39;00m datetimelike \u001b[38;5;129;01mand\u001b[39;00m mask \u001b[38;5;129;01mis\u001b[39;00m \u001b[38;5;28;01mNone\u001b[39;00m:\n\u001b[0;32m    402\u001b[0m     mask \u001b[38;5;241m=\u001b[39m isna(values)\n\u001b[1;32m--> 404\u001b[0m result \u001b[38;5;241m=\u001b[39m \u001b[43mfunc\u001b[49m\u001b[43m(\u001b[49m\u001b[43mvalues\u001b[49m\u001b[43m,\u001b[49m\u001b[43m \u001b[49m\u001b[43maxis\u001b[49m\u001b[38;5;241;43m=\u001b[39;49m\u001b[43maxis\u001b[49m\u001b[43m,\u001b[49m\u001b[43m \u001b[49m\u001b[43mskipna\u001b[49m\u001b[38;5;241;43m=\u001b[39;49m\u001b[43mskipna\u001b[49m\u001b[43m,\u001b[49m\u001b[43m \u001b[49m\u001b[43mmask\u001b[49m\u001b[38;5;241;43m=\u001b[39;49m\u001b[43mmask\u001b[49m\u001b[43m,\u001b[49m\u001b[43m \u001b[49m\u001b[38;5;241;43m*\u001b[39;49m\u001b[38;5;241;43m*\u001b[39;49m\u001b[43mkwargs\u001b[49m\u001b[43m)\u001b[49m\n\u001b[0;32m    406\u001b[0m \u001b[38;5;28;01mif\u001b[39;00m datetimelike:\n\u001b[0;32m    407\u001b[0m     result \u001b[38;5;241m=\u001b[39m _wrap_results(result, orig_values\u001b[38;5;241m.\u001b[39mdtype, fill_value\u001b[38;5;241m=\u001b[39miNaT)\n",
      "File \u001b[1;32mc:\\Users\\user\\miniconda3\\Lib\\site-packages\\pandas\\core\\nanops.py:720\u001b[0m, in \u001b[0;36mnanmean\u001b[1;34m(values, axis, skipna, mask)\u001b[0m\n\u001b[0;32m    718\u001b[0m count \u001b[38;5;241m=\u001b[39m _get_counts(values\u001b[38;5;241m.\u001b[39mshape, mask, axis, dtype\u001b[38;5;241m=\u001b[39mdtype_count)\n\u001b[0;32m    719\u001b[0m the_sum \u001b[38;5;241m=\u001b[39m values\u001b[38;5;241m.\u001b[39msum(axis, dtype\u001b[38;5;241m=\u001b[39mdtype_sum)\n\u001b[1;32m--> 720\u001b[0m the_sum \u001b[38;5;241m=\u001b[39m \u001b[43m_ensure_numeric\u001b[49m\u001b[43m(\u001b[49m\u001b[43mthe_sum\u001b[49m\u001b[43m)\u001b[49m\n\u001b[0;32m    722\u001b[0m \u001b[38;5;28;01mif\u001b[39;00m axis \u001b[38;5;129;01mis\u001b[39;00m \u001b[38;5;129;01mnot\u001b[39;00m \u001b[38;5;28;01mNone\u001b[39;00m \u001b[38;5;129;01mand\u001b[39;00m \u001b[38;5;28mgetattr\u001b[39m(the_sum, \u001b[38;5;124m\"\u001b[39m\u001b[38;5;124mndim\u001b[39m\u001b[38;5;124m\"\u001b[39m, \u001b[38;5;28;01mFalse\u001b[39;00m):\n\u001b[0;32m    723\u001b[0m     count \u001b[38;5;241m=\u001b[39m cast(np\u001b[38;5;241m.\u001b[39mndarray, count)\n",
      "File \u001b[1;32mc:\\Users\\user\\miniconda3\\Lib\\site-packages\\pandas\\core\\nanops.py:1701\u001b[0m, in \u001b[0;36m_ensure_numeric\u001b[1;34m(x)\u001b[0m\n\u001b[0;32m   1698\u001b[0m \u001b[38;5;28;01melif\u001b[39;00m \u001b[38;5;129;01mnot\u001b[39;00m (is_float(x) \u001b[38;5;129;01mor\u001b[39;00m is_integer(x) \u001b[38;5;129;01mor\u001b[39;00m is_complex(x)):\n\u001b[0;32m   1699\u001b[0m     \u001b[38;5;28;01mif\u001b[39;00m \u001b[38;5;28misinstance\u001b[39m(x, \u001b[38;5;28mstr\u001b[39m):\n\u001b[0;32m   1700\u001b[0m         \u001b[38;5;66;03m# GH#44008, GH#36703 avoid casting e.g. strings to numeric\u001b[39;00m\n\u001b[1;32m-> 1701\u001b[0m         \u001b[38;5;28;01mraise\u001b[39;00m \u001b[38;5;167;01mTypeError\u001b[39;00m(\u001b[38;5;124mf\u001b[39m\u001b[38;5;124m\"\u001b[39m\u001b[38;5;124mCould not convert string \u001b[39m\u001b[38;5;124m'\u001b[39m\u001b[38;5;132;01m{\u001b[39;00mx\u001b[38;5;132;01m}\u001b[39;00m\u001b[38;5;124m'\u001b[39m\u001b[38;5;124m to numeric\u001b[39m\u001b[38;5;124m\"\u001b[39m)\n\u001b[0;32m   1702\u001b[0m     \u001b[38;5;28;01mtry\u001b[39;00m:\n\u001b[0;32m   1703\u001b[0m         x \u001b[38;5;241m=\u001b[39m \u001b[38;5;28mfloat\u001b[39m(x)\n",
      "\u001b[1;31mTypeError\u001b[0m: Could not convert string '45--8060---1100-130140130----8060150140140150701201406012014015014030703070309060130140130-------------9090-----------210200-605010---601501401401507012014060120140150140----5-10-555-505705-110320430-190290120250-260250---180-130230250-200260--190300190190-45250360------350---110-------280140--------200--200320300---' to numeric"
     ]
    }
   ],
   "source": [
    "df_new['Calories'].mean()"
   ]
  },
  {
   "cell_type": "code",
   "execution_count": null,
   "metadata": {},
   "outputs": [
    {
     "name": "stdout",
     "output_type": "stream",
     "text": [
      "                                            Drink_name Calories Fats(g)  \\\n",
      "95                                         Caffè Misto        -       -   \n",
      "116                          Cascara Coconutmilk Latte        -       -   \n",
      "19                   Tazo® Bottled Berry Blossom White       60       0   \n",
      "69               Starbucks® Doubleshot Protein Vanilla      200     2.5   \n",
      "53          Starbucks Doubleshot® Light Espresso Drink        -       -   \n",
      "153              Java Chip Frappuccino® Blended Coffee        -       -   \n",
      "120                                 Espresso Con Panna        -       -   \n",
      "14                      Starbucks® Caramel Iced Coffee        -       -   \n",
      "102                                Nariño 70 Cold Brew        5       0   \n",
      "106                                  Pike Place® Roast        5       0   \n",
      "11              Iced Espresso Classics - Vanilla Latte      130     2.5   \n",
      "4    Very Berry Hibiscus Starbucks Refreshers™ Beve...       60       0   \n",
      "107                          Toasted Coconut Cold Brew        -       -   \n",
      "42   Iced Espresso Classics - Skinny Caramel Macchiato        -       -   \n",
      "114                                         Cappuccino      120       4   \n",
      "112                                        Caffè Latte      190       7   \n",
      "151           Cupcake Crème Frappuccino® Blended Crème        -       -   \n",
      "35             Teavana® Shaken Iced Green Tea Lemonade       70       0   \n",
      "125                                   Iced Caffè Mocha      230       6   \n",
      "31                       Tazo® Bottled White Cranberry      140       0   \n",
      "51                Starbucks Doubleshot® Espresso Drink        -       -   \n",
      "75   Starbucks® Refreshers™ - Black Cherry Limeade ...        -       -   \n",
      "171                                      Vanilla Crème      200       6   \n",
      "73                  Starbucks® Iced Coffee Unsweetened       10       0   \n",
      "40                Iced Espresso Classics - Caffe Mocha      140     2.5   \n",
      "85                Tazo® Bottled Organic Iced Black Tea       60       0   \n",
      "47          Starbucks Doubleshot® Energy Vanilla Drink        -       -   \n",
      "29                      Tazo® Bottled Plum Pomegranate      140       0   \n",
      "16           Starbucks® Low Calorie Iced Coffee + Milk        -       -   \n",
      "110                 Starbucks® Signature Hot Chocolate      430      26   \n",
      "155         Lemon Bar Crème Frappuccino® Blended Crème        -       -   \n",
      "158                  Mocha Frappuccino® Blended Coffee      280     2.5   \n",
      "150           Coffee Light Frappuccino® Blended Coffee      110       0   \n",
      "5                                         Violet Drink        -       -   \n",
      "97                                     Coffee Traveler        -       -   \n",
      "91                  Teavana® Passion Tango® Herbal Tea        -       -   \n",
      "90                            Teavana® Mango Black Tea        -       -   \n",
      "169                         Organic Chocolate Milk Box        -       -   \n",
      "113                                        Caffè Mocha      290       8   \n",
      "48   Starbucks Doubleshot® Energy White Chocolate D...        -       -   \n",
      "54               Starbucks Doubleshot® Protein Caramel        -       -   \n",
      "59     Starbucks® Bottled Cold Brew Black, Unsweetened        -       -   \n",
      "108                      Vanilla Sweet Cream Cold Brew      110       6   \n",
      "39              Iced Espresso Classics - Vanilla Latte      130     2.5   \n",
      "\n",
      "    Carbohydrates(g) Sodium  \n",
      "95                 -      -  \n",
      "116                -      -  \n",
      "19                15     10  \n",
      "69                34    120  \n",
      "53                 -      -  \n",
      "153                -      -  \n",
      "120                -      -  \n",
      "14                 -      -  \n",
      "102                0     15  \n",
      "106                0     10  \n",
      "11                21     65  \n",
      "4                 14     10  \n",
      "107                -      -  \n",
      "42                 -      -  \n",
      "114               12    100  \n",
      "112               19    170  \n",
      "151                -      -  \n",
      "35                17      5  \n",
      "125               36     90  \n",
      "31                35     10  \n",
      "51                 -      -  \n",
      "75                 -      -  \n",
      "171               28    135  \n",
      "73                 2      0  \n",
      "40                23     90  \n",
      "85                15     10  \n",
      "47                 -      -  \n",
      "29                35     10  \n",
      "16                 -      -  \n",
      "110               45    115  \n",
      "155                -      -  \n",
      "158               60    220  \n",
      "150               24    200  \n",
      "5                  -      -  \n",
      "97                 -      -  \n",
      "91                 -      -  \n",
      "90                 -      -  \n",
      "169                -      -  \n",
      "113               42    140  \n",
      "48                 -      -  \n",
      "54                 -      -  \n",
      "59                 -      -  \n",
      "108               14     25  \n",
      "39                21     65  \n"
     ]
    }
   ],
   "source": [
    "new_df=df_new.sample(frac=0.25, random_state=1)\n",
    "print(new_df)"
   ]
  },
  {
   "cell_type": "code",
   "execution_count": null,
   "metadata": {},
   "outputs": [
    {
     "name": "stdout",
     "output_type": "stream",
     "text": [
      "                                            Drink_name Calories Fats(g)  \\\n",
      "66   Starbucks® Bottled Vanilla Light Frappuccino® ...        -       -   \n",
      "74           Starbucks® Low Calorie Iced Coffee + Milk        -       -   \n",
      "147   Cinnamon Dolce Light Frappuccino® Blended Coffee        -       -   \n",
      "7                          Evolution Fresh™ Defense Up        -       -   \n",
      "146         Cinnamon Dolce Frappuccino® Blended Coffee      350     4.5   \n",
      "3       Strawberry Acai Starbucks Refreshers™ Beverage       80       0   \n",
      "122                                         Flat White      180       7   \n",
      "50               Starbucks Doubleshot® Espresso Cubano        -       -   \n",
      "17                      Starbucks® Vanilla Iced Coffee        -       -   \n",
      "143                Caramel Frappuccino® Blended Coffee        -       -   \n",
      "33             Teavana® Shaken Iced Black Tea Lemonade       70       0   \n",
      "134                                    Latte Macchiato      190       7   \n",
      "37    Teavana® Shaken Iced Passion Tango™ Tea Lemonade       90       0   \n",
      "2                                           Pink Drink        -       -   \n",
      "32                      Teavana® Shaken Iced Black Tea       30       0   \n",
      "164    Strawberries & Crème Frappuccino® Blended Crème        -       -   \n",
      "76                      Starbucks® Vanilla Iced Coffee        -       -   \n",
      "131                                  Iced Skinny Mocha        -       -   \n",
      "20                           Tazo® Bottled Black Mango      150       0   \n",
      "163                 S'mores Frappuccino® Blended Crème        -       -   \n",
      "145              Chai Crème Frappuccino® Blended Crème        -       -   \n",
      "119                                           Espresso        -       -   \n",
      "0             Cool Lime Starbucks Refreshers™ Beverage       45       0   \n",
      "82                          Tazo® Bottled Iced Passion       70       0   \n",
      "62   Starbucks® Bottled Mocha Frappuccino® Coffee D...        -       -   \n",
      "117                               Cinnamon Dolce Latte      260       6   \n",
      "87                      Tazo® Bottled Plum Pomegranate      140       0   \n",
      "72              Starbucks® Iced Coffee Light Sweetened       50       0   \n",
      "137              Starbucks Doubleshot® on Ice Beverage       45       1   \n",
      "15                       Starbucks® Iced Coffee + Milk        -       -   \n",
      "168                               Cinnamon Dolce Crème      200       6   \n",
      "63   Starbucks® Bottled Mocha Light Frappuccino® Co...        -       -   \n",
      "18                                    Shaken Sweet Tea       80       0   \n",
      "\n",
      "    Carbohydrates(g) Sodium  \n",
      "66                 -      -  \n",
      "74                 -      -  \n",
      "147                -      -  \n",
      "7                  -      -  \n",
      "146               64      0  \n",
      "3                 18     10  \n",
      "122               18    160  \n",
      "50                 -      -  \n",
      "17                 -      -  \n",
      "143                -      -  \n",
      "33                17      0  \n",
      "134               19    160  \n",
      "37                24      0  \n",
      "2                  -      -  \n",
      "32                 8      5  \n",
      "164                -      -  \n",
      "76                 -      -  \n",
      "131                -      -  \n",
      "20                38     15  \n",
      "163                -      -  \n",
      "145                -      -  \n",
      "119                -      -  \n",
      "0                 11     10  \n",
      "82                17     10  \n",
      "62                 -      -  \n",
      "117               40    150  \n",
      "87                35     10  \n",
      "72                11      0  \n",
      "137                5     40  \n",
      "15                 -      -  \n",
      "168               28    135  \n",
      "63                 -      -  \n",
      "18                19     10  \n"
     ]
    }
   ],
   "source": [
    "remaining = df_new[~df_new.index.isin(new_df.index)]\n",
    "\n",
    "B = remaining.sample(frac=0.25, random_state=2)\n",
    "\n",
    "print(B)"
   ]
  },
  {
   "cell_type": "code",
   "execution_count": null,
   "metadata": {},
   "outputs": [
    {
     "name": "stdout",
     "output_type": "stream",
     "text": [
      "                                            Drink_name Calories Fats(g)  \\\n",
      "167  White Chocolate Mocha Frappuccino® Blended Coffee        -       -   \n",
      "127                     Iced Cascara Coconutmilk Latte        -       -   \n",
      "13          Iced Espresso Classics - Caramel Macchiato      130     2.5   \n",
      "123                               Iced Caffè Americano        -       -   \n",
      "173                                Strawberry Smoothie      300       2   \n",
      "152         Green Tea Crème Frappuccino® Blended Crème        -       -   \n",
      "175                                          Lemon Ale        -       -   \n",
      "81                           Tazo® Bottled Giant Peach      150       0   \n",
      "52   Starbucks Doubleshot® Espresso Salted Caramel ...        -       -   \n",
      "30                             Tazo® Bottled Tazoberry      150       0   \n",
      "140          Caffè Vanilla Frappuccino® Blended Coffee        -       -   \n",
      "23                           Tazo® Bottled Giant Peach      150       0   \n",
      "132                                 Iced Vanilla Latte      190       4   \n",
      "174                                         Ginger Ale        -       -   \n",
      "67                      Starbucks® Caramel Iced Coffee        -       -   \n",
      "138                                      Vanilla Latte      250       6   \n",
      "149                 Coffee Frappuccino® Blended Coffee        -       -   \n",
      "46            Starbucks Doubleshot® Energy Mocha Drink        -       -   \n",
      "109                                      Hot Chocolate      320       9   \n",
      "86                Tazo® Bottled Organic Iced Green Tea      120       0   \n",
      "135                                    Latte Macchiato      190       7   \n",
      "26                Tazo® Bottled Organic Black Lemonade      140       0   \n",
      "22                          Tazo® Bottled Brambleberry      140       0   \n",
      "10                               Iced Coffee with Milk        -       -   \n",
      "142  Caramel Cocoa Cluster Frappuccino® Blended Coffee        -       -   \n",
      "157     Midnight Mint Mocha Frappuccino® Blended Crème        -       -   \n",
      "36             Teavana® Shaken Iced Passion Tango™ Tea       30       0   \n",
      "124                                   Iced Caffè Latte      130     4.5   \n",
      "89                       Tazo® Bottled White Cranberry      140       0   \n",
      "94                                        Blonde Roast        5       0   \n",
      "60   Starbucks® Bottled Cold Brew Cocoa and Honey w...        -       -   \n",
      "12                Iced Espresso Classics - Caffe Mocha      140     2.5   \n",
      "27                Tazo® Bottled Organic Iced Black Tea       60       0   \n",
      "61   Starbucks® Bottled Dulce de Leche Frappuccino®...        -       -   \n",
      "160  Oprah Cinnamon Chai Crème Frappuccino® Blended...        -       -   \n",
      "25                          Tazo® Bottled Lemon Ginger      120       0   \n",
      "105                   Nitro Cold Brew with Sweet Cream       70       5   \n",
      "156    Midnight Mint Mocha Frappuccino® Blended Coffee        -       -   \n",
      "64   Starbucks® Bottled S'mores Frappuccino® Coffee...        -       -   \n",
      "79                      Tazo® Bottled Black with Lemon      140       0   \n",
      "34                      Teavana® Shaken Iced Green Tea       30       0   \n",
      "56           Starbucks Refreshers™ Strawberry Lemonade       90       0   \n",
      "68        Starbucks® Doubleshot Protein Dark Chocolate      210     2.5   \n",
      "70                       Starbucks® Iced Coffee + Milk        -       -   \n",
      "166      Vanilla Bean Crème Frappuccino® Blended Crème        -       -   \n",
      "162                S'mores Frappuccino® Blended Coffee        -       -   \n",
      "141    Caffè Vanilla Light Frappuccino® Blended Coffee        -       -   \n",
      "139                              White Chocolate Mocha      360      11   \n",
      "128                          Iced Cinnamon Dolce Latte      200       4   \n",
      "88                             Tazo® Bottled Tazoberry      150       0   \n",
      "\n",
      "    Carbohydrates(g) Sodium  \n",
      "167                -      -  \n",
      "127                -      -  \n",
      "13                21     65  \n",
      "123                -      -  \n",
      "173               60    130  \n",
      "152                -      -  \n",
      "175                -      -  \n",
      "81                37     15  \n",
      "52                 -      -  \n",
      "30                38     15  \n",
      "140                -      -  \n",
      "23                37     15  \n",
      "132               30    100  \n",
      "174                -      -  \n",
      "67                 -      -  \n",
      "138               37    150  \n",
      "149                -      -  \n",
      "46                 -      -  \n",
      "109               47    160  \n",
      "86                31     10  \n",
      "135               19    160  \n",
      "26                35     10  \n",
      "22                35     15  \n",
      "10                 -      -  \n",
      "142                -      -  \n",
      "157                -      -  \n",
      "36                 8      5  \n",
      "124               13    115  \n",
      "89                35     10  \n",
      "94                 0     10  \n",
      "60                 -      -  \n",
      "12                23     90  \n",
      "27                15     10  \n",
      "61                 -      -  \n",
      "160                -      -  \n",
      "25                31     10  \n",
      "105                5     20  \n",
      "156                -      -  \n",
      "64                 -      -  \n",
      "79                35     10  \n",
      "34                 8      5  \n",
      "56                27      0  \n",
      "68                33    115  \n",
      "70                 -      -  \n",
      "166                -      -  \n",
      "162                -      -  \n",
      "141                -      -  \n",
      "139               53    240  \n",
      "128               34     95  \n",
      "88                38     15  \n"
     ]
    }
   ],
   "source": [
    "remaining1 = df_new[~df_new.index.isin(new_df.index) &~ df_new.index.isin(B.index)]\n",
    "\n",
    "C = remaining1.sample(frac=0.5, random_state=3)\n",
    "print(C)"
   ]
  },
  {
   "cell_type": "code",
   "execution_count": null,
   "metadata": {},
   "outputs": [
    {
     "name": "stdout",
     "output_type": "stream",
     "text": [
      "                                            Drink_name Calories Fats(g)  \\\n",
      "1                                     Ombré Pink Drink        -       -   \n",
      "6      Evolution Fresh™ Cold-Pressed Apple Berry Juice        -       -   \n",
      "8              Evolution Fresh™ Organic Ginger Limeade      110       0   \n",
      "9                                          Iced Coffee        0       0   \n",
      "21                      Tazo® Bottled Black with Lemon      140       0   \n",
      "24                          Tazo® Bottled Iced Passion       70       0   \n",
      "28                Tazo® Bottled Organic Iced Green Tea      120       0   \n",
      "38                Teavana® Shaken Iced Peach Green Tea       60       0   \n",
      "41          Iced Espresso Classics - Caramel Macchiato      130     2.5   \n",
      "43       Iced Espresso Classics - Skinny Vanilla Latte        -       -   \n",
      "44           Starbucks Doubleshot® Energy Coffee Drink        -       -   \n",
      "45          Starbucks Doubleshot® Energy Mexican Mocha        -       -   \n",
      "49   Starbucks Doubleshot® Energy+Cinnamon Dolce Drink        -       -   \n",
      "55         Starbucks Refreshers™ Raspberry Pomegranate       90       0   \n",
      "57   Starbucks® Bottled Caramel Frappuccino® Coffee...        -       -   \n",
      "58   Starbucks® Bottled Coffee Frappuccino® Coffee ...        -       -   \n",
      "65   Starbucks® Bottled Vanilla Frappuccino® Coffee...        -       -   \n",
      "71                      Starbucks® Iced Coffee Caramel       60       0   \n",
      "77                   Tazo® Bottled Berry Blossom White       60       0   \n",
      "78                           Tazo® Bottled Black Mango      150       0   \n",
      "80                          Tazo® Bottled Brambleberry      140       0   \n",
      "83                          Tazo® Bottled Lemon Ginger      120       0   \n",
      "84                Tazo® Bottled Organic Black Lemonade      140       0   \n",
      "92                            Teavana® Peach Green Tea        -       -   \n",
      "93           White Chocolate Mocha Bottled Frappuccino        -       -   \n",
      "96                               Clover® Brewed Coffee       10       0   \n",
      "98                             Decaf Pike Place® Roast        5       0   \n",
      "99                                 Featured Dark Roast        5       0   \n",
      "100                                        Iced Coffee        5       0   \n",
      "101                              Iced Coffee with Milk        -       -   \n",
      "103                      Nariño 70 Cold Brew with Milk        0       0   \n",
      "104                                    Nitro Cold Brew        5       0   \n",
      "111                                    Caffè Americano        -       -   \n",
      "115                                  Caramel Macchiato      250       7   \n",
      "118                        Coconutmilk Mocha Macchiato      250       9   \n",
      "121                                 Espresso Macchiato        -       -   \n",
      "126                             Iced Caramel Macchiato      250       7   \n",
      "129                   Iced Coconutmilk Mocha Macchiato      260       9   \n",
      "130                   Iced Skinny Cinnamon Dolce Latte        -       -   \n",
      "133                         Iced White Chocolate Mocha      300       8   \n",
      "136                                       Skinny Mocha        -       -   \n",
      "144          Caramel Light Frappuccino® Blended Coffee        -       -   \n",
      "148          Cinnamon Roll Frappuccino® Blended Coffee        -       -   \n",
      "154        Java Chip Light Frappuccino® Blended Coffee        -       -   \n",
      "159            Mocha Light Frappuccino® Blended Coffee      140     0.5   \n",
      "161   Red Velvet Cake Crème Frappuccino® Blended Crème        -       -   \n",
      "165      The Pokémon™ GO Frappuccino® Blended Beverage        -       -   \n",
      "170                                Steamed Apple Juice        -       -   \n",
      "172                                 Chocolate Smoothie      320       5   \n",
      "176                                  Orange Cream Soda        -       -   \n",
      "\n",
      "    Carbohydrates(g) Sodium  \n",
      "1                  -      -  \n",
      "6                  -      -  \n",
      "8                 28      5  \n",
      "9                  0      0  \n",
      "21                35     10  \n",
      "24                17     10  \n",
      "28                31     10  \n",
      "38                15      0  \n",
      "41                21     65  \n",
      "43                 -      -  \n",
      "44                 -      -  \n",
      "45                 -      -  \n",
      "49                 -      -  \n",
      "55                27      0  \n",
      "57                 -      -  \n",
      "58                 -      -  \n",
      "65                 -      -  \n",
      "71                13      0  \n",
      "77                15     10  \n",
      "78                38     15  \n",
      "80                35     15  \n",
      "83                31     10  \n",
      "84                35     10  \n",
      "92                 -      -  \n",
      "93                 -      -  \n",
      "96                 0     10  \n",
      "98                 0     10  \n",
      "99                 0     10  \n",
      "100                0      5  \n",
      "101                -      -  \n",
      "103                0      0  \n",
      "104                0     10  \n",
      "111                -      -  \n",
      "115               35    150  \n",
      "118               32    180  \n",
      "121                -      -  \n",
      "126               37    150  \n",
      "129               34    180  \n",
      "130                -      -  \n",
      "133               47    190  \n",
      "136                -      -  \n",
      "144                -      -  \n",
      "148                -      -  \n",
      "154                -      -  \n",
      "159               28    180  \n",
      "161                -      -  \n",
      "165                -      -  \n",
      "170                -      -  \n",
      "172               53    170  \n",
      "176                -      -  \n"
     ]
    }
   ],
   "source": [
    "D = df_new[~df_new.index.isin(new_df.index) &~ df_new.index.isin(B.index) &~ df_new.index.isin(C.index)]\n",
    "print(D)"
   ]
  },
  {
   "cell_type": "code",
   "execution_count": null,
   "metadata": {},
   "outputs": [],
   "source": [
    "import matplotlib.pyplot as plt\n",
    "import seaborn as sns"
   ]
  },
  {
   "cell_type": "code",
   "execution_count": null,
   "metadata": {},
   "outputs": [
    {
     "data": {
      "text/plain": [
       "Index(['Drink_name', 'Calories', 'Fats(g)', 'Carbohydrates(g)', 'Sodium'], dtype='object')"
      ]
     },
     "execution_count": 102,
     "metadata": {},
     "output_type": "execute_result"
    }
   ],
   "source": [
    "df_new.columns"
   ]
  },
  {
   "cell_type": "code",
   "execution_count": null,
   "metadata": {},
   "outputs": [
    {
     "data": {
      "text/plain": [
       "(array([[99., 26., 16.,  8., 14.,  8.,  5.,  1.,  0.,  0.],\n",
       "        [85., 54.,  0.,  0.,  2.,  0.,  0., 18., 12.,  6.]]),\n",
       " array([ 0. ,  4.1,  8.2, 12.3, 16.4, 20.5, 24.6, 28.7, 32.8, 36.9, 41. ]),\n",
       " <a list of 2 BarContainer objects>)"
      ]
     },
     "execution_count": 129,
     "metadata": {},
     "output_type": "execute_result"
    },
    {
     "data": {
      "image/png": "[encoded data removed]",
      "text/plain": [
       "<Figure size 640x480 with 1 Axes>"
      ]
     },
     "metadata": {},
     "output_type": "display_data"
    }
   ],
   "source": [
    "plt.hist(df_new[['Calories','Fats(g)']])"
   ]
  },
  {
   "cell_type": "code",
   "execution_count": 161,
   "metadata": {},
   "outputs": [
    {
     "data": {
      "text/plain": [
       "<Axes: >"
      ]
     },
     "execution_count": 161,
     "metadata": {},
     "output_type": "execute_result"
    },
    {
     "data": {
      "image/png": "[encoded data removed]",
      "text/plain": [
       "<Figure size 640x480 with 1 Axes>"
      ]
     },
     "metadata": {},
     "output_type": "display_data"
    }
   ],
   "source": [
    "sns.boxplot(data=df_new[['Calories','Sodium']], color='g')"
   ]
  },
  {
   "cell_type": "code",
   "execution_count": null,
   "metadata": {},
   "outputs": [],
   "source": []
  }
 ],
 "metadata": {
  "kernelspec": {
   "display_name": "base",
   "language": "python",
   "name": "python3"
  },
  "language_info": {
   "codemirror_mode": {
    "name": "ipython",
    "version": 3
   },
   "file_extension": ".py",
   "mimetype": "text/x-python",
   "name": "python",
   "nbconvert_exporter": "python",
   "pygments_lexer": "ipython3",
   "version": "3.12.2"
  }
 },
 "nbformat": 4,
 "nbformat_minor": 2
}
