{
 "cells": [
  {
   "cell_type": "code",
   "execution_count": 23,
   "metadata": {},
   "outputs": [],
   "source": [
    "import pandas as pd"
   ]
  },
  {
   "cell_type": "code",
   "execution_count": 24,
   "metadata": {},
   "outputs": [],
   "source": [
    "df = pd.read_csv('./Data Collection.csv')"
   ]
  },
  {
   "cell_type": "code",
   "execution_count": 25,
   "metadata": {},
   "outputs": [
    {
     "data": {
      "text/html": [
       "<div>\n",
       "<style scoped>\n",
       "    .dataframe tbody tr th:only-of-type {\n",
       "        vertical-align: middle;\n",
       "    }\n",
       "\n",
       "    .dataframe tbody tr th {\n",
       "        vertical-align: top;\n",
       "    }\n",
       "\n",
       "    .dataframe thead th {\n",
       "        text-align: right;\n",
       "    }\n",
       "</style>\n",
       "<table border=\"1\" class=\"dataframe\">\n",
       "  <thead>\n",
       "    <tr style=\"text-align: right;\">\n",
       "      <th></th>\n",
       "      <th>Serial No.</th>\n",
       "      <th>Name</th>\n",
       "      <th>Calories/ kcal</th>\n",
       "      <th>Protein/gm</th>\n",
       "      <th>Carbohydrates/gm</th>\n",
       "      <th>Fiber/gm</th>\n",
       "      <th>Sugars/gm</th>\n",
       "      <th>Fat/gm</th>\n",
       "      <th>Sodium/mg</th>\n",
       "      <th>Potassium/g</th>\n",
       "      <th>Vitamin A/mcg</th>\n",
       "      <th>Vitamin C/ mg</th>\n",
       "      <th>Calcium/ gm</th>\n",
       "      <th>Iron/ mg</th>\n",
       "    </tr>\n",
       "  </thead>\n",
       "  <tbody>\n",
       "    <tr>\n",
       "      <th>0</th>\n",
       "      <td>1</td>\n",
       "      <td>Dal Tadka</td>\n",
       "      <td>230</td>\n",
       "      <td>9</td>\n",
       "      <td>32</td>\n",
       "      <td>7</td>\n",
       "      <td>4</td>\n",
       "      <td>7</td>\n",
       "      <td>500</td>\n",
       "      <td>0.8</td>\n",
       "      <td>500</td>\n",
       "      <td>15</td>\n",
       "      <td>5</td>\n",
       "      <td>5</td>\n",
       "    </tr>\n",
       "    <tr>\n",
       "      <th>1</th>\n",
       "      <td>2</td>\n",
       "      <td>Chole</td>\n",
       "      <td>300</td>\n",
       "      <td>12</td>\n",
       "      <td>45</td>\n",
       "      <td>10</td>\n",
       "      <td>10</td>\n",
       "      <td>10</td>\n",
       "      <td>600</td>\n",
       "      <td>5.1</td>\n",
       "      <td>250</td>\n",
       "      <td>14</td>\n",
       "      <td>3</td>\n",
       "      <td>1</td>\n",
       "    </tr>\n",
       "    <tr>\n",
       "      <th>2</th>\n",
       "      <td>3</td>\n",
       "      <td>Palak Paneer</td>\n",
       "      <td>240</td>\n",
       "      <td>12</td>\n",
       "      <td>12</td>\n",
       "      <td>4</td>\n",
       "      <td>20</td>\n",
       "      <td>16</td>\n",
       "      <td>550</td>\n",
       "      <td>3.1</td>\n",
       "      <td>800</td>\n",
       "      <td>40</td>\n",
       "      <td>200</td>\n",
       "      <td>10</td>\n",
       "    </tr>\n",
       "    <tr>\n",
       "      <th>3</th>\n",
       "      <td>4</td>\n",
       "      <td>Aalo Gobhi</td>\n",
       "      <td>230</td>\n",
       "      <td>6</td>\n",
       "      <td>27</td>\n",
       "      <td>6</td>\n",
       "      <td>27</td>\n",
       "      <td>9</td>\n",
       "      <td>480</td>\n",
       "      <td>3.9</td>\n",
       "      <td>360</td>\n",
       "      <td>50</td>\n",
       "      <td>10</td>\n",
       "      <td>2</td>\n",
       "    </tr>\n",
       "    <tr>\n",
       "      <th>4</th>\n",
       "      <td>5</td>\n",
       "      <td>Rajma</td>\n",
       "      <td>270</td>\n",
       "      <td>13</td>\n",
       "      <td>37</td>\n",
       "      <td>9</td>\n",
       "      <td>13</td>\n",
       "      <td>9</td>\n",
       "      <td>600</td>\n",
       "      <td>2.7</td>\n",
       "      <td>180</td>\n",
       "      <td>12</td>\n",
       "      <td>90</td>\n",
       "      <td>2</td>\n",
       "    </tr>\n",
       "  </tbody>\n",
       "</table>\n",
       "</div>"
      ],
      "text/plain": [
       "   Serial No.          Name  Calories/ kcal  Protein/gm  Carbohydrates/gm  \\\n",
       "0           1     Dal Tadka             230           9                32   \n",
       "1           2         Chole             300          12                45   \n",
       "2           3  Palak Paneer             240          12                12   \n",
       "3           4   Aalo Gobhi              230           6                27   \n",
       "4           5         Rajma             270          13                37   \n",
       "\n",
       "   Fiber/gm  Sugars/gm  Fat/gm  Sodium/mg  Potassium/g  Vitamin A/mcg  \\\n",
       "0         7          4       7        500          0.8            500   \n",
       "1        10         10      10        600          5.1            250   \n",
       "2         4         20      16        550          3.1            800   \n",
       "3         6         27       9        480          3.9            360   \n",
       "4         9         13       9        600          2.7            180   \n",
       "\n",
       "   Vitamin C/ mg  Calcium/ gm  Iron/ mg  \n",
       "0             15            5         5  \n",
       "1             14            3         1  \n",
       "2             40          200        10  \n",
       "3             50           10         2  \n",
       "4             12           90         2  "
      ]
     },
     "execution_count": 25,
     "metadata": {},
     "output_type": "execute_result"
    }
   ],
   "source": [
    "df.head(5)"
   ]
  },
  {
   "cell_type": "code",
   "execution_count": 26,
   "metadata": {},
   "outputs": [
    {
     "data": {
      "text/html": [
       "<div>\n",
       "<style scoped>\n",
       "    .dataframe tbody tr th:only-of-type {\n",
       "        vertical-align: middle;\n",
       "    }\n",
       "\n",
       "    .dataframe tbody tr th {\n",
       "        vertical-align: top;\n",
       "    }\n",
       "\n",
       "    .dataframe thead th {\n",
       "        text-align: right;\n",
       "    }\n",
       "</style>\n",
       "<table border=\"1\" class=\"dataframe\">\n",
       "  <thead>\n",
       "    <tr style=\"text-align: right;\">\n",
       "      <th></th>\n",
       "      <th>Serial No.</th>\n",
       "      <th>Name</th>\n",
       "      <th>Calories/ kcal</th>\n",
       "      <th>Protein/gm</th>\n",
       "      <th>Carbohydrates/gm</th>\n",
       "      <th>Fiber/gm</th>\n",
       "      <th>Sugars/gm</th>\n",
       "      <th>Fat/gm</th>\n",
       "      <th>Sodium/mg</th>\n",
       "      <th>Potassium/g</th>\n",
       "      <th>Vitamin A/mcg</th>\n",
       "      <th>Vitamin C/ mg</th>\n",
       "      <th>Calcium/ gm</th>\n",
       "      <th>Iron/ mg</th>\n",
       "    </tr>\n",
       "  </thead>\n",
       "  <tbody>\n",
       "    <tr>\n",
       "      <th>5</th>\n",
       "      <td>6</td>\n",
       "      <td>Raita</td>\n",
       "      <td>95</td>\n",
       "      <td>6</td>\n",
       "      <td>10</td>\n",
       "      <td>1</td>\n",
       "      <td>6</td>\n",
       "      <td>4</td>\n",
       "      <td>175</td>\n",
       "      <td>1.2</td>\n",
       "      <td>203</td>\n",
       "      <td>60</td>\n",
       "      <td>150</td>\n",
       "      <td>5</td>\n",
       "    </tr>\n",
       "    <tr>\n",
       "      <th>6</th>\n",
       "      <td>7</td>\n",
       "      <td>Aalo Parantha</td>\n",
       "      <td>270</td>\n",
       "      <td>7</td>\n",
       "      <td>37</td>\n",
       "      <td>6</td>\n",
       "      <td>12</td>\n",
       "      <td>9</td>\n",
       "      <td>240</td>\n",
       "      <td>3.8</td>\n",
       "      <td>400</td>\n",
       "      <td>10</td>\n",
       "      <td>30</td>\n",
       "      <td>2</td>\n",
       "    </tr>\n",
       "    <tr>\n",
       "      <th>7</th>\n",
       "      <td>8</td>\n",
       "      <td>Kadhi Pakora</td>\n",
       "      <td>350</td>\n",
       "      <td>15</td>\n",
       "      <td>40</td>\n",
       "      <td>5</td>\n",
       "      <td>10</td>\n",
       "      <td>15</td>\n",
       "      <td>800</td>\n",
       "      <td>3.1</td>\n",
       "      <td>100</td>\n",
       "      <td>50</td>\n",
       "      <td>120</td>\n",
       "      <td>7</td>\n",
       "    </tr>\n",
       "    <tr>\n",
       "      <th>8</th>\n",
       "      <td>9</td>\n",
       "      <td>Bhindi Masala</td>\n",
       "      <td>150</td>\n",
       "      <td>2</td>\n",
       "      <td>12</td>\n",
       "      <td>5</td>\n",
       "      <td>6</td>\n",
       "      <td>8</td>\n",
       "      <td>400</td>\n",
       "      <td>0.9</td>\n",
       "      <td>300</td>\n",
       "      <td>30</td>\n",
       "      <td>70</td>\n",
       "      <td>2</td>\n",
       "    </tr>\n",
       "    <tr>\n",
       "      <th>9</th>\n",
       "      <td>10</td>\n",
       "      <td>Baingan Bharta</td>\n",
       "      <td>170</td>\n",
       "      <td>2</td>\n",
       "      <td>17</td>\n",
       "      <td>6</td>\n",
       "      <td>7</td>\n",
       "      <td>9</td>\n",
       "      <td>200</td>\n",
       "      <td>1.8</td>\n",
       "      <td>210</td>\n",
       "      <td>15</td>\n",
       "      <td>40</td>\n",
       "      <td>1</td>\n",
       "    </tr>\n",
       "  </tbody>\n",
       "</table>\n",
       "</div>"
      ],
      "text/plain": [
       "   Serial No.            Name  Calories/ kcal  Protein/gm  Carbohydrates/gm  \\\n",
       "5           6           Raita              95           6                10   \n",
       "6           7   Aalo Parantha             270           7                37   \n",
       "7           8    Kadhi Pakora             350          15                40   \n",
       "8           9   Bhindi Masala             150           2                12   \n",
       "9          10  Baingan Bharta             170           2                17   \n",
       "\n",
       "   Fiber/gm  Sugars/gm  Fat/gm  Sodium/mg  Potassium/g  Vitamin A/mcg  \\\n",
       "5         1          6       4        175          1.2            203   \n",
       "6         6         12       9        240          3.8            400   \n",
       "7         5         10      15        800          3.1            100   \n",
       "8         5          6       8        400          0.9            300   \n",
       "9         6          7       9        200          1.8            210   \n",
       "\n",
       "   Vitamin C/ mg  Calcium/ gm  Iron/ mg  \n",
       "5             60          150         5  \n",
       "6             10           30         2  \n",
       "7             50          120         7  \n",
       "8             30           70         2  \n",
       "9             15           40         1  "
      ]
     },
     "execution_count": 26,
     "metadata": {},
     "output_type": "execute_result"
    }
   ],
   "source": [
    "df.tail(5)"
   ]
  },
  {
   "cell_type": "code",
   "execution_count": 27,
   "metadata": {},
   "outputs": [
    {
     "data": {
      "text/plain": [
       "(10, 14)"
      ]
     },
     "execution_count": 27,
     "metadata": {},
     "output_type": "execute_result"
    }
   ],
   "source": [
    "df.shape"
   ]
  },
  {
   "cell_type": "code",
   "execution_count": 28,
   "metadata": {},
   "outputs": [
    {
     "data": {
      "text/plain": [
       "Index(['Serial No.', 'Name', 'Calories/ kcal', 'Protein/gm',\n",
       "       'Carbohydrates/gm', 'Fiber/gm', 'Sugars/gm', 'Fat/gm', 'Sodium/mg',\n",
       "       'Potassium/g', 'Vitamin A/mcg', 'Vitamin C/ mg', 'Calcium/ gm',\n",
       "       'Iron/ mg'],\n",
       "      dtype='object')"
      ]
     },
     "execution_count": 28,
     "metadata": {},
     "output_type": "execute_result"
    }
   ],
   "source": [
    "df.columns"
   ]
  },
  {
   "cell_type": "code",
   "execution_count": 29,
   "metadata": {},
   "outputs": [
    {
     "data": {
      "text/plain": [
       "RangeIndex(start=0, stop=10, step=1)"
      ]
     },
     "execution_count": 29,
     "metadata": {},
     "output_type": "execute_result"
    }
   ],
   "source": [
    "df.index"
   ]
  },
  {
   "cell_type": "code",
   "execution_count": 30,
   "metadata": {},
   "outputs": [
    {
     "data": {
      "text/plain": [
       "array(['Dal Tadka', 'Chole', 'Palak Paneer', 'Aalo Gobhi ', 'Rajma',\n",
       "       'Raita', 'Aalo Parantha', 'Kadhi Pakora', 'Bhindi Masala',\n",
       "       'Baingan Bharta'], dtype=object)"
      ]
     },
     "execution_count": 30,
     "metadata": {},
     "output_type": "execute_result"
    }
   ],
   "source": [
    "df['Name'].unique()"
   ]
  },
  {
   "cell_type": "code",
   "execution_count": 31,
   "metadata": {},
   "outputs": [
    {
     "data": {
      "text/plain": [
       "10"
      ]
     },
     "execution_count": 31,
     "metadata": {},
     "output_type": "execute_result"
    }
   ],
   "source": [
    "df['Name'].nunique()"
   ]
  },
  {
   "cell_type": "code",
   "execution_count": 32,
   "metadata": {},
   "outputs": [
    {
     "name": "stdout",
     "output_type": "stream",
     "text": [
      "Serial No.            int64\n",
      "Name                 object\n",
      "Calories/ kcal        int64\n",
      "Protein/gm            int64\n",
      "Carbohydrates/gm      int64\n",
      "Fiber/gm              int64\n",
      "Sugars/gm             int64\n",
      "Fat/gm                int64\n",
      "Sodium/mg             int64\n",
      "Potassium/g         float64\n",
      "Vitamin A/mcg         int64\n",
      "Vitamin C/ mg         int64\n",
      "Calcium/ gm           int64\n",
      "Iron/ mg              int64\n",
      "dtype: object\n"
     ]
    }
   ],
   "source": [
    "print(df.dtypes)"
   ]
  },
  {
   "cell_type": "markdown",
   "metadata": {},
   "source": [
    "Serial No.- Numerical Discrete\n",
    "Name - Categorical Nominal"
   ]
  },
  {
   "cell_type": "markdown",
   "metadata": {},
   "source": [
    "Rest all are Numerical Continous as they contain numerical values which may contain a range of values."
   ]
  },
  {
   "cell_type": "code",
   "execution_count": 33,
   "metadata": {},
   "outputs": [
    {
     "data": {
      "text/plain": [
       "Serial No.          0\n",
       "Name                0\n",
       "Calories/ kcal      0\n",
       "Protein/gm          0\n",
       "Carbohydrates/gm    0\n",
       "Fiber/gm            0\n",
       "Sugars/gm           0\n",
       "Fat/gm              0\n",
       "Sodium/mg           0\n",
       "Potassium/g         0\n",
       "Vitamin A/mcg       0\n",
       "Vitamin C/ mg       0\n",
       "Calcium/ gm         0\n",
       "Iron/ mg            0\n",
       "dtype: int64"
      ]
     },
     "execution_count": 33,
     "metadata": {},
     "output_type": "execute_result"
    }
   ],
   "source": [
    "df.isnull().sum()"
   ]
  },
  {
   "cell_type": "code",
   "execution_count": 34,
   "metadata": {},
   "outputs": [
    {
     "data": {
      "text/plain": [
       "Serial No.          0\n",
       "Name                0\n",
       "Calories/ kcal      0\n",
       "Protein/gm          0\n",
       "Carbohydrates/gm    0\n",
       "Fiber/gm            0\n",
       "Sugars/gm           0\n",
       "Fat/gm              0\n",
       "Sodium/mg           0\n",
       "Potassium/g         0\n",
       "Vitamin A/mcg       0\n",
       "Vitamin C/ mg       0\n",
       "Calcium/ gm         0\n",
       "Iron/ mg            0\n",
       "dtype: int64"
      ]
     },
     "execution_count": 34,
     "metadata": {},
     "output_type": "execute_result"
    }
   ],
   "source": [
    "df.isna().sum()"
   ]
  },
  {
   "cell_type": "code",
   "execution_count": 37,
   "metadata": {},
   "outputs": [],
   "source": [
    "df_rename= df.rename(columns={'Serial No.':'Index','Name':'Dish','Carbohydrates/gm':'Carbs/gm'})"
   ]
  },
  {
   "cell_type": "code",
   "execution_count": 38,
   "metadata": {},
   "outputs": [
    {
     "data": {
      "text/plain": [
       "Index(['Index', 'Dish', 'Calories/ kcal', 'Protein/gm', 'Carbs/gm', 'Fiber/gm',\n",
       "       'Sugars/gm', 'Fat/gm', 'Sodium/mg', 'Potassium/g', 'Vitamin A/mcg',\n",
       "       'Vitamin C/ mg', 'Calcium/ gm', 'Iron/ mg'],\n",
       "      dtype='object')"
      ]
     },
     "execution_count": 38,
     "metadata": {},
     "output_type": "execute_result"
    }
   ],
   "source": [
    "df_rename.columns"
   ]
  },
  {
   "cell_type": "code",
   "execution_count": 123,
   "metadata": {},
   "outputs": [],
   "source": [
    "df_new = df_rename.drop(columns=['Iron/ mg','Calcium/ gm'])"
   ]
  },
  {
   "cell_type": "code",
   "execution_count": 124,
   "metadata": {},
   "outputs": [
    {
     "data": {
      "text/plain": [
       "Index(['Index', 'Dish', 'Calories/ kcal', 'Protein/gm', 'Carbs/gm', 'Fiber/gm',\n",
       "       'Sugars/gm', 'Fat/gm', 'Sodium/mg', 'Potassium/g', 'Vitamin A/mcg',\n",
       "       'Vitamin C/ mg'],\n",
       "      dtype='object')"
      ]
     },
     "execution_count": 124,
     "metadata": {},
     "output_type": "execute_result"
    }
   ],
   "source": [
    "df_new.columns"
   ]
  },
  {
   "cell_type": "markdown",
   "metadata": {},
   "source": [
    "I dropped Calcium and Iron because the data collected for them was weakly reliable."
   ]
  },
  {
   "cell_type": "code",
   "execution_count": 125,
   "metadata": {},
   "outputs": [
    {
     "data": {
      "text/plain": [
       "95"
      ]
     },
     "execution_count": 125,
     "metadata": {},
     "output_type": "execute_result"
    }
   ],
   "source": [
    "df_new['Calories/ kcal'].min()"
   ]
  },
  {
   "cell_type": "code",
   "execution_count": 109,
   "metadata": {},
   "outputs": [
    {
     "data": {
      "text/plain": [
       "350"
      ]
     },
     "execution_count": 109,
     "metadata": {},
     "output_type": "execute_result"
    }
   ],
   "source": [
    "df_new['Calories/ kcal'].max()"
   ]
  },
  {
   "cell_type": "code",
   "execution_count": 110,
   "metadata": {},
   "outputs": [
    {
     "data": {
      "text/plain": [
       "230.5"
      ]
     },
     "execution_count": 110,
     "metadata": {},
     "output_type": "execute_result"
    }
   ],
   "source": [
    "df_new['Calories/ kcal'].mean()"
   ]
  },
  {
   "cell_type": "code",
   "execution_count": 111,
   "metadata": {},
   "outputs": [
    {
     "data": {
      "text/plain": [
       "75.14615388989941"
      ]
     },
     "execution_count": 111,
     "metadata": {},
     "output_type": "execute_result"
    }
   ],
   "source": [
    "df_new['Calories/ kcal'].std()"
   ]
  },
  {
   "cell_type": "code",
   "execution_count": 112,
   "metadata": {},
   "outputs": [
    {
     "data": {
      "text/plain": [
       "5646.944444444444"
      ]
     },
     "execution_count": 112,
     "metadata": {},
     "output_type": "execute_result"
    }
   ],
   "source": [
    "df_new['Calories/ kcal'].var()"
   ]
  },
  {
   "cell_type": "code",
   "execution_count": 113,
   "metadata": {},
   "outputs": [
    {
     "data": {
      "text/plain": [
       "2305"
      ]
     },
     "execution_count": 113,
     "metadata": {},
     "output_type": "execute_result"
    }
   ],
   "source": [
    "df_new['Calories/ kcal'].sum()"
   ]
  },
  {
   "cell_type": "markdown",
   "metadata": {},
   "source": [
    "The same can be done for other columns by replacing the column name."
   ]
  },
  {
   "cell_type": "code",
   "execution_count": 164,
   "metadata": {},
   "outputs": [],
   "source": [
    "import numpy as np"
   ]
  },
  {
   "cell_type": "markdown",
   "metadata": {},
   "source": [
    "For the following tasks, they were understood from https://www.youtube.com/watch?v=CBCCcssjXQY\n"
   ]
  },
  {
   "cell_type": "code",
   "execution_count": 48,
   "metadata": {},
   "outputs": [
    {
     "name": "stdout",
     "output_type": "stream",
     "text": [
      "Help on method sample in module pandas.core.generic:\n",
      "\n",
      "sample(n: 'int | None' = None, frac: 'float | None' = None, replace: 'bool_t' = False, weights=None, random_state: 'RandomState | None' = None, axis: 'Axis | None' = None, ignore_index: 'bool_t' = False) -> 'Self' method of pandas.core.frame.DataFrame instance\n",
      "    Return a random sample of items from an axis of object.\n",
      "\n",
      "    You can use `random_state` for reproducibility.\n",
      "\n",
      "    Parameters\n",
      "    ----------\n",
      "    n : int, optional\n",
      "        Number of items from axis to return. Cannot be used with `frac`.\n",
      "        Default = 1 if `frac` = None.\n",
      "    frac : float, optional\n",
      "        Fraction of axis items to return. Cannot be used with `n`.\n",
      "    replace : bool, default False\n",
      "        Allow or disallow sampling of the same row more than once.\n",
      "    weights : str or ndarray-like, optional\n",
      "        Default 'None' results in equal probability weighting.\n",
      "        If passed a Series, will align with target object on index. Index\n",
      "        values in weights not found in sampled object will be ignored and\n",
      "        index values in sampled object not in weights will be assigned\n",
      "        weights of zero.\n",
      "        If called on a DataFrame, will accept the name of a column\n",
      "        when axis = 0.\n",
      "        Unless weights are a Series, weights must be same length as axis\n",
      "        being sampled.\n",
      "        If weights do not sum to 1, they will be normalized to sum to 1.\n",
      "        Missing values in the weights column will be treated as zero.\n",
      "        Infinite values not allowed.\n",
      "    random_state : int, array-like, BitGenerator, np.random.RandomState, np.random.Generator, optional\n",
      "        If int, array-like, or BitGenerator, seed for random number generator.\n",
      "        If np.random.RandomState or np.random.Generator, use as given.\n",
      "\n",
      "        .. versionchanged:: 1.4.0\n",
      "\n",
      "            np.random.Generator objects now accepted\n",
      "\n",
      "    axis : {0 or 'index', 1 or 'columns', None}, default None\n",
      "        Axis to sample. Accepts axis number or name. Default is stat axis\n",
      "        for given data type. For `Series` this parameter is unused and defaults to `None`.\n",
      "    ignore_index : bool, default False\n",
      "        If True, the resulting index will be labeled 0, 1, …, n - 1.\n",
      "\n",
      "        .. versionadded:: 1.3.0\n",
      "\n",
      "    Returns\n",
      "    -------\n",
      "    Series or DataFrame\n",
      "        A new object of same type as caller containing `n` items randomly\n",
      "        sampled from the caller object.\n",
      "\n",
      "    See Also\n",
      "    --------\n",
      "    DataFrameGroupBy.sample: Generates random samples from each group of a\n",
      "        DataFrame object.\n",
      "    SeriesGroupBy.sample: Generates random samples from each group of a\n",
      "        Series object.\n",
      "    numpy.random.choice: Generates a random sample from a given 1-D numpy\n",
      "        array.\n",
      "\n",
      "    Notes\n",
      "    -----\n",
      "    If `frac` > 1, `replacement` should be set to `True`.\n",
      "\n",
      "    Examples\n",
      "    --------\n",
      "    >>> df = pd.DataFrame({'num_legs': [2, 4, 8, 0],\n",
      "    ...                    'num_wings': [2, 0, 0, 0],\n",
      "    ...                    'num_specimen_seen': [10, 2, 1, 8]},\n",
      "    ...                   index=['falcon', 'dog', 'spider', 'fish'])\n",
      "    >>> df\n",
      "            num_legs  num_wings  num_specimen_seen\n",
      "    falcon         2          2                 10\n",
      "    dog            4          0                  2\n",
      "    spider         8          0                  1\n",
      "    fish           0          0                  8\n",
      "\n",
      "    Extract 3 random elements from the ``Series`` ``df['num_legs']``:\n",
      "    Note that we use `random_state` to ensure the reproducibility of\n",
      "    the examples.\n",
      "\n",
      "    >>> df['num_legs'].sample(n=3, random_state=1)\n",
      "    fish      0\n",
      "    spider    8\n",
      "    falcon    2\n",
      "    Name: num_legs, dtype: int64\n",
      "\n",
      "    A random 50% sample of the ``DataFrame`` with replacement:\n",
      "\n",
      "    >>> df.sample(frac=0.5, replace=True, random_state=1)\n",
      "          num_legs  num_wings  num_specimen_seen\n",
      "    dog          4          0                  2\n",
      "    fish         0          0                  8\n",
      "\n",
      "    An upsample sample of the ``DataFrame`` with replacement:\n",
      "    Note that `replace` parameter has to be `True` for `frac` parameter > 1.\n",
      "\n",
      "    >>> df.sample(frac=2, replace=True, random_state=1)\n",
      "            num_legs  num_wings  num_specimen_seen\n",
      "    dog            4          0                  2\n",
      "    fish           0          0                  8\n",
      "    falcon         2          2                 10\n",
      "    falcon         2          2                 10\n",
      "    fish           0          0                  8\n",
      "    dog            4          0                  2\n",
      "    fish           0          0                  8\n",
      "    dog            4          0                  2\n",
      "\n",
      "    Using a DataFrame column as weights. Rows with larger value in the\n",
      "    `num_specimen_seen` column are more likely to be sampled.\n",
      "\n",
      "    >>> df.sample(n=2, weights='num_specimen_seen', random_state=1)\n",
      "            num_legs  num_wings  num_specimen_seen\n",
      "    falcon         2          2                 10\n",
      "    fish           0          0                  8\n",
      "\n"
     ]
    }
   ],
   "source": [
    "help(df.sample)"
   ]
  },
  {
   "cell_type": "code",
   "execution_count": 126,
   "metadata": {},
   "outputs": [
    {
     "name": "stdout",
     "output_type": "stream",
     "text": [
      "   Index   Dish  Calories/ kcal  Protein/gm  Carbs/gm  Fiber/gm  Sugars/gm  \\\n",
      "4      5  Rajma             270          13        37         9         13   \n",
      "1      2  Chole             300          12        45        10         10   \n",
      "\n",
      "   Fat/gm  Sodium/mg  Potassium/g  Vitamin A/mcg  Vitamin C/ mg  \n",
      "4       9        600          2.7            180             12  \n",
      "1      10        600          5.1            250             14  \n"
     ]
    }
   ],
   "source": [
    "A=df_new.sample(frac=0.25, random_state=2, replace=False)\n",
    "print(A)"
   ]
  },
  {
   "cell_type": "code",
   "execution_count": 140,
   "metadata": {},
   "outputs": [
    {
     "name": "stdout",
     "output_type": "stream",
     "text": [
      "   Index            Dish  Calories/ kcal  Protein/gm  Carbs/gm  Fiber/gm  \\\n",
      "2      3    Palak Paneer             240          12        12         4   \n",
      "9     10  Baingan Bharta             170           2        17         6   \n",
      "\n",
      "   Sugars/gm  Fat/gm  Sodium/mg  Potassium/g  Vitamin A/mcg  Vitamin C/ mg  \n",
      "2         20      16        550          3.1            800             40  \n",
      "9          7       9        200          1.8            210             15  \n"
     ]
    }
   ],
   "source": [
    "B=df_new.sample(frac=0.25, random_state=1, replace=False)\n",
    "print(B)"
   ]
  },
  {
   "cell_type": "code",
   "execution_count": 159,
   "metadata": {},
   "outputs": [
    {
     "name": "stdout",
     "output_type": "stream",
     "text": [
      "   Index           Dish  Calories/ kcal  Protein/gm  Carbs/gm  Fiber/gm  \\\n",
      "3      4    Aalo Gobhi              230           6        27         6   \n",
      "8      9  Bhindi Masala             150           2        12         5   \n",
      "\n",
      "   Sugars/gm  Fat/gm  Sodium/mg  Potassium/g  Vitamin A/mcg  Vitamin C/ mg  \n",
      "3         27       9        480          3.9            360             50  \n",
      "8          6       8        400          0.9            300             30  \n"
     ]
    }
   ],
   "source": [
    "C=df_new.sample(frac=0.25, random_state=4, replace=False)\n",
    "print(C)"
   ]
  },
  {
   "cell_type": "code",
   "execution_count": 158,
   "metadata": {},
   "outputs": [
    {
     "name": "stdout",
     "output_type": "stream",
     "text": [
      "   Index           Dish  Calories/ kcal  Protein/gm  Carbs/gm  Fiber/gm  \\\n",
      "7      8   Kadhi Pakora             350          15        40         5   \n",
      "6      7  Aalo Parantha             270           7        37         6   \n",
      "\n",
      "   Sugars/gm  Fat/gm  Sodium/mg  Potassium/g  Vitamin A/mcg  Vitamin C/ mg  \n",
      "7         10      15        800          3.1            100             50  \n",
      "6         12       9        240          3.8            400             10  \n"
     ]
    }
   ],
   "source": [
    "D=df_new.sample(frac=0.25, random_state=100, replace=False)\n",
    "print(D)"
   ]
  },
  {
   "cell_type": "markdown",
   "metadata": {},
   "source": [
    "Sir this is the way I could create separate subsets. I faced lots of difficuties while using .isin. I even tried making separate subsets to ramdomply sample data from. For example- After choosing data set A I removed the rows already chosen and then created a new data frame to randomly sample from. But this way the math of probablity did not add up also the task became more exhaustive/"
   ]
  },
  {
   "cell_type": "code",
   "execution_count": 165,
   "metadata": {},
   "outputs": [],
   "source": [
    "import matplotlib.pyplot as plt\n",
    "import seaborn as sns"
   ]
  },
  {
   "cell_type": "code",
   "execution_count": 200,
   "metadata": {},
   "outputs": [
    {
     "data": {
      "text/plain": [
       "array([[<Axes: title={'center': 'Index'}>,\n",
       "        <Axes: title={'center': 'Calories/ kcal'}>,\n",
       "        <Axes: title={'center': 'Protein/gm'}>],\n",
       "       [<Axes: title={'center': 'Carbs/gm'}>,\n",
       "        <Axes: title={'center': 'Fiber/gm'}>,\n",
       "        <Axes: title={'center': 'Sugars/gm'}>],\n",
       "       [<Axes: title={'center': 'Fat/gm'}>,\n",
       "        <Axes: title={'center': 'Sodium/mg'}>,\n",
       "        <Axes: title={'center': 'Potassium/g'}>],\n",
       "       [<Axes: title={'center': 'Vitamin A/mcg'}>,\n",
       "        <Axes: title={'center': 'Vitamin C/ mg'}>, <Axes: >]],\n",
       "      dtype=object)"
      ]
     },
     "execution_count": 200,
     "metadata": {},
     "output_type": "execute_result"
    },
    {
     "data": {
      "image/png": "[encoded data removed]",
      "text/plain": [
       "<Figure size 640x480 with 12 Axes>"
      ]
     },
     "metadata": {},
     "output_type": "display_data"
    }
   ],
   "source": [
    "df_new.hist(bins=5, grid=False)"
   ]
  },
  {
   "cell_type": "code",
   "execution_count": 186,
   "metadata": {},
   "outputs": [
    {
     "name": "stdout",
     "output_type": "stream",
     "text": [
      "Help on method hist_frame in module pandas.plotting._core:\n",
      "\n",
      "hist_frame(column: 'IndexLabel | None' = None, by=None, grid: 'bool' = True, xlabelsize: 'int | None' = None, xrot: 'float | None' = None, ylabelsize: 'int | None' = None, yrot: 'float | None' = None, ax=None, sharex: 'bool' = False, sharey: 'bool' = False, figsize: 'tuple[int, int] | None' = None, layout: 'tuple[int, int] | None' = None, bins: 'int | Sequence[int]' = 10, backend: 'str | None' = None, legend: 'bool' = False, **kwargs) method of pandas.core.frame.DataFrame instance\n",
      "    Make a histogram of the DataFrame's columns.\n",
      "\n",
      "    A `histogram`_ is a representation of the distribution of data.\n",
      "    This function calls :meth:`matplotlib.pyplot.hist`, on each series in\n",
      "    the DataFrame, resulting in one histogram per column.\n",
      "\n",
      "    .. _histogram: https://en.wikipedia.org/wiki/Histogram\n",
      "\n",
      "    Parameters\n",
      "    ----------\n",
      "    data : DataFrame\n",
      "        The pandas object holding the data.\n",
      "    column : str or sequence, optional\n",
      "        If passed, will be used to limit data to a subset of columns.\n",
      "    by : object, optional\n",
      "        If passed, then used to form histograms for separate groups.\n",
      "    grid : bool, default True\n",
      "        Whether to show axis grid lines.\n",
      "    xlabelsize : int, default None\n",
      "        If specified changes the x-axis label size.\n",
      "    xrot : float, default None\n",
      "        Rotation of x axis labels. For example, a value of 90 displays the\n",
      "        x labels rotated 90 degrees clockwise.\n",
      "    ylabelsize : int, default None\n",
      "        If specified changes the y-axis label size.\n",
      "    yrot : float, default None\n",
      "        Rotation of y axis labels. For example, a value of 90 displays the\n",
      "        y labels rotated 90 degrees clockwise.\n",
      "    ax : Matplotlib axes object, default None\n",
      "        The axes to plot the histogram on.\n",
      "    sharex : bool, default True if ax is None else False\n",
      "        In case subplots=True, share x axis and set some x axis labels to\n",
      "        invisible; defaults to True if ax is None otherwise False if an ax\n",
      "        is passed in.\n",
      "        Note that passing in both an ax and sharex=True will alter all x axis\n",
      "        labels for all subplots in a figure.\n",
      "    sharey : bool, default False\n",
      "        In case subplots=True, share y axis and set some y axis labels to\n",
      "        invisible.\n",
      "    figsize : tuple, optional\n",
      "        The size in inches of the figure to create. Uses the value in\n",
      "        `matplotlib.rcParams` by default.\n",
      "    layout : tuple, optional\n",
      "        Tuple of (rows, columns) for the layout of the histograms.\n",
      "    bins : int or sequence, default 10\n",
      "        Number of histogram bins to be used. If an integer is given, bins + 1\n",
      "        bin edges are calculated and returned. If bins is a sequence, gives\n",
      "        bin edges, including left edge of first bin and right edge of last\n",
      "        bin. In this case, bins is returned unmodified.\n",
      "\n",
      "    backend : str, default None\n",
      "        Backend to use instead of the backend specified in the option\n",
      "        ``plotting.backend``. For instance, 'matplotlib'. Alternatively, to\n",
      "        specify the ``plotting.backend`` for the whole session, set\n",
      "        ``pd.options.plotting.backend``.\n",
      "\n",
      "    legend : bool, default False\n",
      "        Whether to show the legend.\n",
      "\n",
      "    **kwargs\n",
      "        All other plotting keyword arguments to be passed to\n",
      "        :meth:`matplotlib.pyplot.hist`.\n",
      "\n",
      "    Returns\n",
      "    -------\n",
      "    matplotlib.AxesSubplot or numpy.ndarray of them\n",
      "\n",
      "    See Also\n",
      "    --------\n",
      "    matplotlib.pyplot.hist : Plot a histogram using matplotlib.\n",
      "\n",
      "    Examples\n",
      "    --------\n",
      "    This example draws a histogram based on the length and width of\n",
      "    some animals, displayed in three bins\n",
      "\n",
      "    .. plot::\n",
      "        :context: close-figs\n",
      "\n",
      "        >>> data = {'length': [1.5, 0.5, 1.2, 0.9, 3],\n",
      "        ...         'width': [0.7, 0.2, 0.15, 0.2, 1.1]}\n",
      "        >>> index = ['pig', 'rabbit', 'duck', 'chicken', 'horse']\n",
      "        >>> df = pd.DataFrame(data, index=index)\n",
      "        >>> hist = df.hist(bins=3)\n",
      "\n"
     ]
    }
   ],
   "source": [
    "help(df.hist)"
   ]
  },
  {
   "cell_type": "code",
   "execution_count": 207,
   "metadata": {},
   "outputs": [
    {
     "data": {
      "text/plain": [
       "<Axes: >"
      ]
     },
     "execution_count": 207,
     "metadata": {},
     "output_type": "execute_result"
    },
    {
     "data": {
      "image/png": "[encoded data removed]",
      "text/plain": [
       "<Figure size 640x480 with 1 Axes>"
      ]
     },
     "metadata": {},
     "output_type": "display_data"
    }
   ],
   "source": [
    "df_new.boxplot()"
   ]
  },
  {
   "cell_type": "code",
   "execution_count": null,
   "metadata": {},
   "outputs": [],
   "source": []
  }
 ],
 "metadata": {
  "kernelspec": {
   "display_name": "base",
   "language": "python",
   "name": "python3"
  },
  "language_info": {
   "codemirror_mode": {
    "name": "ipython",
    "version": 3
   },
   "file_extension": ".py",
   "mimetype": "text/x-python",
   "name": "python",
   "nbconvert_exporter": "python",
   "pygments_lexer": "ipython3",
   "version": "3.12.2"
  }
 },
 "nbformat": 4,
 "nbformat_minor": 2
}
